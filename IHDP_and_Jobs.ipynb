{
  "nbformat": 4,
  "nbformat_minor": 0,
  "metadata": {
    "colab": {
      "name": "IHDP and Jobs",
      "provenance": []
    },
    "kernelspec": {
      "name": "python3",
      "display_name": "Python 3"
    },
    "language_info": {
      "name": "python"
    }
  },
  "cells": [
    {
      "cell_type": "markdown",
      "source": [
        "## 1"
      ],
      "metadata": {
        "id": "AnqzW4vIO8C6"
      }
    },
    {
      "cell_type": "code",
      "source": [
        "!pip install dowhy"
      ],
      "metadata": {
        "colab": {
          "base_uri": "https://localhost:8080/"
        },
        "id": "VFMjRvFE-lH8",
        "outputId": "7255acf1-d798-44d4-91f7-60119d8b1da8"
      },
      "execution_count": 3,
      "outputs": [
        {
          "output_type": "stream",
          "name": "stdout",
          "text": [
            "Collecting dowhy\n",
            "  Downloading dowhy-0.7-py3-none-any.whl (152 kB)\n",
            "\u001b[?25l\r\u001b[K     |██▏                             | 10 kB 16.7 MB/s eta 0:00:01\r\u001b[K     |████▎                           | 20 kB 20.4 MB/s eta 0:00:01\r\u001b[K     |██████▌                         | 30 kB 25.1 MB/s eta 0:00:01\r\u001b[K     |████████▋                       | 40 kB 29.5 MB/s eta 0:00:01\r\u001b[K     |██████████▊                     | 51 kB 26.2 MB/s eta 0:00:01\r\u001b[K     |█████████████                   | 61 kB 29.2 MB/s eta 0:00:01\r\u001b[K     |███████████████                 | 71 kB 27.7 MB/s eta 0:00:01\r\u001b[K     |█████████████████▎              | 81 kB 26.3 MB/s eta 0:00:01\r\u001b[K     |███████████████████▍            | 92 kB 28.4 MB/s eta 0:00:01\r\u001b[K     |█████████████████████▌          | 102 kB 30.2 MB/s eta 0:00:01\r\u001b[K     |███████████████████████▊        | 112 kB 30.2 MB/s eta 0:00:01\r\u001b[K     |█████████████████████████▉      | 122 kB 30.2 MB/s eta 0:00:01\r\u001b[K     |████████████████████████████    | 133 kB 30.2 MB/s eta 0:00:01\r\u001b[K     |██████████████████████████████▏ | 143 kB 30.2 MB/s eta 0:00:01\r\u001b[K     |████████████████████████████████| 152 kB 30.2 MB/s \n",
            "\u001b[?25hRequirement already satisfied: numpy>=1.15 in /usr/local/lib/python3.7/dist-packages (from dowhy) (1.21.5)\n",
            "Requirement already satisfied: scipy in /usr/local/lib/python3.7/dist-packages (from dowhy) (1.4.1)\n",
            "Requirement already satisfied: sympy>=1.4 in /usr/local/lib/python3.7/dist-packages (from dowhy) (1.7.1)\n",
            "Requirement already satisfied: pandas>=0.24 in /usr/local/lib/python3.7/dist-packages (from dowhy) (1.3.5)\n",
            "Collecting pydot>=1.4\n",
            "  Downloading pydot-1.4.2-py2.py3-none-any.whl (21 kB)\n",
            "Requirement already satisfied: statsmodels in /usr/local/lib/python3.7/dist-packages (from dowhy) (0.10.2)\n",
            "Requirement already satisfied: networkx>=2.0 in /usr/local/lib/python3.7/dist-packages (from dowhy) (2.6.3)\n",
            "Requirement already satisfied: scikit-learn in /usr/local/lib/python3.7/dist-packages (from dowhy) (1.0.2)\n",
            "Requirement already satisfied: python-dateutil>=2.7.3 in /usr/local/lib/python3.7/dist-packages (from pandas>=0.24->dowhy) (2.8.2)\n",
            "Requirement already satisfied: pytz>=2017.3 in /usr/local/lib/python3.7/dist-packages (from pandas>=0.24->dowhy) (2018.9)\n",
            "Requirement already satisfied: pyparsing>=2.1.4 in /usr/local/lib/python3.7/dist-packages (from pydot>=1.4->dowhy) (3.0.7)\n",
            "Requirement already satisfied: six>=1.5 in /usr/local/lib/python3.7/dist-packages (from python-dateutil>=2.7.3->pandas>=0.24->dowhy) (1.15.0)\n",
            "Requirement already satisfied: mpmath>=0.19 in /usr/local/lib/python3.7/dist-packages (from sympy>=1.4->dowhy) (1.2.1)\n",
            "Requirement already satisfied: joblib>=0.11 in /usr/local/lib/python3.7/dist-packages (from scikit-learn->dowhy) (1.1.0)\n",
            "Requirement already satisfied: threadpoolctl>=2.0.0 in /usr/local/lib/python3.7/dist-packages (from scikit-learn->dowhy) (3.1.0)\n",
            "Requirement already satisfied: patsy>=0.4.0 in /usr/local/lib/python3.7/dist-packages (from statsmodels->dowhy) (0.5.2)\n",
            "Installing collected packages: pydot, dowhy\n",
            "  Attempting uninstall: pydot\n",
            "    Found existing installation: pydot 1.3.0\n",
            "    Uninstalling pydot-1.3.0:\n",
            "      Successfully uninstalled pydot-1.3.0\n",
            "Successfully installed dowhy-0.7 pydot-1.4.2\n"
          ]
        }
      ]
    },
    {
      "cell_type": "code",
      "execution_count": 7,
      "metadata": {
        "id": "DclPdt3P-WwY"
      },
      "outputs": [],
      "source": [
        "import sys\n",
        "sys.path.append('dowhy')\n",
        "import random\n",
        "import numpy as np\n",
        "import pandas as pd\n",
        "from scipy import stats\n",
        "from sklearn.linear_model import LogisticRegression"
      ]
    },
    {
      "cell_type": "code",
      "source": [
        "data= pd.read_csv(\"https://raw.githubusercontent.com/AMLab-Amsterdam/CEVAE/master/datasets/IHDP/csv/ihdp_npci_1.csv\", header = None)\n",
        "col =  [\"t\", \"y_factual\", \"y_cfactual\", \"mu0\", \"mu1\" ,]\n",
        "\n",
        "for i in range(1,26):\n",
        "    col.append(\"x\"+str(i))\n",
        "data.columns = col\n",
        "data.head()"
      ],
      "metadata": {
        "colab": {
          "base_uri": "https://localhost:8080/",
          "height": 205
        },
        "id": "rj5DEW7o_Gof",
        "outputId": "7acad08d-cb5e-4e2a-bc1d-85d3a4f45891"
      },
      "execution_count": 29,
      "outputs": [
        {
          "output_type": "execute_result",
          "data": {
            "text/html": [
              "\n",
              "  <div id=\"df-4adc7467-71a3-42f6-94bb-425dd5820944\">\n",
              "    <div class=\"colab-df-container\">\n",
              "      <div>\n",
              "<style scoped>\n",
              "    .dataframe tbody tr th:only-of-type {\n",
              "        vertical-align: middle;\n",
              "    }\n",
              "\n",
              "    .dataframe tbody tr th {\n",
              "        vertical-align: top;\n",
              "    }\n",
              "\n",
              "    .dataframe thead th {\n",
              "        text-align: right;\n",
              "    }\n",
              "</style>\n",
              "<table border=\"1\" class=\"dataframe\">\n",
              "  <thead>\n",
              "    <tr style=\"text-align: right;\">\n",
              "      <th></th>\n",
              "      <th>treatment</th>\n",
              "      <th>y_factual</th>\n",
              "      <th>y_cfactual</th>\n",
              "      <th>mu0</th>\n",
              "      <th>mu1</th>\n",
              "      <th>x1</th>\n",
              "      <th>x2</th>\n",
              "      <th>x3</th>\n",
              "      <th>x4</th>\n",
              "      <th>x5</th>\n",
              "      <th>x6</th>\n",
              "      <th>x7</th>\n",
              "      <th>x8</th>\n",
              "      <th>x9</th>\n",
              "      <th>x10</th>\n",
              "      <th>x11</th>\n",
              "      <th>x12</th>\n",
              "      <th>x13</th>\n",
              "      <th>x14</th>\n",
              "      <th>x15</th>\n",
              "      <th>x16</th>\n",
              "      <th>x17</th>\n",
              "      <th>x18</th>\n",
              "      <th>x19</th>\n",
              "      <th>x20</th>\n",
              "      <th>x21</th>\n",
              "      <th>x22</th>\n",
              "      <th>x23</th>\n",
              "      <th>x24</th>\n",
              "      <th>x25</th>\n",
              "    </tr>\n",
              "  </thead>\n",
              "  <tbody>\n",
              "    <tr>\n",
              "      <th>0</th>\n",
              "      <td>1</td>\n",
              "      <td>5.599916</td>\n",
              "      <td>4.318780</td>\n",
              "      <td>3.268256</td>\n",
              "      <td>6.854457</td>\n",
              "      <td>-0.528603</td>\n",
              "      <td>-0.343455</td>\n",
              "      <td>1.128554</td>\n",
              "      <td>0.161703</td>\n",
              "      <td>-0.316603</td>\n",
              "      <td>1.295216</td>\n",
              "      <td>1</td>\n",
              "      <td>0</td>\n",
              "      <td>1</td>\n",
              "      <td>0</td>\n",
              "      <td>0</td>\n",
              "      <td>0</td>\n",
              "      <td>0</td>\n",
              "      <td>1</td>\n",
              "      <td>0</td>\n",
              "      <td>1</td>\n",
              "      <td>1</td>\n",
              "      <td>1</td>\n",
              "      <td>1</td>\n",
              "      <td>0</td>\n",
              "      <td>0</td>\n",
              "      <td>0</td>\n",
              "      <td>0</td>\n",
              "      <td>0</td>\n",
              "      <td>0</td>\n",
              "    </tr>\n",
              "    <tr>\n",
              "      <th>1</th>\n",
              "      <td>0</td>\n",
              "      <td>6.875856</td>\n",
              "      <td>7.856495</td>\n",
              "      <td>6.636059</td>\n",
              "      <td>7.562718</td>\n",
              "      <td>-1.736945</td>\n",
              "      <td>-1.802002</td>\n",
              "      <td>0.383828</td>\n",
              "      <td>2.244320</td>\n",
              "      <td>-0.629189</td>\n",
              "      <td>1.295216</td>\n",
              "      <td>0</td>\n",
              "      <td>0</td>\n",
              "      <td>0</td>\n",
              "      <td>1</td>\n",
              "      <td>0</td>\n",
              "      <td>0</td>\n",
              "      <td>1</td>\n",
              "      <td>1</td>\n",
              "      <td>1</td>\n",
              "      <td>1</td>\n",
              "      <td>1</td>\n",
              "      <td>1</td>\n",
              "      <td>1</td>\n",
              "      <td>0</td>\n",
              "      <td>0</td>\n",
              "      <td>0</td>\n",
              "      <td>0</td>\n",
              "      <td>0</td>\n",
              "      <td>0</td>\n",
              "    </tr>\n",
              "    <tr>\n",
              "      <th>2</th>\n",
              "      <td>0</td>\n",
              "      <td>2.996273</td>\n",
              "      <td>6.633952</td>\n",
              "      <td>1.570536</td>\n",
              "      <td>6.121617</td>\n",
              "      <td>-0.807451</td>\n",
              "      <td>-0.202946</td>\n",
              "      <td>-0.360898</td>\n",
              "      <td>-0.879606</td>\n",
              "      <td>0.808706</td>\n",
              "      <td>-0.526556</td>\n",
              "      <td>0</td>\n",
              "      <td>0</td>\n",
              "      <td>0</td>\n",
              "      <td>1</td>\n",
              "      <td>0</td>\n",
              "      <td>0</td>\n",
              "      <td>0</td>\n",
              "      <td>2</td>\n",
              "      <td>0</td>\n",
              "      <td>1</td>\n",
              "      <td>0</td>\n",
              "      <td>1</td>\n",
              "      <td>1</td>\n",
              "      <td>0</td>\n",
              "      <td>0</td>\n",
              "      <td>0</td>\n",
              "      <td>0</td>\n",
              "      <td>0</td>\n",
              "      <td>0</td>\n",
              "    </tr>\n",
              "    <tr>\n",
              "      <th>3</th>\n",
              "      <td>0</td>\n",
              "      <td>1.366206</td>\n",
              "      <td>5.697239</td>\n",
              "      <td>1.244738</td>\n",
              "      <td>5.889125</td>\n",
              "      <td>0.390083</td>\n",
              "      <td>0.596582</td>\n",
              "      <td>-1.850350</td>\n",
              "      <td>-0.879606</td>\n",
              "      <td>-0.004017</td>\n",
              "      <td>-0.857787</td>\n",
              "      <td>0</td>\n",
              "      <td>0</td>\n",
              "      <td>0</td>\n",
              "      <td>0</td>\n",
              "      <td>0</td>\n",
              "      <td>1</td>\n",
              "      <td>1</td>\n",
              "      <td>2</td>\n",
              "      <td>0</td>\n",
              "      <td>1</td>\n",
              "      <td>0</td>\n",
              "      <td>1</td>\n",
              "      <td>1</td>\n",
              "      <td>0</td>\n",
              "      <td>0</td>\n",
              "      <td>0</td>\n",
              "      <td>0</td>\n",
              "      <td>0</td>\n",
              "      <td>0</td>\n",
              "    </tr>\n",
              "    <tr>\n",
              "      <th>4</th>\n",
              "      <td>0</td>\n",
              "      <td>1.963538</td>\n",
              "      <td>6.202582</td>\n",
              "      <td>1.685048</td>\n",
              "      <td>6.191994</td>\n",
              "      <td>-1.045229</td>\n",
              "      <td>-0.602710</td>\n",
              "      <td>0.011465</td>\n",
              "      <td>0.161703</td>\n",
              "      <td>0.683672</td>\n",
              "      <td>-0.360940</td>\n",
              "      <td>1</td>\n",
              "      <td>0</td>\n",
              "      <td>0</td>\n",
              "      <td>0</td>\n",
              "      <td>0</td>\n",
              "      <td>1</td>\n",
              "      <td>1</td>\n",
              "      <td>1</td>\n",
              "      <td>0</td>\n",
              "      <td>1</td>\n",
              "      <td>1</td>\n",
              "      <td>1</td>\n",
              "      <td>1</td>\n",
              "      <td>0</td>\n",
              "      <td>0</td>\n",
              "      <td>0</td>\n",
              "      <td>0</td>\n",
              "      <td>0</td>\n",
              "      <td>0</td>\n",
              "    </tr>\n",
              "  </tbody>\n",
              "</table>\n",
              "</div>\n",
              "      <button class=\"colab-df-convert\" onclick=\"convertToInteractive('df-4adc7467-71a3-42f6-94bb-425dd5820944')\"\n",
              "              title=\"Convert this dataframe to an interactive table.\"\n",
              "              style=\"display:none;\">\n",
              "        \n",
              "  <svg xmlns=\"http://www.w3.org/2000/svg\" height=\"24px\"viewBox=\"0 0 24 24\"\n",
              "       width=\"24px\">\n",
              "    <path d=\"M0 0h24v24H0V0z\" fill=\"none\"/>\n",
              "    <path d=\"M18.56 5.44l.94 2.06.94-2.06 2.06-.94-2.06-.94-.94-2.06-.94 2.06-2.06.94zm-11 1L8.5 8.5l.94-2.06 2.06-.94-2.06-.94L8.5 2.5l-.94 2.06-2.06.94zm10 10l.94 2.06.94-2.06 2.06-.94-2.06-.94-.94-2.06-.94 2.06-2.06.94z\"/><path d=\"M17.41 7.96l-1.37-1.37c-.4-.4-.92-.59-1.43-.59-.52 0-1.04.2-1.43.59L10.3 9.45l-7.72 7.72c-.78.78-.78 2.05 0 2.83L4 21.41c.39.39.9.59 1.41.59.51 0 1.02-.2 1.41-.59l7.78-7.78 2.81-2.81c.8-.78.8-2.07 0-2.86zM5.41 20L4 18.59l7.72-7.72 1.47 1.35L5.41 20z\"/>\n",
              "  </svg>\n",
              "      </button>\n",
              "      \n",
              "  <style>\n",
              "    .colab-df-container {\n",
              "      display:flex;\n",
              "      flex-wrap:wrap;\n",
              "      gap: 12px;\n",
              "    }\n",
              "\n",
              "    .colab-df-convert {\n",
              "      background-color: #E8F0FE;\n",
              "      border: none;\n",
              "      border-radius: 50%;\n",
              "      cursor: pointer;\n",
              "      display: none;\n",
              "      fill: #1967D2;\n",
              "      height: 32px;\n",
              "      padding: 0 0 0 0;\n",
              "      width: 32px;\n",
              "    }\n",
              "\n",
              "    .colab-df-convert:hover {\n",
              "      background-color: #E2EBFA;\n",
              "      box-shadow: 0px 1px 2px rgba(60, 64, 67, 0.3), 0px 1px 3px 1px rgba(60, 64, 67, 0.15);\n",
              "      fill: #174EA6;\n",
              "    }\n",
              "\n",
              "    [theme=dark] .colab-df-convert {\n",
              "      background-color: #3B4455;\n",
              "      fill: #D2E3FC;\n",
              "    }\n",
              "\n",
              "    [theme=dark] .colab-df-convert:hover {\n",
              "      background-color: #434B5C;\n",
              "      box-shadow: 0px 1px 3px 1px rgba(0, 0, 0, 0.15);\n",
              "      filter: drop-shadow(0px 1px 2px rgba(0, 0, 0, 0.3));\n",
              "      fill: #FFFFFF;\n",
              "    }\n",
              "  </style>\n",
              "\n",
              "      <script>\n",
              "        const buttonEl =\n",
              "          document.querySelector('#df-4adc7467-71a3-42f6-94bb-425dd5820944 button.colab-df-convert');\n",
              "        buttonEl.style.display =\n",
              "          google.colab.kernel.accessAllowed ? 'block' : 'none';\n",
              "\n",
              "        async function convertToInteractive(key) {\n",
              "          const element = document.querySelector('#df-4adc7467-71a3-42f6-94bb-425dd5820944');\n",
              "          const dataTable =\n",
              "            await google.colab.kernel.invokeFunction('convertToInteractive',\n",
              "                                                     [key], {});\n",
              "          if (!dataTable) return;\n",
              "\n",
              "          const docLinkHtml = 'Like what you see? Visit the ' +\n",
              "            '<a target=\"_blank\" href=https://colab.research.google.com/notebooks/data_table.ipynb>data table notebook</a>'\n",
              "            + ' to learn more about interactive tables.';\n",
              "          element.innerHTML = '';\n",
              "          dataTable['output_type'] = 'display_data';\n",
              "          await google.colab.output.renderOutput(dataTable, element);\n",
              "          const docLink = document.createElement('div');\n",
              "          docLink.innerHTML = docLinkHtml;\n",
              "          element.appendChild(docLink);\n",
              "        }\n",
              "      </script>\n",
              "    </div>\n",
              "  </div>\n",
              "  "
            ],
            "text/plain": [
              "   treatment  y_factual  y_cfactual       mu0       mu1        x1        x2  \\\n",
              "0          1   5.599916    4.318780  3.268256  6.854457 -0.528603 -0.343455   \n",
              "1          0   6.875856    7.856495  6.636059  7.562718 -1.736945 -1.802002   \n",
              "2          0   2.996273    6.633952  1.570536  6.121617 -0.807451 -0.202946   \n",
              "3          0   1.366206    5.697239  1.244738  5.889125  0.390083  0.596582   \n",
              "4          0   1.963538    6.202582  1.685048  6.191994 -1.045229 -0.602710   \n",
              "\n",
              "         x3        x4        x5        x6  x7  x8  x9  x10  x11  x12  x13  \\\n",
              "0  1.128554  0.161703 -0.316603  1.295216   1   0   1    0    0    0    0   \n",
              "1  0.383828  2.244320 -0.629189  1.295216   0   0   0    1    0    0    1   \n",
              "2 -0.360898 -0.879606  0.808706 -0.526556   0   0   0    1    0    0    0   \n",
              "3 -1.850350 -0.879606 -0.004017 -0.857787   0   0   0    0    0    1    1   \n",
              "4  0.011465  0.161703  0.683672 -0.360940   1   0   0    0    0    1    1   \n",
              "\n",
              "   x14  x15  x16  x17  x18  x19  x20  x21  x22  x23  x24  x25  \n",
              "0    1    0    1    1    1    1    0    0    0    0    0    0  \n",
              "1    1    1    1    1    1    1    0    0    0    0    0    0  \n",
              "2    2    0    1    0    1    1    0    0    0    0    0    0  \n",
              "3    2    0    1    0    1    1    0    0    0    0    0    0  \n",
              "4    1    0    1    1    1    1    0    0    0    0    0    0  "
            ]
          },
          "metadata": {},
          "execution_count": 29
        }
      ]
    },
    {
      "cell_type": "code",
      "source": [
        "data.info"
      ],
      "metadata": {
        "colab": {
          "base_uri": "https://localhost:8080/"
        },
        "id": "nEgLFrqCIQ90",
        "outputId": "5f94bae3-b640-408d-f3fe-1361fb66e233"
      },
      "execution_count": 28,
      "outputs": [
        {
          "output_type": "execute_result",
          "data": {
            "text/plain": [
              "<bound method DataFrame.info of                      0                   1                   2   \\\n",
              "0                    x1                  x2                  x3   \n",
              "1      1.39739503392468   0.996346250402707   -1.10562394853556   \n",
              "2     0.269032653832557   0.196818122274482   0.383827971313067   \n",
              "3      1.05153683313016    1.79587437853093   -1.10562394853556   \n",
              "4     0.662446357236323   0.196818122274482  -0.733260968573404   \n",
              "..                  ...                 ...                 ...   \n",
              "743    -1.8536720535438   -2.20176626211019    1.50091691119954   \n",
              "744   -1.06684464673627   -1.40223813398197    1.12855393123738   \n",
              "745   -1.04522850918662   -1.33727610641504    1.12855393123738   \n",
              "746  -0.115734594551345  -0.602710005853743   -1.10562394853556   \n",
              "747    1.41901117147433    1.39611031446682  -0.733260968573404   \n",
              "\n",
              "                     3                   4                   5    6    7   \\\n",
              "0                    x4                  x5                  x6   x7   x8   \n",
              "1    -0.879605988141577   0.308568842260288   -1.02340238940177  1.0  0.0   \n",
              "2     0.161702527138546   -0.62918919341276    1.46083153027908  1.0  0.0   \n",
              "3     0.161702527138546   -0.62918919341276   0.963984746342914  1.0  0.0   \n",
              "4    -0.879605988141577   0.371086044638491  -0.692171200110988  1.0  0.0   \n",
              "..                  ...                 ...                 ...  ...  ...   \n",
              "743   0.161702527138546  -0.129051574387134   -1.02340238940177  1.0  0.0   \n",
              "744    2.24431955769879   0.371086044638491    2.28890950350603  0.0  0.0   \n",
              "745  -0.879605988141577   0.683672056529507   0.301522367761353  1.0  0.0   \n",
              "746    2.24431955769879   0.558637651773101    2.78575628744221  1.0  0.0   \n",
              "747    2.24431955769879  -0.441637586278151  -0.195324416174817  0.0  1.0   \n",
              "\n",
              "      8    9    10   11   12   13   14   15   16   17   18   19   20   21  \\\n",
              "0     x9  x10  x11  x12  x13  x14  x15  x16  x17  x18  x19  x20  x21  x22   \n",
              "1    0.0  0.0  1.0  0.0  1.0  1.0  0.0  0.0  1.0  1.0  0.0  0.0  0.0  0.0   \n",
              "2    1.0  0.0  0.0  1.0  0.0  0.0  0.0  1.0  1.0  1.0  1.0  0.0  0.0  0.0   \n",
              "3    1.0  1.0  0.0  0.0  0.0  0.0  0.0  1.0  1.0  1.0  0.0  0.0  0.0  0.0   \n",
              "4    0.0  0.0  0.0  1.0  0.0  1.0  0.0  1.0  0.0  1.0  0.0  1.0  0.0  0.0   \n",
              "..   ...  ...  ...  ...  ...  ...  ...  ...  ...  ...  ...  ...  ...  ...   \n",
              "743  0.0  1.0  0.0  0.0  0.0  0.0  0.0  1.0  0.0  1.0  0.0  0.0  0.0  0.0   \n",
              "744  1.0  0.0  1.0  0.0  1.0  0.0  0.0  1.0  0.0  1.0  0.0  1.0  0.0  0.0   \n",
              "745  1.0  0.0  0.0  0.0  0.0  1.0  0.0  1.0  1.0  1.0  1.0  0.0  0.0  0.0   \n",
              "746  1.0  0.0  0.0  1.0  0.0  0.0  0.0  1.0  1.0  1.0  0.0  0.0  0.0  0.0   \n",
              "747  1.0  0.0  1.0  0.0  0.0  0.0  0.0  1.0  0.0  1.0  0.0  0.0  0.0  0.0   \n",
              "\n",
              "      22   23   24   25                26                  27  \\\n",
              "0    x23  x24  x25    t                yf                 ycf   \n",
              "1    0.0  0.0  1.0  1.0  4.77123234193084  -0.298508906888175   \n",
              "2    0.0  0.0  0.0  0.0  2.95627286266983    5.78376967916798   \n",
              "3    0.0  0.0  1.0  0.0  4.16416445326137    7.05578855587237   \n",
              "4    0.0  0.0  0.0  1.0  6.17230732224342    1.37969725260706   \n",
              "..   ...  ...  ...  ...               ...                 ...   \n",
              "743  1.0  0.0  0.0  0.0  2.24405013925944    5.26970079829555   \n",
              "744  0.0  0.0  0.0  0.0  6.25317454341297    8.39333786678472   \n",
              "745  0.0  0.0  0.0  0.0   2.9082345886245    6.89720697886871   \n",
              "746  1.0  0.0  0.0  0.0  8.32452035909233    9.20825148379144   \n",
              "747  0.0  0.0  1.0  0.0  1.91564389842638     6.2982994835864   \n",
              "\n",
              "                      28  \n",
              "0                    ite  \n",
              "1      4.657928181186749  \n",
              "2       3.42860435464612  \n",
              "3       3.65819485355208  \n",
              "4       4.58550544944055  \n",
              "..                   ...  \n",
              "743     4.59824598197549  \n",
              "744   0.9408552202759406  \n",
              "745     4.37373623145187  \n",
              "746  0.35265293410354026  \n",
              "747    4.115977488853769  \n",
              "\n",
              "[748 rows x 29 columns]>"
            ]
          },
          "metadata": {},
          "execution_count": 28
        }
      ]
    },
    {
      "cell_type": "code",
      "source": [
        "data.describe"
      ],
      "metadata": {
        "colab": {
          "base_uri": "https://localhost:8080/"
        },
        "id": "a0yqHds4ITnP",
        "outputId": "67b29de9-5615-421c-d2a1-e8c17b9c7612"
      },
      "execution_count": 24,
      "outputs": [
        {
          "output_type": "execute_result",
          "data": {
            "text/plain": [
              "<bound method NDFrame.describe of                       t                  yf                 ycf  \\\n",
              "0                    x1                  x2                  x3   \n",
              "1      1.39739503392468   0.996346250402707   -1.10562394853556   \n",
              "2     0.269032653832557   0.196818122274482   0.383827971313067   \n",
              "3      1.05153683313016    1.79587437853093   -1.10562394853556   \n",
              "4     0.662446357236323   0.196818122274482  -0.733260968573404   \n",
              "..                  ...                 ...                 ...   \n",
              "743    -1.8536720535438   -2.20176626211019    1.50091691119954   \n",
              "744   -1.06684464673627   -1.40223813398197    1.12855393123738   \n",
              "745   -1.04522850918662   -1.33727610641504    1.12855393123738   \n",
              "746  -0.115734594551345  -0.602710005853743   -1.10562394853556   \n",
              "747    1.41901117147433    1.39611031446682  -0.733260968573404   \n",
              "\n",
              "                    mu0                 mu1                  x1   x2   x3  \\\n",
              "0                    x4                  x5                  x6   x7   x8   \n",
              "1    -0.879605988141577   0.308568842260288   -1.02340238940177  1.0  0.0   \n",
              "2     0.161702527138546   -0.62918919341276    1.46083153027908  1.0  0.0   \n",
              "3     0.161702527138546   -0.62918919341276   0.963984746342914  1.0  0.0   \n",
              "4    -0.879605988141577   0.371086044638491  -0.692171200110988  1.0  0.0   \n",
              "..                  ...                 ...                 ...  ...  ...   \n",
              "743   0.161702527138546  -0.129051574387134   -1.02340238940177  1.0  0.0   \n",
              "744    2.24431955769879   0.371086044638491    2.28890950350603  0.0  0.0   \n",
              "745  -0.879605988141577   0.683672056529507   0.301522367761353  1.0  0.0   \n",
              "746    2.24431955769879   0.558637651773101    2.78575628744221  1.0  0.0   \n",
              "747    2.24431955769879  -0.441637586278151  -0.195324416174817  0.0  1.0   \n",
              "\n",
              "      x4   x5   x6   x7   x8   x9  x10  x11  x12  x13  x14  x15  x16  x17  \\\n",
              "0     x9  x10  x11  x12  x13  x14  x15  x16  x17  x18  x19  x20  x21  x22   \n",
              "1    0.0  0.0  1.0  0.0  1.0  1.0  0.0  0.0  1.0  1.0  0.0  0.0  0.0  0.0   \n",
              "2    1.0  0.0  0.0  1.0  0.0  0.0  0.0  1.0  1.0  1.0  1.0  0.0  0.0  0.0   \n",
              "3    1.0  1.0  0.0  0.0  0.0  0.0  0.0  1.0  1.0  1.0  0.0  0.0  0.0  0.0   \n",
              "4    0.0  0.0  0.0  1.0  0.0  1.0  0.0  1.0  0.0  1.0  0.0  1.0  0.0  0.0   \n",
              "..   ...  ...  ...  ...  ...  ...  ...  ...  ...  ...  ...  ...  ...  ...   \n",
              "743  0.0  1.0  0.0  0.0  0.0  0.0  0.0  1.0  0.0  1.0  0.0  0.0  0.0  0.0   \n",
              "744  1.0  0.0  1.0  0.0  1.0  0.0  0.0  1.0  0.0  1.0  0.0  1.0  0.0  0.0   \n",
              "745  1.0  0.0  0.0  0.0  0.0  1.0  0.0  1.0  1.0  1.0  1.0  0.0  0.0  0.0   \n",
              "746  1.0  0.0  0.0  1.0  0.0  0.0  0.0  1.0  1.0  1.0  0.0  0.0  0.0  0.0   \n",
              "747  1.0  0.0  1.0  0.0  0.0  0.0  0.0  1.0  0.0  1.0  0.0  0.0  0.0  0.0   \n",
              "\n",
              "     x18  x19  x20  x21               x22                 x23  \\\n",
              "0    x23  x24  x25    t                yf                 ycf   \n",
              "1    0.0  0.0  1.0  1.0  4.77123234193084  -0.298508906888175   \n",
              "2    0.0  0.0  0.0  0.0  2.95627286266983    5.78376967916798   \n",
              "3    0.0  0.0  1.0  0.0  4.16416445326137    7.05578855587237   \n",
              "4    0.0  0.0  0.0  1.0  6.17230732224342    1.37969725260706   \n",
              "..   ...  ...  ...  ...               ...                 ...   \n",
              "743  1.0  0.0  0.0  0.0  2.24405013925944    5.26970079829555   \n",
              "744  0.0  0.0  0.0  0.0  6.25317454341297    8.39333786678472   \n",
              "745  0.0  0.0  0.0  0.0   2.9082345886245    6.89720697886871   \n",
              "746  1.0  0.0  0.0  0.0  8.32452035909233    9.20825148379144   \n",
              "747  0.0  0.0  1.0  0.0  1.91564389842638     6.2982994835864   \n",
              "\n",
              "                     x24  \n",
              "0                    ite  \n",
              "1      4.657928181186749  \n",
              "2       3.42860435464612  \n",
              "3       3.65819485355208  \n",
              "4       4.58550544944055  \n",
              "..                   ...  \n",
              "743     4.59824598197549  \n",
              "744   0.9408552202759406  \n",
              "745     4.37373623145187  \n",
              "746  0.35265293410354026  \n",
              "747    4.115977488853769  \n",
              "\n",
              "[748 rows x 29 columns]>"
            ]
          },
          "metadata": {},
          "execution_count": 24
        }
      ]
    },
    {
      "cell_type": "code",
      "source": [
        "from dowhy import CausalModel"
      ],
      "metadata": {
        "id": "WUm2Dirr_dbq"
      },
      "execution_count": 30,
      "outputs": []
    },
    {
      "cell_type": "code",
      "source": [
        "xs = \"\"\n",
        "for i in range(1,26):\n",
        "    xs += (\"x\"+str(i)+\"+\")\n",
        "\n",
        "model=CausalModel(\n",
        "        data = data,\n",
        "        treatment='treatment',\n",
        "        outcome='y_factual',\n",
        "        common_causes=xs.split('+')\n",
        "        )\n"
      ],
      "metadata": {
        "id": "OnbZlIYK_XTu"
      },
      "execution_count": 31,
      "outputs": []
    },
    {
      "cell_type": "markdown",
      "source": [
        "## 2"
      ],
      "metadata": {
        "id": "HUgAMKR9O-lz"
      }
    },
    {
      "cell_type": "code",
      "source": [
        "identified_estimand = model.identify_effect()"
      ],
      "metadata": {
        "id": "Y7GE3mvh_fbf"
      },
      "execution_count": 32,
      "outputs": []
    },
    {
      "cell_type": "code",
      "source": [
        "\n",
        "# Estimate the causal effect and compare it with Average Treatment Effect\n",
        "estimate = model.estimate_effect(identified_estimand,\n",
        "        method_name=\"backdoor.linear_regression\", test_significance=True\n",
        ")\n",
        "\n",
        "print(estimate)\n",
        "\n",
        "print(\"Causal Estimate is \" + str(estimate.value))\n",
        "data_1 = data[data[\"treatment\"]==1]\n",
        "data_0 = data[data[\"treatment\"]==0]\n",
        "\n",
        "print(\"ATE\", np.mean(data_1[\"y_factual\"])- np.mean(data_0[\"y_factual\"]))"
      ],
      "metadata": {
        "colab": {
          "base_uri": "https://localhost:8080/"
        },
        "id": "S3G_rdIp_ik2",
        "outputId": "6fc23e82-ef9e-4f0f-b606-a22cfaab604b"
      },
      "execution_count": 33,
      "outputs": [
        {
          "output_type": "stream",
          "name": "stdout",
          "text": [
            "Estimation failed! No relevant identified estimand available for this estimation method.\n",
            "Causal Estimate is None\n",
            "ATE 4.021121012430832\n"
          ]
        }
      ]
    },
    {
      "cell_type": "markdown",
      "source": [
        "## 3"
      ],
      "metadata": {
        "id": "TP__t4-FPDxU"
      }
    },
    {
      "cell_type": "code",
      "source": [
        "estimate = model.estimate_effect(identified_estimand,\n",
        "        method_name=\"backdoor.propensity_score_matching\"\n",
        ")\n",
        "\n",
        "print(\"Causal Estimate is \" + str(estimate.value))\n",
        "\n",
        "print(\"ATE\", np.mean(data_1[\"y_factual\"])- np.mean(data_0[\"y_factual\"]))\n"
      ],
      "metadata": {
        "colab": {
          "base_uri": "https://localhost:8080/"
        },
        "id": "gpWnuPZ_G03L",
        "outputId": "d9f7a7da-0d29-4c8a-fd66-85ca9f27bf51"
      },
      "execution_count": 34,
      "outputs": [
        {
          "output_type": "stream",
          "name": "stdout",
          "text": [
            "Causal Estimate is None\n",
            "ATE 4.021121012430832\n"
          ]
        }
      ]
    },
    {
      "cell_type": "markdown",
      "source": [
        "## 4"
      ],
      "metadata": {
        "id": "sUmJ47k3PFpd"
      }
    },
    {
      "cell_type": "code",
      "source": [
        "estimate = model.estimate_effect(identified_estimand,\n",
        "        method_name=\"backdoor.propensity_score_stratification\", method_params={'num_strata':50, 'clipping_threshold':5}\n",
        ")\n",
        "\n",
        "print(\"Causal Estimate is \" + str(estimate.value))\n",
        "print(\"ATE\", np.mean(data_1[\"y_factual\"])- np.mean(data_0[\"y_factual\"]))"
      ],
      "metadata": {
        "colab": {
          "base_uri": "https://localhost:8080/"
        },
        "id": "oidXprOXIZXX",
        "outputId": "998bacbe-ed3c-4abc-a88f-640926bd386c"
      },
      "execution_count": 35,
      "outputs": [
        {
          "output_type": "stream",
          "name": "stdout",
          "text": [
            "Causal Estimate is None\n",
            "ATE 4.021121012430832\n"
          ]
        }
      ]
    },
    {
      "cell_type": "markdown",
      "source": [
        ""
      ],
      "metadata": {
        "id": "l8eLhKD0PAkA"
      }
    },
    {
      "cell_type": "markdown",
      "source": [
        "## 5"
      ],
      "metadata": {
        "id": "1aZkbP1nPG7-"
      }
    },
    {
      "cell_type": "code",
      "source": [
        "estimate = model.estimate_effect(identified_estimand,\n",
        "        method_name=\"backdoor.propensity_score_weighting\"\n",
        ")\n",
        "\n",
        "print(\"Causal Estimate is \" + str(estimate.value))\n",
        "\n",
        "print(\"ATE\", np.mean(data_1[\"y_factual\"])- np.mean(data_0[\"y_factual\"]))"
      ],
      "metadata": {
        "colab": {
          "base_uri": "https://localhost:8080/"
        },
        "id": "hgAZC91qLeId",
        "outputId": "f1a5b6bf-c37c-4cf4-8eb5-acdee227a40c"
      },
      "execution_count": 44,
      "outputs": [
        {
          "output_type": "stream",
          "name": "stdout",
          "text": [
            "Causal Estimate is None\n",
            "ATE 4.021121012430832\n"
          ]
        }
      ]
    },
    {
      "cell_type": "code",
      "source": [
        "\n",
        "refute_results=model.refute_estimate(identified_estimand, estimate, method_name=\"random_common_cause\")\n",
        "print(refute_results)"
      ],
      "metadata": {
        "colab": {
          "base_uri": "https://localhost:8080/",
          "height": 321
        },
        "id": "IOcB0eBJLiGA",
        "outputId": "3cb8b890-7ed7-43de-9e56-ad1b890e5f06"
      },
      "execution_count": 43,
      "outputs": [
        {
          "output_type": "error",
          "ename": "ValueError",
          "evalue": "ignored",
          "traceback": [
            "\u001b[0;31m---------------------------------------------------------------------------\u001b[0m",
            "\u001b[0;31mValueError\u001b[0m                                Traceback (most recent call last)",
            "\u001b[0;32m<ipython-input-43-9f8edb27b887>\u001b[0m in \u001b[0;36m<module>\u001b[0;34m()\u001b[0m\n\u001b[1;32m      1\u001b[0m \u001b[0;34m\u001b[0m\u001b[0m\n\u001b[0;32m----> 2\u001b[0;31m \u001b[0mrefute_results\u001b[0m\u001b[0;34m=\u001b[0m\u001b[0mmodel\u001b[0m\u001b[0;34m.\u001b[0m\u001b[0mrefute_estimate\u001b[0m\u001b[0;34m(\u001b[0m\u001b[0midentified_estimand\u001b[0m\u001b[0;34m,\u001b[0m \u001b[0mestimate\u001b[0m\u001b[0;34m,\u001b[0m \u001b[0mmethod_name\u001b[0m\u001b[0;34m=\u001b[0m\u001b[0;34m\"random_common_cause\"\u001b[0m\u001b[0;34m)\u001b[0m\u001b[0;34m\u001b[0m\u001b[0;34m\u001b[0m\u001b[0m\n\u001b[0m\u001b[1;32m      3\u001b[0m \u001b[0mprint\u001b[0m\u001b[0;34m(\u001b[0m\u001b[0mrefute_results\u001b[0m\u001b[0;34m)\u001b[0m\u001b[0;34m\u001b[0m\u001b[0;34m\u001b[0m\u001b[0m\n",
            "\u001b[0;32m/usr/local/lib/python3.7/dist-packages/dowhy/causal_model.py\u001b[0m in \u001b[0;36mrefute_estimate\u001b[0;34m(self, estimand, estimate, method_name, **kwargs)\u001b[0m\n\u001b[1;32m    392\u001b[0m         \u001b[0;32mif\u001b[0m \u001b[0mestimate\u001b[0m \u001b[0;32mis\u001b[0m \u001b[0;32mNone\u001b[0m \u001b[0;32mor\u001b[0m \u001b[0mestimate\u001b[0m\u001b[0;34m.\u001b[0m\u001b[0mvalue\u001b[0m \u001b[0;32mis\u001b[0m \u001b[0;32mNone\u001b[0m\u001b[0;34m:\u001b[0m\u001b[0;34m\u001b[0m\u001b[0;34m\u001b[0m\u001b[0m\n\u001b[1;32m    393\u001b[0m             \u001b[0mself\u001b[0m\u001b[0;34m.\u001b[0m\u001b[0mlogger\u001b[0m\u001b[0;34m.\u001b[0m\u001b[0merror\u001b[0m\u001b[0;34m(\u001b[0m\u001b[0;34m\"Aborting refutation! No estimate is provided.\"\u001b[0m\u001b[0;34m)\u001b[0m\u001b[0;34m\u001b[0m\u001b[0;34m\u001b[0m\u001b[0m\n\u001b[0;32m--> 394\u001b[0;31m             \u001b[0;32mraise\u001b[0m \u001b[0mValueError\u001b[0m\u001b[0;34m(\u001b[0m\u001b[0;34m\"Aborting refutation! No valid estimate is provided.\"\u001b[0m\u001b[0;34m)\u001b[0m\u001b[0;34m\u001b[0m\u001b[0;34m\u001b[0m\u001b[0m\n\u001b[0m\u001b[1;32m    395\u001b[0m         \u001b[0;32mif\u001b[0m \u001b[0mmethod_name\u001b[0m \u001b[0;32mis\u001b[0m \u001b[0;32mNone\u001b[0m\u001b[0;34m:\u001b[0m\u001b[0;34m\u001b[0m\u001b[0;34m\u001b[0m\u001b[0m\n\u001b[1;32m    396\u001b[0m             \u001b[0;32mpass\u001b[0m\u001b[0;34m\u001b[0m\u001b[0;34m\u001b[0m\u001b[0m\n",
            "\u001b[0;31mValueError\u001b[0m: Aborting refutation! No valid estimate is provided."
          ]
        }
      ]
    },
    {
      "cell_type": "code",
      "source": [
        "res_placebo=model.refute_estimate(identified_estimand, estimate,\n",
        "        method_name=\"placebo_treatment_refuter\", placebo_type=\"permute\")\n",
        "print(res_placebo)"
      ],
      "metadata": {
        "colab": {
          "base_uri": "https://localhost:8080/",
          "height": 321
        },
        "id": "ZXEtR0obLikH",
        "outputId": "1b602611-a09c-473c-b099-5205837486fa"
      },
      "execution_count": 38,
      "outputs": [
        {
          "output_type": "error",
          "ename": "ValueError",
          "evalue": "ignored",
          "traceback": [
            "\u001b[0;31m---------------------------------------------------------------------------\u001b[0m",
            "\u001b[0;31mValueError\u001b[0m                                Traceback (most recent call last)",
            "\u001b[0;32m<ipython-input-38-35ea45ecbbe4>\u001b[0m in \u001b[0;36m<module>\u001b[0;34m()\u001b[0m\n\u001b[1;32m      1\u001b[0m res_placebo=model.refute_estimate(identified_estimand, estimate,\n\u001b[0;32m----> 2\u001b[0;31m         method_name=\"placebo_treatment_refuter\", placebo_type=\"permute\")\n\u001b[0m\u001b[1;32m      3\u001b[0m \u001b[0mprint\u001b[0m\u001b[0;34m(\u001b[0m\u001b[0mres_placebo\u001b[0m\u001b[0;34m)\u001b[0m\u001b[0;34m\u001b[0m\u001b[0;34m\u001b[0m\u001b[0m\n",
            "\u001b[0;32m/usr/local/lib/python3.7/dist-packages/dowhy/causal_model.py\u001b[0m in \u001b[0;36mrefute_estimate\u001b[0;34m(self, estimand, estimate, method_name, **kwargs)\u001b[0m\n\u001b[1;32m    392\u001b[0m         \u001b[0;32mif\u001b[0m \u001b[0mestimate\u001b[0m \u001b[0;32mis\u001b[0m \u001b[0;32mNone\u001b[0m \u001b[0;32mor\u001b[0m \u001b[0mestimate\u001b[0m\u001b[0;34m.\u001b[0m\u001b[0mvalue\u001b[0m \u001b[0;32mis\u001b[0m \u001b[0;32mNone\u001b[0m\u001b[0;34m:\u001b[0m\u001b[0;34m\u001b[0m\u001b[0;34m\u001b[0m\u001b[0m\n\u001b[1;32m    393\u001b[0m             \u001b[0mself\u001b[0m\u001b[0;34m.\u001b[0m\u001b[0mlogger\u001b[0m\u001b[0;34m.\u001b[0m\u001b[0merror\u001b[0m\u001b[0;34m(\u001b[0m\u001b[0;34m\"Aborting refutation! No estimate is provided.\"\u001b[0m\u001b[0;34m)\u001b[0m\u001b[0;34m\u001b[0m\u001b[0;34m\u001b[0m\u001b[0m\n\u001b[0;32m--> 394\u001b[0;31m             \u001b[0;32mraise\u001b[0m \u001b[0mValueError\u001b[0m\u001b[0;34m(\u001b[0m\u001b[0;34m\"Aborting refutation! No valid estimate is provided.\"\u001b[0m\u001b[0;34m)\u001b[0m\u001b[0;34m\u001b[0m\u001b[0;34m\u001b[0m\u001b[0m\n\u001b[0m\u001b[1;32m    395\u001b[0m         \u001b[0;32mif\u001b[0m \u001b[0mmethod_name\u001b[0m \u001b[0;32mis\u001b[0m \u001b[0;32mNone\u001b[0m\u001b[0;34m:\u001b[0m\u001b[0;34m\u001b[0m\u001b[0;34m\u001b[0m\u001b[0m\n\u001b[1;32m    396\u001b[0m             \u001b[0;32mpass\u001b[0m\u001b[0;34m\u001b[0m\u001b[0;34m\u001b[0m\u001b[0m\n",
            "\u001b[0;31mValueError\u001b[0m: Aborting refutation! No valid estimate is provided."
          ]
        }
      ]
    },
    {
      "cell_type": "code",
      "source": [
        "\n",
        "res_subset=model.refute_estimate(identified_estimand, estimate,\n",
        "        method_name=\"data_subset_refuter\", subset_fraction=0.9)\n",
        "print(res_subset)"
      ],
      "metadata": {
        "colab": {
          "base_uri": "https://localhost:8080/",
          "height": 338
        },
        "id": "6G7xCYhlLkr1",
        "outputId": "f5607cb6-e410-45c6-c29f-f4071beb9de3"
      },
      "execution_count": 41,
      "outputs": [
        {
          "output_type": "error",
          "ename": "ValueError",
          "evalue": "ignored",
          "traceback": [
            "\u001b[0;31m---------------------------------------------------------------------------\u001b[0m",
            "\u001b[0;31mValueError\u001b[0m                                Traceback (most recent call last)",
            "\u001b[0;32m<ipython-input-41-47f2fe9d1f0e>\u001b[0m in \u001b[0;36m<module>\u001b[0;34m()\u001b[0m\n\u001b[1;32m      1\u001b[0m \u001b[0;34m\u001b[0m\u001b[0m\n\u001b[1;32m      2\u001b[0m res_subset=model.refute_estimate(identified_estimand, estimate,\n\u001b[0;32m----> 3\u001b[0;31m         method_name=\"data_subset_refuter\", subset_fraction=0.9)\n\u001b[0m\u001b[1;32m      4\u001b[0m \u001b[0mprint\u001b[0m\u001b[0;34m(\u001b[0m\u001b[0mres_subset\u001b[0m\u001b[0;34m)\u001b[0m\u001b[0;34m\u001b[0m\u001b[0;34m\u001b[0m\u001b[0m\n",
            "\u001b[0;32m/usr/local/lib/python3.7/dist-packages/dowhy/causal_model.py\u001b[0m in \u001b[0;36mrefute_estimate\u001b[0;34m(self, estimand, estimate, method_name, **kwargs)\u001b[0m\n\u001b[1;32m    392\u001b[0m         \u001b[0;32mif\u001b[0m \u001b[0mestimate\u001b[0m \u001b[0;32mis\u001b[0m \u001b[0;32mNone\u001b[0m \u001b[0;32mor\u001b[0m \u001b[0mestimate\u001b[0m\u001b[0;34m.\u001b[0m\u001b[0mvalue\u001b[0m \u001b[0;32mis\u001b[0m \u001b[0;32mNone\u001b[0m\u001b[0;34m:\u001b[0m\u001b[0;34m\u001b[0m\u001b[0;34m\u001b[0m\u001b[0m\n\u001b[1;32m    393\u001b[0m             \u001b[0mself\u001b[0m\u001b[0;34m.\u001b[0m\u001b[0mlogger\u001b[0m\u001b[0;34m.\u001b[0m\u001b[0merror\u001b[0m\u001b[0;34m(\u001b[0m\u001b[0;34m\"Aborting refutation! No estimate is provided.\"\u001b[0m\u001b[0;34m)\u001b[0m\u001b[0;34m\u001b[0m\u001b[0;34m\u001b[0m\u001b[0m\n\u001b[0;32m--> 394\u001b[0;31m             \u001b[0;32mraise\u001b[0m \u001b[0mValueError\u001b[0m\u001b[0;34m(\u001b[0m\u001b[0;34m\"Aborting refutation! No valid estimate is provided.\"\u001b[0m\u001b[0;34m)\u001b[0m\u001b[0;34m\u001b[0m\u001b[0;34m\u001b[0m\u001b[0m\n\u001b[0m\u001b[1;32m    395\u001b[0m         \u001b[0;32mif\u001b[0m \u001b[0mmethod_name\u001b[0m \u001b[0;32mis\u001b[0m \u001b[0;32mNone\u001b[0m\u001b[0;34m:\u001b[0m\u001b[0;34m\u001b[0m\u001b[0;34m\u001b[0m\u001b[0m\n\u001b[1;32m    396\u001b[0m             \u001b[0;32mpass\u001b[0m\u001b[0;34m\u001b[0m\u001b[0;34m\u001b[0m\u001b[0m\n",
            "\u001b[0;31mValueError\u001b[0m: Aborting refutation! No valid estimate is provided."
          ]
        }
      ]
    },
    {
      "cell_type": "markdown",
      "source": [
        "## 1 JOBS"
      ],
      "metadata": {
        "id": "dSgSjjfEPJ32"
      }
    },
    {
      "cell_type": "code",
      "source": [
        "data1= pd.read_csv(\"/content/jobs.csv\", header = None)\n",
        "col =  [\"t\", \"y\", \"e\", \"mu0\", \"mu1\" ,]\n",
        "\n",
        "for i in range(1,26):\n",
        "    col.append(\"x\"+str(i))\n",
        "data.columns = col\n",
        "data.head()"
      ],
      "metadata": {
        "colab": {
          "base_uri": "https://localhost:8080/",
          "height": 205
        },
        "id": "4trDgSk_NWPe",
        "outputId": "d494862d-13b0-404c-a1d9-d5af7e7b2a7f"
      },
      "execution_count": 45,
      "outputs": [
        {
          "output_type": "execute_result",
          "data": {
            "text/html": [
              "\n",
              "  <div id=\"df-ada47022-bb04-465d-a314-2392c5047b42\">\n",
              "    <div class=\"colab-df-container\">\n",
              "      <div>\n",
              "<style scoped>\n",
              "    .dataframe tbody tr th:only-of-type {\n",
              "        vertical-align: middle;\n",
              "    }\n",
              "\n",
              "    .dataframe tbody tr th {\n",
              "        vertical-align: top;\n",
              "    }\n",
              "\n",
              "    .dataframe thead th {\n",
              "        text-align: right;\n",
              "    }\n",
              "</style>\n",
              "<table border=\"1\" class=\"dataframe\">\n",
              "  <thead>\n",
              "    <tr style=\"text-align: right;\">\n",
              "      <th></th>\n",
              "      <th>t</th>\n",
              "      <th>y</th>\n",
              "      <th>e</th>\n",
              "      <th>mu0</th>\n",
              "      <th>mu1</th>\n",
              "      <th>x1</th>\n",
              "      <th>x2</th>\n",
              "      <th>x3</th>\n",
              "      <th>x4</th>\n",
              "      <th>x5</th>\n",
              "      <th>x6</th>\n",
              "      <th>x7</th>\n",
              "      <th>x8</th>\n",
              "      <th>x9</th>\n",
              "      <th>x10</th>\n",
              "      <th>x11</th>\n",
              "      <th>x12</th>\n",
              "      <th>x13</th>\n",
              "      <th>x14</th>\n",
              "      <th>x15</th>\n",
              "      <th>x16</th>\n",
              "      <th>x17</th>\n",
              "      <th>x18</th>\n",
              "      <th>x19</th>\n",
              "      <th>x20</th>\n",
              "      <th>x21</th>\n",
              "      <th>x22</th>\n",
              "      <th>x23</th>\n",
              "      <th>x24</th>\n",
              "      <th>x25</th>\n",
              "    </tr>\n",
              "  </thead>\n",
              "  <tbody>\n",
              "    <tr>\n",
              "      <th>0</th>\n",
              "      <td>1</td>\n",
              "      <td>5.599916</td>\n",
              "      <td>4.318780</td>\n",
              "      <td>3.268256</td>\n",
              "      <td>6.854457</td>\n",
              "      <td>-0.528603</td>\n",
              "      <td>-0.343455</td>\n",
              "      <td>1.128554</td>\n",
              "      <td>0.161703</td>\n",
              "      <td>-0.316603</td>\n",
              "      <td>1.295216</td>\n",
              "      <td>1</td>\n",
              "      <td>0</td>\n",
              "      <td>1</td>\n",
              "      <td>0</td>\n",
              "      <td>0</td>\n",
              "      <td>0</td>\n",
              "      <td>0</td>\n",
              "      <td>1</td>\n",
              "      <td>0</td>\n",
              "      <td>1</td>\n",
              "      <td>1</td>\n",
              "      <td>1</td>\n",
              "      <td>1</td>\n",
              "      <td>0</td>\n",
              "      <td>0</td>\n",
              "      <td>0</td>\n",
              "      <td>0</td>\n",
              "      <td>0</td>\n",
              "      <td>0</td>\n",
              "    </tr>\n",
              "    <tr>\n",
              "      <th>1</th>\n",
              "      <td>0</td>\n",
              "      <td>6.875856</td>\n",
              "      <td>7.856495</td>\n",
              "      <td>6.636059</td>\n",
              "      <td>7.562718</td>\n",
              "      <td>-1.736945</td>\n",
              "      <td>-1.802002</td>\n",
              "      <td>0.383828</td>\n",
              "      <td>2.244320</td>\n",
              "      <td>-0.629189</td>\n",
              "      <td>1.295216</td>\n",
              "      <td>0</td>\n",
              "      <td>0</td>\n",
              "      <td>0</td>\n",
              "      <td>1</td>\n",
              "      <td>0</td>\n",
              "      <td>0</td>\n",
              "      <td>1</td>\n",
              "      <td>1</td>\n",
              "      <td>1</td>\n",
              "      <td>1</td>\n",
              "      <td>1</td>\n",
              "      <td>1</td>\n",
              "      <td>1</td>\n",
              "      <td>0</td>\n",
              "      <td>0</td>\n",
              "      <td>0</td>\n",
              "      <td>0</td>\n",
              "      <td>0</td>\n",
              "      <td>0</td>\n",
              "    </tr>\n",
              "    <tr>\n",
              "      <th>2</th>\n",
              "      <td>0</td>\n",
              "      <td>2.996273</td>\n",
              "      <td>6.633952</td>\n",
              "      <td>1.570536</td>\n",
              "      <td>6.121617</td>\n",
              "      <td>-0.807451</td>\n",
              "      <td>-0.202946</td>\n",
              "      <td>-0.360898</td>\n",
              "      <td>-0.879606</td>\n",
              "      <td>0.808706</td>\n",
              "      <td>-0.526556</td>\n",
              "      <td>0</td>\n",
              "      <td>0</td>\n",
              "      <td>0</td>\n",
              "      <td>1</td>\n",
              "      <td>0</td>\n",
              "      <td>0</td>\n",
              "      <td>0</td>\n",
              "      <td>2</td>\n",
              "      <td>0</td>\n",
              "      <td>1</td>\n",
              "      <td>0</td>\n",
              "      <td>1</td>\n",
              "      <td>1</td>\n",
              "      <td>0</td>\n",
              "      <td>0</td>\n",
              "      <td>0</td>\n",
              "      <td>0</td>\n",
              "      <td>0</td>\n",
              "      <td>0</td>\n",
              "    </tr>\n",
              "    <tr>\n",
              "      <th>3</th>\n",
              "      <td>0</td>\n",
              "      <td>1.366206</td>\n",
              "      <td>5.697239</td>\n",
              "      <td>1.244738</td>\n",
              "      <td>5.889125</td>\n",
              "      <td>0.390083</td>\n",
              "      <td>0.596582</td>\n",
              "      <td>-1.850350</td>\n",
              "      <td>-0.879606</td>\n",
              "      <td>-0.004017</td>\n",
              "      <td>-0.857787</td>\n",
              "      <td>0</td>\n",
              "      <td>0</td>\n",
              "      <td>0</td>\n",
              "      <td>0</td>\n",
              "      <td>0</td>\n",
              "      <td>1</td>\n",
              "      <td>1</td>\n",
              "      <td>2</td>\n",
              "      <td>0</td>\n",
              "      <td>1</td>\n",
              "      <td>0</td>\n",
              "      <td>1</td>\n",
              "      <td>1</td>\n",
              "      <td>0</td>\n",
              "      <td>0</td>\n",
              "      <td>0</td>\n",
              "      <td>0</td>\n",
              "      <td>0</td>\n",
              "      <td>0</td>\n",
              "    </tr>\n",
              "    <tr>\n",
              "      <th>4</th>\n",
              "      <td>0</td>\n",
              "      <td>1.963538</td>\n",
              "      <td>6.202582</td>\n",
              "      <td>1.685048</td>\n",
              "      <td>6.191994</td>\n",
              "      <td>-1.045229</td>\n",
              "      <td>-0.602710</td>\n",
              "      <td>0.011465</td>\n",
              "      <td>0.161703</td>\n",
              "      <td>0.683672</td>\n",
              "      <td>-0.360940</td>\n",
              "      <td>1</td>\n",
              "      <td>0</td>\n",
              "      <td>0</td>\n",
              "      <td>0</td>\n",
              "      <td>0</td>\n",
              "      <td>1</td>\n",
              "      <td>1</td>\n",
              "      <td>1</td>\n",
              "      <td>0</td>\n",
              "      <td>1</td>\n",
              "      <td>1</td>\n",
              "      <td>1</td>\n",
              "      <td>1</td>\n",
              "      <td>0</td>\n",
              "      <td>0</td>\n",
              "      <td>0</td>\n",
              "      <td>0</td>\n",
              "      <td>0</td>\n",
              "      <td>0</td>\n",
              "    </tr>\n",
              "  </tbody>\n",
              "</table>\n",
              "</div>\n",
              "      <button class=\"colab-df-convert\" onclick=\"convertToInteractive('df-ada47022-bb04-465d-a314-2392c5047b42')\"\n",
              "              title=\"Convert this dataframe to an interactive table.\"\n",
              "              style=\"display:none;\">\n",
              "        \n",
              "  <svg xmlns=\"http://www.w3.org/2000/svg\" height=\"24px\"viewBox=\"0 0 24 24\"\n",
              "       width=\"24px\">\n",
              "    <path d=\"M0 0h24v24H0V0z\" fill=\"none\"/>\n",
              "    <path d=\"M18.56 5.44l.94 2.06.94-2.06 2.06-.94-2.06-.94-.94-2.06-.94 2.06-2.06.94zm-11 1L8.5 8.5l.94-2.06 2.06-.94-2.06-.94L8.5 2.5l-.94 2.06-2.06.94zm10 10l.94 2.06.94-2.06 2.06-.94-2.06-.94-.94-2.06-.94 2.06-2.06.94z\"/><path d=\"M17.41 7.96l-1.37-1.37c-.4-.4-.92-.59-1.43-.59-.52 0-1.04.2-1.43.59L10.3 9.45l-7.72 7.72c-.78.78-.78 2.05 0 2.83L4 21.41c.39.39.9.59 1.41.59.51 0 1.02-.2 1.41-.59l7.78-7.78 2.81-2.81c.8-.78.8-2.07 0-2.86zM5.41 20L4 18.59l7.72-7.72 1.47 1.35L5.41 20z\"/>\n",
              "  </svg>\n",
              "      </button>\n",
              "      \n",
              "  <style>\n",
              "    .colab-df-container {\n",
              "      display:flex;\n",
              "      flex-wrap:wrap;\n",
              "      gap: 12px;\n",
              "    }\n",
              "\n",
              "    .colab-df-convert {\n",
              "      background-color: #E8F0FE;\n",
              "      border: none;\n",
              "      border-radius: 50%;\n",
              "      cursor: pointer;\n",
              "      display: none;\n",
              "      fill: #1967D2;\n",
              "      height: 32px;\n",
              "      padding: 0 0 0 0;\n",
              "      width: 32px;\n",
              "    }\n",
              "\n",
              "    .colab-df-convert:hover {\n",
              "      background-color: #E2EBFA;\n",
              "      box-shadow: 0px 1px 2px rgba(60, 64, 67, 0.3), 0px 1px 3px 1px rgba(60, 64, 67, 0.15);\n",
              "      fill: #174EA6;\n",
              "    }\n",
              "\n",
              "    [theme=dark] .colab-df-convert {\n",
              "      background-color: #3B4455;\n",
              "      fill: #D2E3FC;\n",
              "    }\n",
              "\n",
              "    [theme=dark] .colab-df-convert:hover {\n",
              "      background-color: #434B5C;\n",
              "      box-shadow: 0px 1px 3px 1px rgba(0, 0, 0, 0.15);\n",
              "      filter: drop-shadow(0px 1px 2px rgba(0, 0, 0, 0.3));\n",
              "      fill: #FFFFFF;\n",
              "    }\n",
              "  </style>\n",
              "\n",
              "      <script>\n",
              "        const buttonEl =\n",
              "          document.querySelector('#df-ada47022-bb04-465d-a314-2392c5047b42 button.colab-df-convert');\n",
              "        buttonEl.style.display =\n",
              "          google.colab.kernel.accessAllowed ? 'block' : 'none';\n",
              "\n",
              "        async function convertToInteractive(key) {\n",
              "          const element = document.querySelector('#df-ada47022-bb04-465d-a314-2392c5047b42');\n",
              "          const dataTable =\n",
              "            await google.colab.kernel.invokeFunction('convertToInteractive',\n",
              "                                                     [key], {});\n",
              "          if (!dataTable) return;\n",
              "\n",
              "          const docLinkHtml = 'Like what you see? Visit the ' +\n",
              "            '<a target=\"_blank\" href=https://colab.research.google.com/notebooks/data_table.ipynb>data table notebook</a>'\n",
              "            + ' to learn more about interactive tables.';\n",
              "          element.innerHTML = '';\n",
              "          dataTable['output_type'] = 'display_data';\n",
              "          await google.colab.output.renderOutput(dataTable, element);\n",
              "          const docLink = document.createElement('div');\n",
              "          docLink.innerHTML = docLinkHtml;\n",
              "          element.appendChild(docLink);\n",
              "        }\n",
              "      </script>\n",
              "    </div>\n",
              "  </div>\n",
              "  "
            ],
            "text/plain": [
              "   t         y         e       mu0       mu1        x1        x2        x3  \\\n",
              "0  1  5.599916  4.318780  3.268256  6.854457 -0.528603 -0.343455  1.128554   \n",
              "1  0  6.875856  7.856495  6.636059  7.562718 -1.736945 -1.802002  0.383828   \n",
              "2  0  2.996273  6.633952  1.570536  6.121617 -0.807451 -0.202946 -0.360898   \n",
              "3  0  1.366206  5.697239  1.244738  5.889125  0.390083  0.596582 -1.850350   \n",
              "4  0  1.963538  6.202582  1.685048  6.191994 -1.045229 -0.602710  0.011465   \n",
              "\n",
              "         x4        x5        x6  x7  x8  x9  x10  x11  x12  x13  x14  x15  \\\n",
              "0  0.161703 -0.316603  1.295216   1   0   1    0    0    0    0    1    0   \n",
              "1  2.244320 -0.629189  1.295216   0   0   0    1    0    0    1    1    1   \n",
              "2 -0.879606  0.808706 -0.526556   0   0   0    1    0    0    0    2    0   \n",
              "3 -0.879606 -0.004017 -0.857787   0   0   0    0    0    1    1    2    0   \n",
              "4  0.161703  0.683672 -0.360940   1   0   0    0    0    1    1    1    0   \n",
              "\n",
              "   x16  x17  x18  x19  x20  x21  x22  x23  x24  x25  \n",
              "0    1    1    1    1    0    0    0    0    0    0  \n",
              "1    1    1    1    1    0    0    0    0    0    0  \n",
              "2    1    0    1    1    0    0    0    0    0    0  \n",
              "3    1    0    1    1    0    0    0    0    0    0  \n",
              "4    1    1    1    1    0    0    0    0    0    0  "
            ]
          },
          "metadata": {},
          "execution_count": 45
        }
      ]
    },
    {
      "cell_type": "code",
      "source": [
        "xs1 = \"\"\n",
        "for i in range(1,26):\n",
        "    xs += (\"x\"+str(i)+\"+\")\n",
        "\n",
        "model=CausalModel(\n",
        "        data = data,\n",
        "        treatment='t',\n",
        "        outcome='y',\n",
        "        common_causes=xs.split('+')\n",
        "        )"
      ],
      "metadata": {
        "id": "BzNsLzqeNmH0"
      },
      "execution_count": 46,
      "outputs": []
    },
    {
      "cell_type": "code",
      "source": [
        "identified_estimand1 = model.identify_effect()"
      ],
      "metadata": {
        "id": "G4aV2kqoNtWX"
      },
      "execution_count": 48,
      "outputs": []
    },
    {
      "cell_type": "markdown",
      "source": [
        "## 2 JOBS"
      ],
      "metadata": {
        "id": "zeVbzDw9PM2j"
      }
    },
    {
      "cell_type": "code",
      "source": [
        "estimate1 = model.estimate_effect(identified_estimand1,\n",
        "        method_name=\"backdoor.linear_regression\", test_significance=True\n",
        ")\n",
        "\n",
        "print(estimate1)\n",
        "\n",
        "print(\"Causal Estimate is \" + str(estimate1.value))\n",
        "data_1 = data[data[\"t\"]==1]\n",
        "data_0 = data[data[\"t\"]==0]\n",
        "\n",
        "print(\"ATE\", np.mean(data_1[\"y\"])- np.mean(data_0[\"y\"]))"
      ],
      "metadata": {
        "colab": {
          "base_uri": "https://localhost:8080/"
        },
        "id": "G_aA7BhrN1iY",
        "outputId": "b652cc7a-9909-456f-e1ab-19d359b73e7a"
      },
      "execution_count": 49,
      "outputs": [
        {
          "output_type": "stream",
          "name": "stdout",
          "text": [
            "Estimation failed! No relevant identified estimand available for this estimation method.\n",
            "Causal Estimate is None\n",
            "ATE 4.021121012430832\n"
          ]
        }
      ]
    },
    {
      "cell_type": "markdown",
      "source": [
        "## 3 JOBS"
      ],
      "metadata": {
        "id": "ZVHi1Ep0POzV"
      }
    },
    {
      "cell_type": "code",
      "source": [
        "estimate1 = model.estimate_effect(identified_estimand1,\n",
        "        method_name=\"backdoor.propensity_score_matching\"\n",
        ")\n",
        "\n",
        "print(\"Causal Estimate is \" + str(estimate1.value))\n",
        "\n",
        "print(\"ATE\", np.mean(data_1[\"y\"])- np.mean(data_0[\"y\"]))\n"
      ],
      "metadata": {
        "colab": {
          "base_uri": "https://localhost:8080/"
        },
        "id": "gVk0NXI7OABx",
        "outputId": "1ce56ed9-cd9e-4d5b-fd3b-926e58b7c829"
      },
      "execution_count": 51,
      "outputs": [
        {
          "output_type": "stream",
          "name": "stdout",
          "text": [
            "Causal Estimate is None\n",
            "ATE 4.021121012430832\n"
          ]
        }
      ]
    },
    {
      "cell_type": "markdown",
      "source": [
        "## 4"
      ],
      "metadata": {
        "id": "Lcettc8xPRkT"
      }
    },
    {
      "cell_type": "code",
      "source": [
        "\n",
        "estimate1 = model.estimate_effect(identified_estimand1,\n",
        "        method_name=\"backdoor.propensity_score_stratification\", method_params={'num_strata':50, 'clipping_threshold':5}\n",
        ")\n",
        "\n",
        "print(\"Causal Estimate is \" + str(estimate1.value))\n",
        "print(\"ATE\", np.mean(data_1[\"y\"])- np.mean(data_0[\"y\"]))"
      ],
      "metadata": {
        "colab": {
          "base_uri": "https://localhost:8080/"
        },
        "id": "GIX9Phi8OHHm",
        "outputId": "8e8853c6-c84f-43eb-a726-8097c71e9cee"
      },
      "execution_count": 52,
      "outputs": [
        {
          "output_type": "stream",
          "name": "stdout",
          "text": [
            "Causal Estimate is None\n",
            "ATE 4.021121012430832\n"
          ]
        }
      ]
    },
    {
      "cell_type": "markdown",
      "source": [
        "## 5"
      ],
      "metadata": {
        "id": "Y3w4S7DBPS_F"
      }
    },
    {
      "cell_type": "code",
      "source": [
        "estimate1 = model.estimate_effect(identified_estimand1,\n",
        "        method_name=\"backdoor.propensity_score_weighting\"\n",
        ")\n",
        "\n",
        "print(\"Causal Estimate is \" + str(estimate1.value))\n",
        "\n",
        "print(\"ATE\", np.mean(data_1[\"y\"])- np.mean(data_0[\"y\"]))"
      ],
      "metadata": {
        "colab": {
          "base_uri": "https://localhost:8080/"
        },
        "id": "xKfz_VAROO1U",
        "outputId": "25215270-9807-444e-f1b0-351de4d93eea"
      },
      "execution_count": 53,
      "outputs": [
        {
          "output_type": "stream",
          "name": "stdout",
          "text": [
            "Causal Estimate is None\n",
            "ATE 4.021121012430832\n"
          ]
        }
      ]
    },
    {
      "cell_type": "code",
      "source": [
        "refute_results1 =model.refute_estimate(identified_estimand1, estimate1,\n",
        "        method_name=\"random_common_cause\")\n",
        "print(refute_results1)"
      ],
      "metadata": {
        "colab": {
          "base_uri": "https://localhost:8080/",
          "height": 321
        },
        "id": "Cb-rpT4ZOdM0",
        "outputId": "d1c53e74-ccaf-43d1-fcbf-fe8ec641386e"
      },
      "execution_count": 54,
      "outputs": [
        {
          "output_type": "error",
          "ename": "ValueError",
          "evalue": "ignored",
          "traceback": [
            "\u001b[0;31m---------------------------------------------------------------------------\u001b[0m",
            "\u001b[0;31mValueError\u001b[0m                                Traceback (most recent call last)",
            "\u001b[0;32m<ipython-input-54-951b188f8aaf>\u001b[0m in \u001b[0;36m<module>\u001b[0;34m()\u001b[0m\n\u001b[1;32m      1\u001b[0m refute_results1 =model.refute_estimate(identified_estimand1, estimate1,\n\u001b[0;32m----> 2\u001b[0;31m         method_name=\"random_common_cause\")\n\u001b[0m\u001b[1;32m      3\u001b[0m \u001b[0mprint\u001b[0m\u001b[0;34m(\u001b[0m\u001b[0mrefute_results1\u001b[0m\u001b[0;34m)\u001b[0m\u001b[0;34m\u001b[0m\u001b[0;34m\u001b[0m\u001b[0m\n",
            "\u001b[0;32m/usr/local/lib/python3.7/dist-packages/dowhy/causal_model.py\u001b[0m in \u001b[0;36mrefute_estimate\u001b[0;34m(self, estimand, estimate, method_name, **kwargs)\u001b[0m\n\u001b[1;32m    392\u001b[0m         \u001b[0;32mif\u001b[0m \u001b[0mestimate\u001b[0m \u001b[0;32mis\u001b[0m \u001b[0;32mNone\u001b[0m \u001b[0;32mor\u001b[0m \u001b[0mestimate\u001b[0m\u001b[0;34m.\u001b[0m\u001b[0mvalue\u001b[0m \u001b[0;32mis\u001b[0m \u001b[0;32mNone\u001b[0m\u001b[0;34m:\u001b[0m\u001b[0;34m\u001b[0m\u001b[0;34m\u001b[0m\u001b[0m\n\u001b[1;32m    393\u001b[0m             \u001b[0mself\u001b[0m\u001b[0;34m.\u001b[0m\u001b[0mlogger\u001b[0m\u001b[0;34m.\u001b[0m\u001b[0merror\u001b[0m\u001b[0;34m(\u001b[0m\u001b[0;34m\"Aborting refutation! No estimate is provided.\"\u001b[0m\u001b[0;34m)\u001b[0m\u001b[0;34m\u001b[0m\u001b[0;34m\u001b[0m\u001b[0m\n\u001b[0;32m--> 394\u001b[0;31m             \u001b[0;32mraise\u001b[0m \u001b[0mValueError\u001b[0m\u001b[0;34m(\u001b[0m\u001b[0;34m\"Aborting refutation! No valid estimate is provided.\"\u001b[0m\u001b[0;34m)\u001b[0m\u001b[0;34m\u001b[0m\u001b[0;34m\u001b[0m\u001b[0m\n\u001b[0m\u001b[1;32m    395\u001b[0m         \u001b[0;32mif\u001b[0m \u001b[0mmethod_name\u001b[0m \u001b[0;32mis\u001b[0m \u001b[0;32mNone\u001b[0m\u001b[0;34m:\u001b[0m\u001b[0;34m\u001b[0m\u001b[0;34m\u001b[0m\u001b[0m\n\u001b[1;32m    396\u001b[0m             \u001b[0;32mpass\u001b[0m\u001b[0;34m\u001b[0m\u001b[0;34m\u001b[0m\u001b[0m\n",
            "\u001b[0;31mValueError\u001b[0m: Aborting refutation! No valid estimate is provided."
          ]
        }
      ]
    },
    {
      "cell_type": "code",
      "source": [
        "res_placebo1 =model.refute_estimate(identified_estimand1, estimate1,\n",
        "        method_name=\"placebo_treatment_refuter\", placebo_type=\"permute\")\n",
        "print(res_placebo1)"
      ],
      "metadata": {
        "id": "xqrpqRebOkfY"
      },
      "execution_count": null,
      "outputs": []
    }
  ]
}
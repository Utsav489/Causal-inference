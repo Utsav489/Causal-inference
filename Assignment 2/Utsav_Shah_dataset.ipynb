{
  "nbformat": 4,
  "nbformat_minor": 0,
  "metadata": {
    "colab": {
      "name": "Utsav Shah dataset.ipynb",
      "provenance": []
    },
    "kernelspec": {
      "name": "python3",
      "display_name": "Python 3"
    },
    "language_info": {
      "name": "python"
    }
  },
  "cells": [
    {
      "cell_type": "code",
      "source": [
        "import pandas as pd\n"
      ],
      "metadata": {
        "id": "DYTB6Pzn3hUP"
      },
      "execution_count": 10,
      "outputs": []
    },
    {
      "cell_type": "markdown",
      "source": [
        "Dataset **1**"
      ],
      "metadata": {
        "id": "NCAkwAeya9Nn"
      }
    },
    {
      "cell_type": "code",
      "source": [
        "df = pd.read_csv(\"/content/ihdp.csv\")\n",
        "df.head()"
      ],
      "metadata": {
        "colab": {
          "base_uri": "https://localhost:8080/",
          "height": 300
        },
        "id": "ukFXarMp4EWR",
        "outputId": "ebd1f14c-1df0-49bd-c52f-a983ca278520"
      },
      "execution_count": 13,
      "outputs": [
        {
          "output_type": "execute_result",
          "data": {
            "text/plain": [
              "         x1        x2        x3        x4        x5        x6   x7   x8   x9  \\\n",
              "0  1.397395  0.996346 -1.105624 -0.879606  0.308569 -1.023402  1.0  0.0  0.0   \n",
              "1  0.269033  0.196818  0.383828  0.161703 -0.629189  1.460832  1.0  0.0  1.0   \n",
              "2  1.051537  1.795874 -1.105624  0.161703 -0.629189  0.963985  1.0  0.0  1.0   \n",
              "3  0.662446  0.196818 -0.733261 -0.879606  0.371086 -0.692171  1.0  0.0  0.0   \n",
              "4  0.856992  1.795874  0.011465 -0.879606  0.558638  0.301522  0.0  1.0  1.0   \n",
              "\n",
              "   x10  ...  x20  x21  x22  x23  x24  x25    t        yf       ycf       ite  \n",
              "0  0.0  ...  0.0  0.0  0.0  0.0  0.0  1.0  1.0  4.771232 -0.298509  4.657928  \n",
              "1  0.0  ...  0.0  0.0  0.0  0.0  0.0  0.0  0.0  2.956273  5.783770  3.428604  \n",
              "2  1.0  ...  0.0  0.0  0.0  0.0  0.0  1.0  0.0  4.164164  7.055789  3.658195  \n",
              "3  0.0  ...  1.0  0.0  0.0  0.0  0.0  0.0  1.0  6.172307  1.379697  4.585505  \n",
              "4  0.0  ...  0.0  0.0  0.0  0.0  0.0  0.0  1.0  7.834469  2.747986  4.265591  \n",
              "\n",
              "[5 rows x 29 columns]"
            ],
            "text/html": [
              "\n",
              "  <div id=\"df-7ecdc91e-adee-4c2c-ae05-22c8c4cde451\">\n",
              "    <div class=\"colab-df-container\">\n",
              "      <div>\n",
              "<style scoped>\n",
              "    .dataframe tbody tr th:only-of-type {\n",
              "        vertical-align: middle;\n",
              "    }\n",
              "\n",
              "    .dataframe tbody tr th {\n",
              "        vertical-align: top;\n",
              "    }\n",
              "\n",
              "    .dataframe thead th {\n",
              "        text-align: right;\n",
              "    }\n",
              "</style>\n",
              "<table border=\"1\" class=\"dataframe\">\n",
              "  <thead>\n",
              "    <tr style=\"text-align: right;\">\n",
              "      <th></th>\n",
              "      <th>x1</th>\n",
              "      <th>x2</th>\n",
              "      <th>x3</th>\n",
              "      <th>x4</th>\n",
              "      <th>x5</th>\n",
              "      <th>x6</th>\n",
              "      <th>x7</th>\n",
              "      <th>x8</th>\n",
              "      <th>x9</th>\n",
              "      <th>x10</th>\n",
              "      <th>...</th>\n",
              "      <th>x20</th>\n",
              "      <th>x21</th>\n",
              "      <th>x22</th>\n",
              "      <th>x23</th>\n",
              "      <th>x24</th>\n",
              "      <th>x25</th>\n",
              "      <th>t</th>\n",
              "      <th>yf</th>\n",
              "      <th>ycf</th>\n",
              "      <th>ite</th>\n",
              "    </tr>\n",
              "  </thead>\n",
              "  <tbody>\n",
              "    <tr>\n",
              "      <th>0</th>\n",
              "      <td>1.397395</td>\n",
              "      <td>0.996346</td>\n",
              "      <td>-1.105624</td>\n",
              "      <td>-0.879606</td>\n",
              "      <td>0.308569</td>\n",
              "      <td>-1.023402</td>\n",
              "      <td>1.0</td>\n",
              "      <td>0.0</td>\n",
              "      <td>0.0</td>\n",
              "      <td>0.0</td>\n",
              "      <td>...</td>\n",
              "      <td>0.0</td>\n",
              "      <td>0.0</td>\n",
              "      <td>0.0</td>\n",
              "      <td>0.0</td>\n",
              "      <td>0.0</td>\n",
              "      <td>1.0</td>\n",
              "      <td>1.0</td>\n",
              "      <td>4.771232</td>\n",
              "      <td>-0.298509</td>\n",
              "      <td>4.657928</td>\n",
              "    </tr>\n",
              "    <tr>\n",
              "      <th>1</th>\n",
              "      <td>0.269033</td>\n",
              "      <td>0.196818</td>\n",
              "      <td>0.383828</td>\n",
              "      <td>0.161703</td>\n",
              "      <td>-0.629189</td>\n",
              "      <td>1.460832</td>\n",
              "      <td>1.0</td>\n",
              "      <td>0.0</td>\n",
              "      <td>1.0</td>\n",
              "      <td>0.0</td>\n",
              "      <td>...</td>\n",
              "      <td>0.0</td>\n",
              "      <td>0.0</td>\n",
              "      <td>0.0</td>\n",
              "      <td>0.0</td>\n",
              "      <td>0.0</td>\n",
              "      <td>0.0</td>\n",
              "      <td>0.0</td>\n",
              "      <td>2.956273</td>\n",
              "      <td>5.783770</td>\n",
              "      <td>3.428604</td>\n",
              "    </tr>\n",
              "    <tr>\n",
              "      <th>2</th>\n",
              "      <td>1.051537</td>\n",
              "      <td>1.795874</td>\n",
              "      <td>-1.105624</td>\n",
              "      <td>0.161703</td>\n",
              "      <td>-0.629189</td>\n",
              "      <td>0.963985</td>\n",
              "      <td>1.0</td>\n",
              "      <td>0.0</td>\n",
              "      <td>1.0</td>\n",
              "      <td>1.0</td>\n",
              "      <td>...</td>\n",
              "      <td>0.0</td>\n",
              "      <td>0.0</td>\n",
              "      <td>0.0</td>\n",
              "      <td>0.0</td>\n",
              "      <td>0.0</td>\n",
              "      <td>1.0</td>\n",
              "      <td>0.0</td>\n",
              "      <td>4.164164</td>\n",
              "      <td>7.055789</td>\n",
              "      <td>3.658195</td>\n",
              "    </tr>\n",
              "    <tr>\n",
              "      <th>3</th>\n",
              "      <td>0.662446</td>\n",
              "      <td>0.196818</td>\n",
              "      <td>-0.733261</td>\n",
              "      <td>-0.879606</td>\n",
              "      <td>0.371086</td>\n",
              "      <td>-0.692171</td>\n",
              "      <td>1.0</td>\n",
              "      <td>0.0</td>\n",
              "      <td>0.0</td>\n",
              "      <td>0.0</td>\n",
              "      <td>...</td>\n",
              "      <td>1.0</td>\n",
              "      <td>0.0</td>\n",
              "      <td>0.0</td>\n",
              "      <td>0.0</td>\n",
              "      <td>0.0</td>\n",
              "      <td>0.0</td>\n",
              "      <td>1.0</td>\n",
              "      <td>6.172307</td>\n",
              "      <td>1.379697</td>\n",
              "      <td>4.585505</td>\n",
              "    </tr>\n",
              "    <tr>\n",
              "      <th>4</th>\n",
              "      <td>0.856992</td>\n",
              "      <td>1.795874</td>\n",
              "      <td>0.011465</td>\n",
              "      <td>-0.879606</td>\n",
              "      <td>0.558638</td>\n",
              "      <td>0.301522</td>\n",
              "      <td>0.0</td>\n",
              "      <td>1.0</td>\n",
              "      <td>1.0</td>\n",
              "      <td>0.0</td>\n",
              "      <td>...</td>\n",
              "      <td>0.0</td>\n",
              "      <td>0.0</td>\n",
              "      <td>0.0</td>\n",
              "      <td>0.0</td>\n",
              "      <td>0.0</td>\n",
              "      <td>0.0</td>\n",
              "      <td>1.0</td>\n",
              "      <td>7.834469</td>\n",
              "      <td>2.747986</td>\n",
              "      <td>4.265591</td>\n",
              "    </tr>\n",
              "  </tbody>\n",
              "</table>\n",
              "<p>5 rows × 29 columns</p>\n",
              "</div>\n",
              "      <button class=\"colab-df-convert\" onclick=\"convertToInteractive('df-7ecdc91e-adee-4c2c-ae05-22c8c4cde451')\"\n",
              "              title=\"Convert this dataframe to an interactive table.\"\n",
              "              style=\"display:none;\">\n",
              "        \n",
              "  <svg xmlns=\"http://www.w3.org/2000/svg\" height=\"24px\"viewBox=\"0 0 24 24\"\n",
              "       width=\"24px\">\n",
              "    <path d=\"M0 0h24v24H0V0z\" fill=\"none\"/>\n",
              "    <path d=\"M18.56 5.44l.94 2.06.94-2.06 2.06-.94-2.06-.94-.94-2.06-.94 2.06-2.06.94zm-11 1L8.5 8.5l.94-2.06 2.06-.94-2.06-.94L8.5 2.5l-.94 2.06-2.06.94zm10 10l.94 2.06.94-2.06 2.06-.94-2.06-.94-.94-2.06-.94 2.06-2.06.94z\"/><path d=\"M17.41 7.96l-1.37-1.37c-.4-.4-.92-.59-1.43-.59-.52 0-1.04.2-1.43.59L10.3 9.45l-7.72 7.72c-.78.78-.78 2.05 0 2.83L4 21.41c.39.39.9.59 1.41.59.51 0 1.02-.2 1.41-.59l7.78-7.78 2.81-2.81c.8-.78.8-2.07 0-2.86zM5.41 20L4 18.59l7.72-7.72 1.47 1.35L5.41 20z\"/>\n",
              "  </svg>\n",
              "      </button>\n",
              "      \n",
              "  <style>\n",
              "    .colab-df-container {\n",
              "      display:flex;\n",
              "      flex-wrap:wrap;\n",
              "      gap: 12px;\n",
              "    }\n",
              "\n",
              "    .colab-df-convert {\n",
              "      background-color: #E8F0FE;\n",
              "      border: none;\n",
              "      border-radius: 50%;\n",
              "      cursor: pointer;\n",
              "      display: none;\n",
              "      fill: #1967D2;\n",
              "      height: 32px;\n",
              "      padding: 0 0 0 0;\n",
              "      width: 32px;\n",
              "    }\n",
              "\n",
              "    .colab-df-convert:hover {\n",
              "      background-color: #E2EBFA;\n",
              "      box-shadow: 0px 1px 2px rgba(60, 64, 67, 0.3), 0px 1px 3px 1px rgba(60, 64, 67, 0.15);\n",
              "      fill: #174EA6;\n",
              "    }\n",
              "\n",
              "    [theme=dark] .colab-df-convert {\n",
              "      background-color: #3B4455;\n",
              "      fill: #D2E3FC;\n",
              "    }\n",
              "\n",
              "    [theme=dark] .colab-df-convert:hover {\n",
              "      background-color: #434B5C;\n",
              "      box-shadow: 0px 1px 3px 1px rgba(0, 0, 0, 0.15);\n",
              "      filter: drop-shadow(0px 1px 2px rgba(0, 0, 0, 0.3));\n",
              "      fill: #FFFFFF;\n",
              "    }\n",
              "  </style>\n",
              "\n",
              "      <script>\n",
              "        const buttonEl =\n",
              "          document.querySelector('#df-7ecdc91e-adee-4c2c-ae05-22c8c4cde451 button.colab-df-convert');\n",
              "        buttonEl.style.display =\n",
              "          google.colab.kernel.accessAllowed ? 'block' : 'none';\n",
              "\n",
              "        async function convertToInteractive(key) {\n",
              "          const element = document.querySelector('#df-7ecdc91e-adee-4c2c-ae05-22c8c4cde451');\n",
              "          const dataTable =\n",
              "            await google.colab.kernel.invokeFunction('convertToInteractive',\n",
              "                                                     [key], {});\n",
              "          if (!dataTable) return;\n",
              "\n",
              "          const docLinkHtml = 'Like what you see? Visit the ' +\n",
              "            '<a target=\"_blank\" href=https://colab.research.google.com/notebooks/data_table.ipynb>data table notebook</a>'\n",
              "            + ' to learn more about interactive tables.';\n",
              "          element.innerHTML = '';\n",
              "          dataTable['output_type'] = 'display_data';\n",
              "          await google.colab.output.renderOutput(dataTable, element);\n",
              "          const docLink = document.createElement('div');\n",
              "          docLink.innerHTML = docLinkHtml;\n",
              "          element.appendChild(docLink);\n",
              "        }\n",
              "      </script>\n",
              "    </div>\n",
              "  </div>\n",
              "  "
            ]
          },
          "metadata": {},
          "execution_count": 13
        }
      ]
    },
    {
      "cell_type": "code",
      "execution_count": 14,
      "metadata": {
        "id": "pFGxynI5pFZT"
      },
      "outputs": [],
      "source": [
        "import numpy as np\n",
        "\n",
        "def pehe(effect_true, effect_pred):\n",
        "    \"\"\"\n",
        "    Precision in Estimating the Heterogeneous Treatment Effect (PEHE)\n",
        "    :param effect_true: true treatment effect value\n",
        "    :param effect_pred: predicted treatment effect value\n",
        "    :return: PEHE\n",
        "    \"\"\"\n",
        "    # This function should be completed as part of Unit 4.\n",
        "\n",
        "def abs_ate(effect_true, effect_pred):\n",
        "    \"\"\"\n",
        "    Absolute error for the Average Treatment Effect (ATE)\n",
        "    :param effect_true: true treatment effect value\n",
        "    :param effect_pred: predicted treatment effect value\n",
        "    :return: absolute error on ATE\n",
        "    \"\"\"\n",
        "    # This function should be completed as part of Unit 4.\n",
        "\n",
        "def abs_att(effect_pred, yf, t, e):\n",
        "    \"\"\"\n",
        "    Absolute error for the Average Treatment Effect on the Treated\n",
        "    :param effect_pred: predicted treatment effect value\n",
        "    :param yf: factual (observed) outcome\n",
        "    :param t: treatment status (treated/control)\n",
        "    :param e: whether belongs to the experimental group\n",
        "    :return: absolute error on ATT\n",
        "    \"\"\"\n",
        "    att_true = np.mean(yf[t > 0]) - np.mean(yf[(1 - t + e) > 1])\n",
        "    att_pred = np.mean(effect_pred[(t + e) > 1])\n",
        "\n",
        "    return np.abs(att_pred - att_true)\n",
        "\n",
        "def policy_risk(effect_pred, yf, t, e):\n",
        "    \"\"\"\n",
        "    Computes the risk of the policy defined by predicted effect\n",
        "    :param effect_pred: predicted treatment effect value\n",
        "    :param yf: factual (observed) outcome\n",
        "    :param t: treatment status (treated/control)\n",
        "    :param e: whether belongs to the experimental group\n",
        "    :return: policy risk\n",
        "    \"\"\"\n",
        "    # Consider only the cases for which we have experimental data (i.e., e > 0)\n",
        "    t_e = t[e > 0]\n",
        "    yf_e = yf[e > 0]\n",
        "    effect_pred_e = effect_pred[e > 0]\n",
        "\n",
        "    if np.any(np.isnan(effect_pred_e)):\n",
        "        return np.nan\n",
        "\n",
        "    policy = effect_pred_e > 0.0\n",
        "    treat_overlap = (policy == t_e) * (t_e > 0)\n",
        "    control_overlap = (policy == t_e) * (t_e < 1)\n",
        "\n",
        "    if np.sum(treat_overlap) == 0:\n",
        "        treat_value = 0\n",
        "    else:\n",
        "        treat_value = np.mean(yf_e[treat_overlap])\n",
        "\n",
        "    if np.sum(control_overlap) == 0:\n",
        "        control_value = 0\n",
        "    else:\n",
        "        control_value = np.mean(yf_e[control_overlap])\n",
        "\n",
        "    pit = np.mean(policy)\n",
        "    policy_value = pit * treat_value + (1.0 - pit) * control_value\n",
        "\n",
        "    return 1.0 - policy_value"
      ]
    },
    {
      "cell_type": "code",
      "source": [
        "df.drop(\"x5\", axis=1)"
      ],
      "metadata": {
        "colab": {
          "base_uri": "https://localhost:8080/",
          "height": 488
        },
        "id": "NAEyuWYX3fVz",
        "outputId": "a382858e-1108-447e-d124-a0a0be2fb7c1"
      },
      "execution_count": 17,
      "outputs": [
        {
          "output_type": "execute_result",
          "data": {
            "text/plain": [
              "           x1        x2        x3        x4        x6   x7   x8   x9  x10  \\\n",
              "0    1.397395  0.996346 -1.105624 -0.879606 -1.023402  1.0  0.0  0.0  0.0   \n",
              "1    0.269033  0.196818  0.383828  0.161703  1.460832  1.0  0.0  1.0  0.0   \n",
              "2    1.051537  1.795874 -1.105624  0.161703  0.963985  1.0  0.0  1.0  1.0   \n",
              "3    0.662446  0.196818 -0.733261 -0.879606 -0.692171  1.0  0.0  0.0  0.0   \n",
              "4    0.856992  1.795874  0.011465 -0.879606  0.301522  0.0  1.0  1.0  0.0   \n",
              "..        ...       ...       ...       ...       ...  ...  ...  ...  ...   \n",
              "742 -1.853672 -2.201766  1.500917  0.161703 -1.023402  1.0  0.0  0.0  1.0   \n",
              "743 -1.066845 -1.402238  1.128554  2.244320  2.288910  0.0  0.0  1.0  0.0   \n",
              "744 -1.045229 -1.337276  1.128554 -0.879606  0.301522  1.0  0.0  1.0  0.0   \n",
              "745 -0.115735 -0.602710 -1.105624  2.244320  2.785756  1.0  0.0  1.0  0.0   \n",
              "746  1.419011  1.396110 -0.733261  2.244320 -0.195324  0.0  1.0  1.0  0.0   \n",
              "\n",
              "     x11  ...  x20  x21  x22  x23  x24  x25    t        yf       ycf       ite  \n",
              "0    1.0  ...  0.0  0.0  0.0  0.0  0.0  1.0  1.0  4.771232 -0.298509  4.657928  \n",
              "1    0.0  ...  0.0  0.0  0.0  0.0  0.0  0.0  0.0  2.956273  5.783770  3.428604  \n",
              "2    0.0  ...  0.0  0.0  0.0  0.0  0.0  1.0  0.0  4.164164  7.055789  3.658195  \n",
              "3    0.0  ...  1.0  0.0  0.0  0.0  0.0  0.0  1.0  6.172307  1.379697  4.585505  \n",
              "4    0.0  ...  0.0  0.0  0.0  0.0  0.0  0.0  1.0  7.834469  2.747986  4.265591  \n",
              "..   ...  ...  ...  ...  ...  ...  ...  ...  ...       ...       ...       ...  \n",
              "742  0.0  ...  0.0  0.0  0.0  1.0  0.0  0.0  0.0  2.244050  5.269701  4.598246  \n",
              "743  1.0  ...  1.0  0.0  0.0  0.0  0.0  0.0  0.0  6.253175  8.393338  0.940855  \n",
              "744  0.0  ...  0.0  0.0  0.0  0.0  0.0  0.0  0.0  2.908235  6.897207  4.373736  \n",
              "745  0.0  ...  0.0  0.0  0.0  1.0  0.0  0.0  0.0  8.324520  9.208251  0.352653  \n",
              "746  1.0  ...  0.0  0.0  0.0  0.0  0.0  1.0  0.0  1.915644  6.298299  4.115977  \n",
              "\n",
              "[747 rows x 28 columns]"
            ],
            "text/html": [
              "\n",
              "  <div id=\"df-65d2a399-1689-4e53-8783-60f55e7d911e\">\n",
              "    <div class=\"colab-df-container\">\n",
              "      <div>\n",
              "<style scoped>\n",
              "    .dataframe tbody tr th:only-of-type {\n",
              "        vertical-align: middle;\n",
              "    }\n",
              "\n",
              "    .dataframe tbody tr th {\n",
              "        vertical-align: top;\n",
              "    }\n",
              "\n",
              "    .dataframe thead th {\n",
              "        text-align: right;\n",
              "    }\n",
              "</style>\n",
              "<table border=\"1\" class=\"dataframe\">\n",
              "  <thead>\n",
              "    <tr style=\"text-align: right;\">\n",
              "      <th></th>\n",
              "      <th>x1</th>\n",
              "      <th>x2</th>\n",
              "      <th>x3</th>\n",
              "      <th>x4</th>\n",
              "      <th>x6</th>\n",
              "      <th>x7</th>\n",
              "      <th>x8</th>\n",
              "      <th>x9</th>\n",
              "      <th>x10</th>\n",
              "      <th>x11</th>\n",
              "      <th>...</th>\n",
              "      <th>x20</th>\n",
              "      <th>x21</th>\n",
              "      <th>x22</th>\n",
              "      <th>x23</th>\n",
              "      <th>x24</th>\n",
              "      <th>x25</th>\n",
              "      <th>t</th>\n",
              "      <th>yf</th>\n",
              "      <th>ycf</th>\n",
              "      <th>ite</th>\n",
              "    </tr>\n",
              "  </thead>\n",
              "  <tbody>\n",
              "    <tr>\n",
              "      <th>0</th>\n",
              "      <td>1.397395</td>\n",
              "      <td>0.996346</td>\n",
              "      <td>-1.105624</td>\n",
              "      <td>-0.879606</td>\n",
              "      <td>-1.023402</td>\n",
              "      <td>1.0</td>\n",
              "      <td>0.0</td>\n",
              "      <td>0.0</td>\n",
              "      <td>0.0</td>\n",
              "      <td>1.0</td>\n",
              "      <td>...</td>\n",
              "      <td>0.0</td>\n",
              "      <td>0.0</td>\n",
              "      <td>0.0</td>\n",
              "      <td>0.0</td>\n",
              "      <td>0.0</td>\n",
              "      <td>1.0</td>\n",
              "      <td>1.0</td>\n",
              "      <td>4.771232</td>\n",
              "      <td>-0.298509</td>\n",
              "      <td>4.657928</td>\n",
              "    </tr>\n",
              "    <tr>\n",
              "      <th>1</th>\n",
              "      <td>0.269033</td>\n",
              "      <td>0.196818</td>\n",
              "      <td>0.383828</td>\n",
              "      <td>0.161703</td>\n",
              "      <td>1.460832</td>\n",
              "      <td>1.0</td>\n",
              "      <td>0.0</td>\n",
              "      <td>1.0</td>\n",
              "      <td>0.0</td>\n",
              "      <td>0.0</td>\n",
              "      <td>...</td>\n",
              "      <td>0.0</td>\n",
              "      <td>0.0</td>\n",
              "      <td>0.0</td>\n",
              "      <td>0.0</td>\n",
              "      <td>0.0</td>\n",
              "      <td>0.0</td>\n",
              "      <td>0.0</td>\n",
              "      <td>2.956273</td>\n",
              "      <td>5.783770</td>\n",
              "      <td>3.428604</td>\n",
              "    </tr>\n",
              "    <tr>\n",
              "      <th>2</th>\n",
              "      <td>1.051537</td>\n",
              "      <td>1.795874</td>\n",
              "      <td>-1.105624</td>\n",
              "      <td>0.161703</td>\n",
              "      <td>0.963985</td>\n",
              "      <td>1.0</td>\n",
              "      <td>0.0</td>\n",
              "      <td>1.0</td>\n",
              "      <td>1.0</td>\n",
              "      <td>0.0</td>\n",
              "      <td>...</td>\n",
              "      <td>0.0</td>\n",
              "      <td>0.0</td>\n",
              "      <td>0.0</td>\n",
              "      <td>0.0</td>\n",
              "      <td>0.0</td>\n",
              "      <td>1.0</td>\n",
              "      <td>0.0</td>\n",
              "      <td>4.164164</td>\n",
              "      <td>7.055789</td>\n",
              "      <td>3.658195</td>\n",
              "    </tr>\n",
              "    <tr>\n",
              "      <th>3</th>\n",
              "      <td>0.662446</td>\n",
              "      <td>0.196818</td>\n",
              "      <td>-0.733261</td>\n",
              "      <td>-0.879606</td>\n",
              "      <td>-0.692171</td>\n",
              "      <td>1.0</td>\n",
              "      <td>0.0</td>\n",
              "      <td>0.0</td>\n",
              "      <td>0.0</td>\n",
              "      <td>0.0</td>\n",
              "      <td>...</td>\n",
              "      <td>1.0</td>\n",
              "      <td>0.0</td>\n",
              "      <td>0.0</td>\n",
              "      <td>0.0</td>\n",
              "      <td>0.0</td>\n",
              "      <td>0.0</td>\n",
              "      <td>1.0</td>\n",
              "      <td>6.172307</td>\n",
              "      <td>1.379697</td>\n",
              "      <td>4.585505</td>\n",
              "    </tr>\n",
              "    <tr>\n",
              "      <th>4</th>\n",
              "      <td>0.856992</td>\n",
              "      <td>1.795874</td>\n",
              "      <td>0.011465</td>\n",
              "      <td>-0.879606</td>\n",
              "      <td>0.301522</td>\n",
              "      <td>0.0</td>\n",
              "      <td>1.0</td>\n",
              "      <td>1.0</td>\n",
              "      <td>0.0</td>\n",
              "      <td>0.0</td>\n",
              "      <td>...</td>\n",
              "      <td>0.0</td>\n",
              "      <td>0.0</td>\n",
              "      <td>0.0</td>\n",
              "      <td>0.0</td>\n",
              "      <td>0.0</td>\n",
              "      <td>0.0</td>\n",
              "      <td>1.0</td>\n",
              "      <td>7.834469</td>\n",
              "      <td>2.747986</td>\n",
              "      <td>4.265591</td>\n",
              "    </tr>\n",
              "    <tr>\n",
              "      <th>...</th>\n",
              "      <td>...</td>\n",
              "      <td>...</td>\n",
              "      <td>...</td>\n",
              "      <td>...</td>\n",
              "      <td>...</td>\n",
              "      <td>...</td>\n",
              "      <td>...</td>\n",
              "      <td>...</td>\n",
              "      <td>...</td>\n",
              "      <td>...</td>\n",
              "      <td>...</td>\n",
              "      <td>...</td>\n",
              "      <td>...</td>\n",
              "      <td>...</td>\n",
              "      <td>...</td>\n",
              "      <td>...</td>\n",
              "      <td>...</td>\n",
              "      <td>...</td>\n",
              "      <td>...</td>\n",
              "      <td>...</td>\n",
              "      <td>...</td>\n",
              "    </tr>\n",
              "    <tr>\n",
              "      <th>742</th>\n",
              "      <td>-1.853672</td>\n",
              "      <td>-2.201766</td>\n",
              "      <td>1.500917</td>\n",
              "      <td>0.161703</td>\n",
              "      <td>-1.023402</td>\n",
              "      <td>1.0</td>\n",
              "      <td>0.0</td>\n",
              "      <td>0.0</td>\n",
              "      <td>1.0</td>\n",
              "      <td>0.0</td>\n",
              "      <td>...</td>\n",
              "      <td>0.0</td>\n",
              "      <td>0.0</td>\n",
              "      <td>0.0</td>\n",
              "      <td>1.0</td>\n",
              "      <td>0.0</td>\n",
              "      <td>0.0</td>\n",
              "      <td>0.0</td>\n",
              "      <td>2.244050</td>\n",
              "      <td>5.269701</td>\n",
              "      <td>4.598246</td>\n",
              "    </tr>\n",
              "    <tr>\n",
              "      <th>743</th>\n",
              "      <td>-1.066845</td>\n",
              "      <td>-1.402238</td>\n",
              "      <td>1.128554</td>\n",
              "      <td>2.244320</td>\n",
              "      <td>2.288910</td>\n",
              "      <td>0.0</td>\n",
              "      <td>0.0</td>\n",
              "      <td>1.0</td>\n",
              "      <td>0.0</td>\n",
              "      <td>1.0</td>\n",
              "      <td>...</td>\n",
              "      <td>1.0</td>\n",
              "      <td>0.0</td>\n",
              "      <td>0.0</td>\n",
              "      <td>0.0</td>\n",
              "      <td>0.0</td>\n",
              "      <td>0.0</td>\n",
              "      <td>0.0</td>\n",
              "      <td>6.253175</td>\n",
              "      <td>8.393338</td>\n",
              "      <td>0.940855</td>\n",
              "    </tr>\n",
              "    <tr>\n",
              "      <th>744</th>\n",
              "      <td>-1.045229</td>\n",
              "      <td>-1.337276</td>\n",
              "      <td>1.128554</td>\n",
              "      <td>-0.879606</td>\n",
              "      <td>0.301522</td>\n",
              "      <td>1.0</td>\n",
              "      <td>0.0</td>\n",
              "      <td>1.0</td>\n",
              "      <td>0.0</td>\n",
              "      <td>0.0</td>\n",
              "      <td>...</td>\n",
              "      <td>0.0</td>\n",
              "      <td>0.0</td>\n",
              "      <td>0.0</td>\n",
              "      <td>0.0</td>\n",
              "      <td>0.0</td>\n",
              "      <td>0.0</td>\n",
              "      <td>0.0</td>\n",
              "      <td>2.908235</td>\n",
              "      <td>6.897207</td>\n",
              "      <td>4.373736</td>\n",
              "    </tr>\n",
              "    <tr>\n",
              "      <th>745</th>\n",
              "      <td>-0.115735</td>\n",
              "      <td>-0.602710</td>\n",
              "      <td>-1.105624</td>\n",
              "      <td>2.244320</td>\n",
              "      <td>2.785756</td>\n",
              "      <td>1.0</td>\n",
              "      <td>0.0</td>\n",
              "      <td>1.0</td>\n",
              "      <td>0.0</td>\n",
              "      <td>0.0</td>\n",
              "      <td>...</td>\n",
              "      <td>0.0</td>\n",
              "      <td>0.0</td>\n",
              "      <td>0.0</td>\n",
              "      <td>1.0</td>\n",
              "      <td>0.0</td>\n",
              "      <td>0.0</td>\n",
              "      <td>0.0</td>\n",
              "      <td>8.324520</td>\n",
              "      <td>9.208251</td>\n",
              "      <td>0.352653</td>\n",
              "    </tr>\n",
              "    <tr>\n",
              "      <th>746</th>\n",
              "      <td>1.419011</td>\n",
              "      <td>1.396110</td>\n",
              "      <td>-0.733261</td>\n",
              "      <td>2.244320</td>\n",
              "      <td>-0.195324</td>\n",
              "      <td>0.0</td>\n",
              "      <td>1.0</td>\n",
              "      <td>1.0</td>\n",
              "      <td>0.0</td>\n",
              "      <td>1.0</td>\n",
              "      <td>...</td>\n",
              "      <td>0.0</td>\n",
              "      <td>0.0</td>\n",
              "      <td>0.0</td>\n",
              "      <td>0.0</td>\n",
              "      <td>0.0</td>\n",
              "      <td>1.0</td>\n",
              "      <td>0.0</td>\n",
              "      <td>1.915644</td>\n",
              "      <td>6.298299</td>\n",
              "      <td>4.115977</td>\n",
              "    </tr>\n",
              "  </tbody>\n",
              "</table>\n",
              "<p>747 rows × 28 columns</p>\n",
              "</div>\n",
              "      <button class=\"colab-df-convert\" onclick=\"convertToInteractive('df-65d2a399-1689-4e53-8783-60f55e7d911e')\"\n",
              "              title=\"Convert this dataframe to an interactive table.\"\n",
              "              style=\"display:none;\">\n",
              "        \n",
              "  <svg xmlns=\"http://www.w3.org/2000/svg\" height=\"24px\"viewBox=\"0 0 24 24\"\n",
              "       width=\"24px\">\n",
              "    <path d=\"M0 0h24v24H0V0z\" fill=\"none\"/>\n",
              "    <path d=\"M18.56 5.44l.94 2.06.94-2.06 2.06-.94-2.06-.94-.94-2.06-.94 2.06-2.06.94zm-11 1L8.5 8.5l.94-2.06 2.06-.94-2.06-.94L8.5 2.5l-.94 2.06-2.06.94zm10 10l.94 2.06.94-2.06 2.06-.94-2.06-.94-.94-2.06-.94 2.06-2.06.94z\"/><path d=\"M17.41 7.96l-1.37-1.37c-.4-.4-.92-.59-1.43-.59-.52 0-1.04.2-1.43.59L10.3 9.45l-7.72 7.72c-.78.78-.78 2.05 0 2.83L4 21.41c.39.39.9.59 1.41.59.51 0 1.02-.2 1.41-.59l7.78-7.78 2.81-2.81c.8-.78.8-2.07 0-2.86zM5.41 20L4 18.59l7.72-7.72 1.47 1.35L5.41 20z\"/>\n",
              "  </svg>\n",
              "      </button>\n",
              "      \n",
              "  <style>\n",
              "    .colab-df-container {\n",
              "      display:flex;\n",
              "      flex-wrap:wrap;\n",
              "      gap: 12px;\n",
              "    }\n",
              "\n",
              "    .colab-df-convert {\n",
              "      background-color: #E8F0FE;\n",
              "      border: none;\n",
              "      border-radius: 50%;\n",
              "      cursor: pointer;\n",
              "      display: none;\n",
              "      fill: #1967D2;\n",
              "      height: 32px;\n",
              "      padding: 0 0 0 0;\n",
              "      width: 32px;\n",
              "    }\n",
              "\n",
              "    .colab-df-convert:hover {\n",
              "      background-color: #E2EBFA;\n",
              "      box-shadow: 0px 1px 2px rgba(60, 64, 67, 0.3), 0px 1px 3px 1px rgba(60, 64, 67, 0.15);\n",
              "      fill: #174EA6;\n",
              "    }\n",
              "\n",
              "    [theme=dark] .colab-df-convert {\n",
              "      background-color: #3B4455;\n",
              "      fill: #D2E3FC;\n",
              "    }\n",
              "\n",
              "    [theme=dark] .colab-df-convert:hover {\n",
              "      background-color: #434B5C;\n",
              "      box-shadow: 0px 1px 3px 1px rgba(0, 0, 0, 0.15);\n",
              "      filter: drop-shadow(0px 1px 2px rgba(0, 0, 0, 0.3));\n",
              "      fill: #FFFFFF;\n",
              "    }\n",
              "  </style>\n",
              "\n",
              "      <script>\n",
              "        const buttonEl =\n",
              "          document.querySelector('#df-65d2a399-1689-4e53-8783-60f55e7d911e button.colab-df-convert');\n",
              "        buttonEl.style.display =\n",
              "          google.colab.kernel.accessAllowed ? 'block' : 'none';\n",
              "\n",
              "        async function convertToInteractive(key) {\n",
              "          const element = document.querySelector('#df-65d2a399-1689-4e53-8783-60f55e7d911e');\n",
              "          const dataTable =\n",
              "            await google.colab.kernel.invokeFunction('convertToInteractive',\n",
              "                                                     [key], {});\n",
              "          if (!dataTable) return;\n",
              "\n",
              "          const docLinkHtml = 'Like what you see? Visit the ' +\n",
              "            '<a target=\"_blank\" href=https://colab.research.google.com/notebooks/data_table.ipynb>data table notebook</a>'\n",
              "            + ' to learn more about interactive tables.';\n",
              "          element.innerHTML = '';\n",
              "          dataTable['output_type'] = 'display_data';\n",
              "          await google.colab.output.renderOutput(dataTable, element);\n",
              "          const docLink = document.createElement('div');\n",
              "          docLink.innerHTML = docLinkHtml;\n",
              "          element.appendChild(docLink);\n",
              "        }\n",
              "      </script>\n",
              "    </div>\n",
              "  </div>\n",
              "  "
            ]
          },
          "metadata": {},
          "execution_count": 17
        }
      ]
    },
    {
      "cell_type": "code",
      "source": [
        "from sklearn.datasets import make_regression"
      ],
      "metadata": {
        "id": "z5zATTKi7C5A"
      },
      "execution_count": 21,
      "outputs": []
    },
    {
      "cell_type": "code",
      "source": [
        "n_samples = 100 \n",
        "n_features = 6 \n",
        "n_informative = 3"
      ],
      "metadata": {
        "id": "Td4Pxilw75Tp"
      },
      "execution_count": 22,
      "outputs": []
    },
    {
      "cell_type": "code",
      "source": [
        "X, y,coef = make_regression(n_samples=n_samples, n_features=n_features, n_informative=n_informative,\n",
        "                       random_state=None, shuffle=False,noise=20,coef=True)"
      ],
      "metadata": {
        "id": "CZh2qxjG8AiR"
      },
      "execution_count": 23,
      "outputs": []
    },
    {
      "cell_type": "code",
      "source": [
        "df1 = pd.DataFrame(data=X,columns=['X'+str(i) for i in range(1,n_features+1)])\n",
        "df2=pd.DataFrame(data=y,columns=['y'])\n",
        "df=pd.concat([df1,df2],axis=1)\n",
        "df.head(10)"
      ],
      "metadata": {
        "colab": {
          "base_uri": "https://localhost:8080/",
          "height": 363
        },
        "id": "NSf13IaY8E9j",
        "outputId": "71713556-3f62-460d-8926-564a0f78b76c"
      },
      "execution_count": 24,
      "outputs": [
        {
          "output_type": "execute_result",
          "data": {
            "text/plain": [
              "         X1        X2        X3        X4        X5        X6           y\n",
              "0 -0.190274  0.040708 -0.560051 -0.629649 -1.269060  0.891118  -56.521555\n",
              "1 -0.060947  0.604217 -0.948441  1.133892  0.187528 -0.431255   -9.772593\n",
              "2  1.173969  0.373352  0.033462 -0.786497  0.176670 -0.516110   77.176872\n",
              "3  2.716428 -0.043560  0.704683  1.396367 -0.035803 -1.204916   94.986873\n",
              "4  0.353046 -1.354417  1.150675  1.592245  0.180630  1.480738  -42.998354\n",
              "5 -0.555176  0.897223 -1.011986 -0.358170  1.941785  1.797454  -34.990844\n",
              "6  0.055467  0.801993 -0.037188  0.024113  0.439134 -1.723097   52.240880\n",
              "7 -1.096609 -1.682027  0.167075 -1.094385 -1.329473 -1.172405 -163.238618\n",
              "8  1.063557 -0.083384  0.797917  1.310611 -0.436689 -1.566584   55.513824\n",
              "9  0.498130 -0.946547  0.758045 -0.119075 -1.189458  0.054886  -32.401404"
            ],
            "text/html": [
              "\n",
              "  <div id=\"df-b09a211a-d923-4c57-a71e-85f1e5788f0c\">\n",
              "    <div class=\"colab-df-container\">\n",
              "      <div>\n",
              "<style scoped>\n",
              "    .dataframe tbody tr th:only-of-type {\n",
              "        vertical-align: middle;\n",
              "    }\n",
              "\n",
              "    .dataframe tbody tr th {\n",
              "        vertical-align: top;\n",
              "    }\n",
              "\n",
              "    .dataframe thead th {\n",
              "        text-align: right;\n",
              "    }\n",
              "</style>\n",
              "<table border=\"1\" class=\"dataframe\">\n",
              "  <thead>\n",
              "    <tr style=\"text-align: right;\">\n",
              "      <th></th>\n",
              "      <th>X1</th>\n",
              "      <th>X2</th>\n",
              "      <th>X3</th>\n",
              "      <th>X4</th>\n",
              "      <th>X5</th>\n",
              "      <th>X6</th>\n",
              "      <th>y</th>\n",
              "    </tr>\n",
              "  </thead>\n",
              "  <tbody>\n",
              "    <tr>\n",
              "      <th>0</th>\n",
              "      <td>-0.190274</td>\n",
              "      <td>0.040708</td>\n",
              "      <td>-0.560051</td>\n",
              "      <td>-0.629649</td>\n",
              "      <td>-1.269060</td>\n",
              "      <td>0.891118</td>\n",
              "      <td>-56.521555</td>\n",
              "    </tr>\n",
              "    <tr>\n",
              "      <th>1</th>\n",
              "      <td>-0.060947</td>\n",
              "      <td>0.604217</td>\n",
              "      <td>-0.948441</td>\n",
              "      <td>1.133892</td>\n",
              "      <td>0.187528</td>\n",
              "      <td>-0.431255</td>\n",
              "      <td>-9.772593</td>\n",
              "    </tr>\n",
              "    <tr>\n",
              "      <th>2</th>\n",
              "      <td>1.173969</td>\n",
              "      <td>0.373352</td>\n",
              "      <td>0.033462</td>\n",
              "      <td>-0.786497</td>\n",
              "      <td>0.176670</td>\n",
              "      <td>-0.516110</td>\n",
              "      <td>77.176872</td>\n",
              "    </tr>\n",
              "    <tr>\n",
              "      <th>3</th>\n",
              "      <td>2.716428</td>\n",
              "      <td>-0.043560</td>\n",
              "      <td>0.704683</td>\n",
              "      <td>1.396367</td>\n",
              "      <td>-0.035803</td>\n",
              "      <td>-1.204916</td>\n",
              "      <td>94.986873</td>\n",
              "    </tr>\n",
              "    <tr>\n",
              "      <th>4</th>\n",
              "      <td>0.353046</td>\n",
              "      <td>-1.354417</td>\n",
              "      <td>1.150675</td>\n",
              "      <td>1.592245</td>\n",
              "      <td>0.180630</td>\n",
              "      <td>1.480738</td>\n",
              "      <td>-42.998354</td>\n",
              "    </tr>\n",
              "    <tr>\n",
              "      <th>5</th>\n",
              "      <td>-0.555176</td>\n",
              "      <td>0.897223</td>\n",
              "      <td>-1.011986</td>\n",
              "      <td>-0.358170</td>\n",
              "      <td>1.941785</td>\n",
              "      <td>1.797454</td>\n",
              "      <td>-34.990844</td>\n",
              "    </tr>\n",
              "    <tr>\n",
              "      <th>6</th>\n",
              "      <td>0.055467</td>\n",
              "      <td>0.801993</td>\n",
              "      <td>-0.037188</td>\n",
              "      <td>0.024113</td>\n",
              "      <td>0.439134</td>\n",
              "      <td>-1.723097</td>\n",
              "      <td>52.240880</td>\n",
              "    </tr>\n",
              "    <tr>\n",
              "      <th>7</th>\n",
              "      <td>-1.096609</td>\n",
              "      <td>-1.682027</td>\n",
              "      <td>0.167075</td>\n",
              "      <td>-1.094385</td>\n",
              "      <td>-1.329473</td>\n",
              "      <td>-1.172405</td>\n",
              "      <td>-163.238618</td>\n",
              "    </tr>\n",
              "    <tr>\n",
              "      <th>8</th>\n",
              "      <td>1.063557</td>\n",
              "      <td>-0.083384</td>\n",
              "      <td>0.797917</td>\n",
              "      <td>1.310611</td>\n",
              "      <td>-0.436689</td>\n",
              "      <td>-1.566584</td>\n",
              "      <td>55.513824</td>\n",
              "    </tr>\n",
              "    <tr>\n",
              "      <th>9</th>\n",
              "      <td>0.498130</td>\n",
              "      <td>-0.946547</td>\n",
              "      <td>0.758045</td>\n",
              "      <td>-0.119075</td>\n",
              "      <td>-1.189458</td>\n",
              "      <td>0.054886</td>\n",
              "      <td>-32.401404</td>\n",
              "    </tr>\n",
              "  </tbody>\n",
              "</table>\n",
              "</div>\n",
              "      <button class=\"colab-df-convert\" onclick=\"convertToInteractive('df-b09a211a-d923-4c57-a71e-85f1e5788f0c')\"\n",
              "              title=\"Convert this dataframe to an interactive table.\"\n",
              "              style=\"display:none;\">\n",
              "        \n",
              "  <svg xmlns=\"http://www.w3.org/2000/svg\" height=\"24px\"viewBox=\"0 0 24 24\"\n",
              "       width=\"24px\">\n",
              "    <path d=\"M0 0h24v24H0V0z\" fill=\"none\"/>\n",
              "    <path d=\"M18.56 5.44l.94 2.06.94-2.06 2.06-.94-2.06-.94-.94-2.06-.94 2.06-2.06.94zm-11 1L8.5 8.5l.94-2.06 2.06-.94-2.06-.94L8.5 2.5l-.94 2.06-2.06.94zm10 10l.94 2.06.94-2.06 2.06-.94-2.06-.94-.94-2.06-.94 2.06-2.06.94z\"/><path d=\"M17.41 7.96l-1.37-1.37c-.4-.4-.92-.59-1.43-.59-.52 0-1.04.2-1.43.59L10.3 9.45l-7.72 7.72c-.78.78-.78 2.05 0 2.83L4 21.41c.39.39.9.59 1.41.59.51 0 1.02-.2 1.41-.59l7.78-7.78 2.81-2.81c.8-.78.8-2.07 0-2.86zM5.41 20L4 18.59l7.72-7.72 1.47 1.35L5.41 20z\"/>\n",
              "  </svg>\n",
              "      </button>\n",
              "      \n",
              "  <style>\n",
              "    .colab-df-container {\n",
              "      display:flex;\n",
              "      flex-wrap:wrap;\n",
              "      gap: 12px;\n",
              "    }\n",
              "\n",
              "    .colab-df-convert {\n",
              "      background-color: #E8F0FE;\n",
              "      border: none;\n",
              "      border-radius: 50%;\n",
              "      cursor: pointer;\n",
              "      display: none;\n",
              "      fill: #1967D2;\n",
              "      height: 32px;\n",
              "      padding: 0 0 0 0;\n",
              "      width: 32px;\n",
              "    }\n",
              "\n",
              "    .colab-df-convert:hover {\n",
              "      background-color: #E2EBFA;\n",
              "      box-shadow: 0px 1px 2px rgba(60, 64, 67, 0.3), 0px 1px 3px 1px rgba(60, 64, 67, 0.15);\n",
              "      fill: #174EA6;\n",
              "    }\n",
              "\n",
              "    [theme=dark] .colab-df-convert {\n",
              "      background-color: #3B4455;\n",
              "      fill: #D2E3FC;\n",
              "    }\n",
              "\n",
              "    [theme=dark] .colab-df-convert:hover {\n",
              "      background-color: #434B5C;\n",
              "      box-shadow: 0px 1px 3px 1px rgba(0, 0, 0, 0.15);\n",
              "      filter: drop-shadow(0px 1px 2px rgba(0, 0, 0, 0.3));\n",
              "      fill: #FFFFFF;\n",
              "    }\n",
              "  </style>\n",
              "\n",
              "      <script>\n",
              "        const buttonEl =\n",
              "          document.querySelector('#df-b09a211a-d923-4c57-a71e-85f1e5788f0c button.colab-df-convert');\n",
              "        buttonEl.style.display =\n",
              "          google.colab.kernel.accessAllowed ? 'block' : 'none';\n",
              "\n",
              "        async function convertToInteractive(key) {\n",
              "          const element = document.querySelector('#df-b09a211a-d923-4c57-a71e-85f1e5788f0c');\n",
              "          const dataTable =\n",
              "            await google.colab.kernel.invokeFunction('convertToInteractive',\n",
              "                                                     [key], {});\n",
              "          if (!dataTable) return;\n",
              "\n",
              "          const docLinkHtml = 'Like what you see? Visit the ' +\n",
              "            '<a target=\"_blank\" href=https://colab.research.google.com/notebooks/data_table.ipynb>data table notebook</a>'\n",
              "            + ' to learn more about interactive tables.';\n",
              "          element.innerHTML = '';\n",
              "          dataTable['output_type'] = 'display_data';\n",
              "          await google.colab.output.renderOutput(dataTable, element);\n",
              "          const docLink = document.createElement('div');\n",
              "          docLink.innerHTML = docLinkHtml;\n",
              "          element.appendChild(docLink);\n",
              "        }\n",
              "      </script>\n",
              "    </div>\n",
              "  </div>\n",
              "  "
            ]
          },
          "metadata": {},
          "execution_count": 24
        }
      ]
    },
    {
      "cell_type": "code",
      "source": [
        "import matplotlib.pyplot as plt\n",
        "%matplotlib inline\n",
        "import pandas as pd\n",
        "import numpy as np"
      ],
      "metadata": {
        "id": "_v487iC08VNK"
      },
      "execution_count": 26,
      "outputs": []
    },
    {
      "cell_type": "code",
      "source": [
        "with plt.style.context(('seaborn-dark')):\n",
        "    for i,col in enumerate(df.columns[:-1]):\n",
        "        plt.figure(figsize=(6,4))\n",
        "        plt.grid(True)\n",
        "        plt.xlabel('Feature:'+col,fontsize=12)\n",
        "        plt.ylabel('Output: y',fontsize=12)\n",
        "        plt.scatter(df[col],df['y'],c='blue',s=50,alpha=0.6)"
      ],
      "metadata": {
        "colab": {
          "base_uri": "https://localhost:8080/",
          "height": 1000
        },
        "id": "3TCHO4I78Jq9",
        "outputId": "d3bf3f7d-8b68-4bf9-9eb1-496c0ff771e2"
      },
      "execution_count": 28,
      "outputs": [
        {
          "output_type": "display_data",
          "data": {
            "text/plain": [
              "<Figure size 432x288 with 1 Axes>"
            ],
            "image/png": "[encoded data removed]"
          },
          "metadata": {}
        },
        {
          "output_type": "display_data",
          "data": {
            "text/plain": [
              "<Figure size 432x288 with 1 Axes>"
            ],
            "image/png": "[encoded data removed]"
          },
          "metadata": {}
        },
        {
          "output_type": "display_data",
          "data": {
            "text/plain": [
              "<Figure size 432x288 with 1 Axes>"
            ],
            "image/png": "[encoded data removed]"
          },
          "metadata": {}
        },
        {
          "output_type": "display_data",
          "data": {
            "text/plain": [
              "<Figure size 432x288 with 1 Axes>"
            ],
            "image/png": "[encoded data removed]"
          },
          "metadata": {}
        },
        {
          "output_type": "display_data",
          "data": {
            "text/plain": [
              "<Figure size 432x288 with 1 Axes>"
            ],
            "image/png": "[encoded data removed]"
          },
          "metadata": {}
        },
        {
          "output_type": "display_data",
          "data": {
            "text/plain": [
              "<Figure size 432x288 with 1 Axes>"
            ],
            "image/png": "[encoded data removed]"
          },
          "metadata": {}
        }
      ]
    },
    {
      "cell_type": "code",
      "source": [
        "with plt.style.context(('fivethirtyeight')):\n",
        "    for i,col in enumerate(df.columns[:-1]):\n",
        "        plt.figure(figsize=(6,4))\n",
        "        plt.grid(True)\n",
        "        plt.xlabel('Feature:'+col,fontsize=12)\n",
        "        plt.ylabel('Output: y',fontsize=12)\n",
        "        plt.hist(df[col],alpha=0.6,facecolor='b')"
      ],
      "metadata": {
        "colab": {
          "base_uri": "https://localhost:8080/",
          "height": 1000
        },
        "id": "etCevF1Z8S_Y",
        "outputId": "020f72c4-a776-41c0-a772-7bc8136161e6"
      },
      "execution_count": 30,
      "outputs": [
        {
          "output_type": "display_data",
          "data": {
            "text/plain": [
              "<Figure size 432x288 with 1 Axes>"
            ],
            "image/png": "[encoded data removed]"
          },
          "metadata": {}
        },
        {
          "output_type": "display_data",
          "data": {
            "text/plain": [
              "<Figure size 432x288 with 1 Axes>"
            ],
            "image/png": "[encoded data removed]"
          },
          "metadata": {}
        },
        {
          "output_type": "display_data",
          "data": {
            "text/plain": [
              "<Figure size 432x288 with 1 Axes>"
            ],
            "image/png": "[encoded data removed]"
          },
          "metadata": {}
        },
        {
          "output_type": "display_data",
          "data": {
            "text/plain": [
              "<Figure size 432x288 with 1 Axes>"
            ],
            "image/png": "[encoded data removed]"
          },
          "metadata": {}
        },
        {
          "output_type": "display_data",
          "data": {
            "text/plain": [
              "<Figure size 432x288 with 1 Axes>"
            ],
            "image/png": "[encoded data removed]"
          },
          "metadata": {}
        },
        {
          "output_type": "display_data",
          "data": {
            "text/plain": [
              "<Figure size 432x288 with 1 Axes>"
            ],
            "image/png": "[encoded data removed]"
          },
          "metadata": {}
        }
      ]
    },
    {
      "cell_type": "code",
      "source": [
        "import numpy as np\n",
        "import pandas as pd\n",
        "import seaborn as sns\n",
        "import matplotlib.pyplot as plt\n",
        "from sklearn.model_selection import train_test_split,cross_val_score\n",
        "from sklearn.ensemble import RandomForestClassifier,RandomForestRegressor\n",
        "from sklearn.metrics import classification_report,confusion_matrix,accuracy_score\n",
        "from sklearn.neighbors import KNeighborsClassifier,KNeighborsRegressor\n",
        "from sklearn.svm import SVC,SVR\n",
        "from sklearn import datasets\n",
        "import scipy.stats as stats"
      ],
      "metadata": {
        "id": "NB4YEAtf8nAV"
      },
      "execution_count": 31,
      "outputs": []
    },
    {
      "cell_type": "code",
      "source": [
        "clf = RandomForestRegressor()\n",
        "scores = cross_val_score(clf, X, y, cv=10,scoring='neg_mean_squared_error') # 10-fold cross-validation\n",
        "print(\"MSE:\"+ str(-scores.mean()))"
      ],
      "metadata": {
        "colab": {
          "base_uri": "https://localhost:8080/"
        },
        "id": "GnpeeXJz-Nne",
        "outputId": "669634d9-4002-4a40-c9fe-a6eea8584665"
      },
      "execution_count": 67,
      "outputs": [
        {
          "output_type": "stream",
          "name": "stdout",
          "text": [
            "MSE:1.4662949845656912\n"
          ]
        }
      ]
    },
    {
      "cell_type": "code",
      "source": [
        "clf = SVR()\n",
        "scores = cross_val_score(clf, X, y, cv=10,scoring='neg_mean_squared_error')\n",
        "print(\"MSE:\"+ str(-scores.mean()))"
      ],
      "metadata": {
        "colab": {
          "base_uri": "https://localhost:8080/"
        },
        "id": "z-1EXruO-Yuh",
        "outputId": "aaa5c7a5-c055-4f82-e301-f0c5e7df4f4c"
      },
      "execution_count": 68,
      "outputs": [
        {
          "output_type": "stream",
          "name": "stdout",
          "text": [
            "MSE:0.9827747618985331\n"
          ]
        }
      ]
    },
    {
      "cell_type": "code",
      "source": [
        "clf = KNeighborsRegressor()\n",
        "scores = cross_val_score(clf, X, y, cv=10,scoring='neg_mean_squared_error')\n",
        "print(\"MSE:\"+ str(-scores.mean()))"
      ],
      "metadata": {
        "colab": {
          "base_uri": "https://localhost:8080/"
        },
        "id": "oHDBl3NK-cwK",
        "outputId": "82417042-d0c5-4c43-ed9d-286b8d748289"
      },
      "execution_count": 69,
      "outputs": [
        {
          "output_type": "stream",
          "name": "stdout",
          "text": [
            "MSE:1.1394730249434715\n"
          ]
        }
      ]
    },
    {
      "cell_type": "code",
      "source": [
        "from keras.models import Sequential, Model\n",
        "from keras.layers import Dense, Input\n",
        "from sklearn.model_selection import GridSearchCV\n",
        "from keras.wrappers.scikit_learn import KerasRegressor\n",
        "from keras.callbacks import EarlyStopping\n",
        "def ANN(optimizer = 'adam',neurons=32,batch_size=32,epochs=50,activation='relu',patience=5,loss='mse'):\n",
        "    model = Sequential()\n",
        "    model.add(Dense(neurons, input_shape=(X.shape[1],), activation=activation))\n",
        "    model.add(Dense(neurons, activation=activation))\n",
        "    model.add(Dense(1))\n",
        "    model.compile(optimizer = optimizer, loss=loss)\n",
        "    early_stopping = EarlyStopping(monitor=\"loss\", patience = patience)# early stop patience\n",
        "    history = model.fit(X, y,\n",
        "              batch_size=batch_size,\n",
        "              epochs=epochs,\n",
        "              callbacks = [early_stopping],\n",
        "              verbose=0) #verbose set to 1 will show the training process\n",
        "    return model"
      ],
      "metadata": {
        "id": "U_mJBuYx-hSS"
      },
      "execution_count": 35,
      "outputs": []
    },
    {
      "cell_type": "code",
      "source": [
        "clf = KerasRegressor(build_fn=ANN, verbose=0)\n",
        "scores = cross_val_score(clf, X, y, cv=3,scoring='neg_mean_squared_error')\n",
        "print(\"MSE:\"+ str(-scores.mean()))"
      ],
      "metadata": {
        "colab": {
          "base_uri": "https://localhost:8080/"
        },
        "id": "UUcJaa6x-o67",
        "outputId": "80ced380-e8c6-41a8-87f1-36754a917724"
      },
      "execution_count": 36,
      "outputs": [
        {
          "output_type": "stream",
          "name": "stderr",
          "text": [
            "/usr/local/lib/python3.7/dist-packages/ipykernel_launcher.py:1: DeprecationWarning: KerasRegressor is deprecated, use Sci-Keras (https://github.com/adriangb/scikeras) instead. See https://www.adriangb.com/scikeras/stable/migration.html for help migrating.\n",
            "  \"\"\"Entry point for launching an IPython kernel.\n"
          ]
        },
        {
          "output_type": "stream",
          "name": "stdout",
          "text": [
            "MSE:5837.300770253077\n"
          ]
        }
      ]
    },
    {
      "cell_type": "code",
      "source": [
        "from sklearn.model_selection import GridSearchCV\n",
        "# Define the hyperparameter configuration space\n",
        "rf_params = {\n",
        "    'n_estimators': [10, 20, 30],\n",
        "    #'max_features': ['sqrt',0.5],\n",
        "    'max_depth': [15,20,30,50],\n",
        "    #'min_samples_leaf': [1,2,4,8],\n",
        "    #\"bootstrap\":[True,False],\n",
        "    #\"criterion\":['mse','mae']\n",
        "}\n",
        "clf = RandomForestRegressor(random_state=0)\n",
        "grid = GridSearchCV(clf, rf_params, cv=3, scoring='neg_mean_squared_error')\n",
        "grid.fit(X, y)\n",
        "print(grid.best_params_)\n",
        "print(\"MSE:\"+ str(-grid.best_score_))"
      ],
      "metadata": {
        "colab": {
          "base_uri": "https://localhost:8080/"
        },
        "id": "dacbNNErAglp",
        "outputId": "921827fb-01f9-4cea-c3d7-ae50f37ddb4e"
      },
      "execution_count": 37,
      "outputs": [
        {
          "output_type": "stream",
          "name": "stdout",
          "text": [
            "{'max_depth': 15, 'n_estimators': 30}\n",
            "MSE:2094.104978374881\n"
          ]
        }
      ]
    },
    {
      "cell_type": "code",
      "source": [
        "from sklearn.model_selection import GridSearchCV\n",
        "rf_params = {\n",
        "    'C': [1,10, 100],\n",
        "    \"kernel\":['poly','rbf','sigmoid'],\n",
        "    \"epsilon\":[0.01,0.1,1]\n",
        "}\n",
        "clf = SVR(gamma='scale')\n",
        "grid = GridSearchCV(clf, rf_params, cv=3, scoring='neg_mean_squared_error')\n",
        "grid.fit(X, y)\n",
        "print(grid.best_params_)\n",
        "print(\"MSE:\"+ str(-grid.best_score_))"
      ],
      "metadata": {
        "colab": {
          "base_uri": "https://localhost:8080/"
        },
        "id": "YMaDdODVAnAP",
        "outputId": "87622e61-187f-4ab6-9000-ef9fb50c2279"
      },
      "execution_count": 38,
      "outputs": [
        {
          "output_type": "stream",
          "name": "stdout",
          "text": [
            "{'C': 100, 'epsilon': 1, 'kernel': 'rbf'}\n",
            "MSE:1966.0013121579868\n"
          ]
        }
      ]
    },
    {
      "cell_type": "code",
      "source": [
        "from sklearn.model_selection import GridSearchCV\n",
        "rf_params = {\n",
        "    'n_neighbors': [2, 3, 5, 7, 10]\n",
        "}\n",
        "clf = KNeighborsRegressor()\n",
        "grid = GridSearchCV(clf, rf_params, cv=10, scoring='neg_mean_squared_error')\n",
        "grid.fit(X, y)\n",
        "print(grid.best_params_)\n",
        "print(\"MSE:\"+ str(-grid.best_score_))"
      ],
      "metadata": {
        "colab": {
          "base_uri": "https://localhost:8080/"
        },
        "id": "H-hJK1AeAusC",
        "outputId": "69b8845b-5a2d-4e52-ab13-c7adf8d77d9d"
      },
      "execution_count": 66,
      "outputs": [
        {
          "output_type": "stream",
          "name": "stdout",
          "text": [
            "{'n_neighbors': 10}\n",
            "MSE:1.0789139924635323\n"
          ]
        }
      ]
    },
    {
      "cell_type": "code",
      "source": [
        "from scipy.stats import randint as sp_randint\n",
        "from random import randrange as sp_randrange\n",
        "from sklearn.model_selection import RandomizedSearchCV\n",
        "rf_params = {\n",
        "    'optimizer': ['adam','rmsprop'],\n",
        "    'activation': ['relu','tanh'],\n",
        "    'loss': ['mse','mae'],\n",
        "    'batch_size': [16,32,64],\n",
        "    'neurons':sp_randint(10,100),\n",
        "    'epochs':[20,50],\n",
        "    #'epochs':[20,50,100,200],\n",
        "    'patience':sp_randint(3,20)\n",
        "}\n",
        "n_iter_search=10\n",
        "clf = KerasRegressor(build_fn=ANN, verbose=0)\n",
        "Random = RandomizedSearchCV(clf, param_distributions=rf_params,n_iter=n_iter_search,cv=3,scoring='neg_mean_squared_error')\n",
        "Random.fit(X, y)\n",
        "print(Random.best_params_)\n",
        "print(\"MSE:\"+ str(-Random.best_score_))"
      ],
      "metadata": {
        "colab": {
          "base_uri": "https://localhost:8080/"
        },
        "id": "k_VH-56SBdAz",
        "outputId": "f0fef8a9-cad9-4d82-dcd9-5703b9847257"
      },
      "execution_count": 41,
      "outputs": [
        {
          "output_type": "stream",
          "name": "stderr",
          "text": [
            "/usr/local/lib/python3.7/dist-packages/ipykernel_launcher.py:15: DeprecationWarning: KerasRegressor is deprecated, use Sci-Keras (https://github.com/adriangb/scikeras) instead. See https://www.adriangb.com/scikeras/stable/migration.html for help migrating.\n",
            "  from ipykernel import kernelapp as app\n"
          ]
        },
        {
          "output_type": "stream",
          "name": "stdout",
          "text": [
            "{'activation': 'relu', 'batch_size': 16, 'epochs': 50, 'loss': 'mse', 'neurons': 74, 'optimizer': 'adam', 'patience': 12}\n",
            "MSE:521.9782268331877\n"
          ]
        }
      ]
    },
    {
      "cell_type": "code",
      "source": [
        "df.info()"
      ],
      "metadata": {
        "colab": {
          "base_uri": "https://localhost:8080/"
        },
        "id": "puPhCTHpCc43",
        "outputId": "ba2b0b59-ac81-46f4-873e-819196614436"
      },
      "execution_count": 42,
      "outputs": [
        {
          "output_type": "stream",
          "name": "stdout",
          "text": [
            "<class 'pandas.core.frame.DataFrame'>\n",
            "RangeIndex: 100 entries, 0 to 99\n",
            "Data columns (total 7 columns):\n",
            " #   Column  Non-Null Count  Dtype  \n",
            "---  ------  --------------  -----  \n",
            " 0   X1      100 non-null    float64\n",
            " 1   X2      100 non-null    float64\n",
            " 2   X3      100 non-null    float64\n",
            " 3   X4      100 non-null    float64\n",
            " 4   X5      100 non-null    float64\n",
            " 5   X6      100 non-null    float64\n",
            " 6   y       100 non-null    float64\n",
            "dtypes: float64(7)\n",
            "memory usage: 5.6 KB\n"
          ]
        }
      ]
    },
    {
      "cell_type": "code",
      "source": [
        "df.describe()"
      ],
      "metadata": {
        "colab": {
          "base_uri": "https://localhost:8080/",
          "height": 300
        },
        "id": "fBU65NpgCfRU",
        "outputId": "822fd3fb-83a1-41fb-e4c1-3d06dc40c526"
      },
      "execution_count": 43,
      "outputs": [
        {
          "output_type": "execute_result",
          "data": {
            "text/plain": [
              "               X1          X2          X3          X4          X5          X6  \\\n",
              "count  100.000000  100.000000  100.000000  100.000000  100.000000  100.000000   \n",
              "mean     0.040816    0.124940   -0.009875    0.030211    0.044320   -0.154509   \n",
              "std      1.007363    0.964543    0.960129    0.996207    0.982037    1.109188   \n",
              "min     -2.476973   -2.293428   -2.947043   -2.553706   -2.268594   -2.999148   \n",
              "25%     -0.585465   -0.500905   -0.525230   -0.633561   -0.667551   -0.869163   \n",
              "50%      0.145300    0.096912    0.118036   -0.000483    0.017466   -0.075455   \n",
              "75%      0.644032    0.907072    0.580011    0.699404    0.591875    0.522583   \n",
              "max      2.716428    2.369442    2.009193    2.773656    2.410783    2.022496   \n",
              "\n",
              "                y  \n",
              "count  100.000000  \n",
              "mean    10.564440  \n",
              "std     91.675515  \n",
              "min   -240.482870  \n",
              "25%    -48.201070  \n",
              "50%     27.326539  \n",
              "75%     77.188662  \n",
              "max    184.360436  "
            ],
            "text/html": [
              "\n",
              "  <div id=\"df-43e60863-2367-483a-952b-e5d887ee6609\">\n",
              "    <div class=\"colab-df-container\">\n",
              "      <div>\n",
              "<style scoped>\n",
              "    .dataframe tbody tr th:only-of-type {\n",
              "        vertical-align: middle;\n",
              "    }\n",
              "\n",
              "    .dataframe tbody tr th {\n",
              "        vertical-align: top;\n",
              "    }\n",
              "\n",
              "    .dataframe thead th {\n",
              "        text-align: right;\n",
              "    }\n",
              "</style>\n",
              "<table border=\"1\" class=\"dataframe\">\n",
              "  <thead>\n",
              "    <tr style=\"text-align: right;\">\n",
              "      <th></th>\n",
              "      <th>X1</th>\n",
              "      <th>X2</th>\n",
              "      <th>X3</th>\n",
              "      <th>X4</th>\n",
              "      <th>X5</th>\n",
              "      <th>X6</th>\n",
              "      <th>y</th>\n",
              "    </tr>\n",
              "  </thead>\n",
              "  <tbody>\n",
              "    <tr>\n",
              "      <th>count</th>\n",
              "      <td>100.000000</td>\n",
              "      <td>100.000000</td>\n",
              "      <td>100.000000</td>\n",
              "      <td>100.000000</td>\n",
              "      <td>100.000000</td>\n",
              "      <td>100.000000</td>\n",
              "      <td>100.000000</td>\n",
              "    </tr>\n",
              "    <tr>\n",
              "      <th>mean</th>\n",
              "      <td>0.040816</td>\n",
              "      <td>0.124940</td>\n",
              "      <td>-0.009875</td>\n",
              "      <td>0.030211</td>\n",
              "      <td>0.044320</td>\n",
              "      <td>-0.154509</td>\n",
              "      <td>10.564440</td>\n",
              "    </tr>\n",
              "    <tr>\n",
              "      <th>std</th>\n",
              "      <td>1.007363</td>\n",
              "      <td>0.964543</td>\n",
              "      <td>0.960129</td>\n",
              "      <td>0.996207</td>\n",
              "      <td>0.982037</td>\n",
              "      <td>1.109188</td>\n",
              "      <td>91.675515</td>\n",
              "    </tr>\n",
              "    <tr>\n",
              "      <th>min</th>\n",
              "      <td>-2.476973</td>\n",
              "      <td>-2.293428</td>\n",
              "      <td>-2.947043</td>\n",
              "      <td>-2.553706</td>\n",
              "      <td>-2.268594</td>\n",
              "      <td>-2.999148</td>\n",
              "      <td>-240.482870</td>\n",
              "    </tr>\n",
              "    <tr>\n",
              "      <th>25%</th>\n",
              "      <td>-0.585465</td>\n",
              "      <td>-0.500905</td>\n",
              "      <td>-0.525230</td>\n",
              "      <td>-0.633561</td>\n",
              "      <td>-0.667551</td>\n",
              "      <td>-0.869163</td>\n",
              "      <td>-48.201070</td>\n",
              "    </tr>\n",
              "    <tr>\n",
              "      <th>50%</th>\n",
              "      <td>0.145300</td>\n",
              "      <td>0.096912</td>\n",
              "      <td>0.118036</td>\n",
              "      <td>-0.000483</td>\n",
              "      <td>0.017466</td>\n",
              "      <td>-0.075455</td>\n",
              "      <td>27.326539</td>\n",
              "    </tr>\n",
              "    <tr>\n",
              "      <th>75%</th>\n",
              "      <td>0.644032</td>\n",
              "      <td>0.907072</td>\n",
              "      <td>0.580011</td>\n",
              "      <td>0.699404</td>\n",
              "      <td>0.591875</td>\n",
              "      <td>0.522583</td>\n",
              "      <td>77.188662</td>\n",
              "    </tr>\n",
              "    <tr>\n",
              "      <th>max</th>\n",
              "      <td>2.716428</td>\n",
              "      <td>2.369442</td>\n",
              "      <td>2.009193</td>\n",
              "      <td>2.773656</td>\n",
              "      <td>2.410783</td>\n",
              "      <td>2.022496</td>\n",
              "      <td>184.360436</td>\n",
              "    </tr>\n",
              "  </tbody>\n",
              "</table>\n",
              "</div>\n",
              "      <button class=\"colab-df-convert\" onclick=\"convertToInteractive('df-43e60863-2367-483a-952b-e5d887ee6609')\"\n",
              "              title=\"Convert this dataframe to an interactive table.\"\n",
              "              style=\"display:none;\">\n",
              "        \n",
              "  <svg xmlns=\"http://www.w3.org/2000/svg\" height=\"24px\"viewBox=\"0 0 24 24\"\n",
              "       width=\"24px\">\n",
              "    <path d=\"M0 0h24v24H0V0z\" fill=\"none\"/>\n",
              "    <path d=\"M18.56 5.44l.94 2.06.94-2.06 2.06-.94-2.06-.94-.94-2.06-.94 2.06-2.06.94zm-11 1L8.5 8.5l.94-2.06 2.06-.94-2.06-.94L8.5 2.5l-.94 2.06-2.06.94zm10 10l.94 2.06.94-2.06 2.06-.94-2.06-.94-.94-2.06-.94 2.06-2.06.94z\"/><path d=\"M17.41 7.96l-1.37-1.37c-.4-.4-.92-.59-1.43-.59-.52 0-1.04.2-1.43.59L10.3 9.45l-7.72 7.72c-.78.78-.78 2.05 0 2.83L4 21.41c.39.39.9.59 1.41.59.51 0 1.02-.2 1.41-.59l7.78-7.78 2.81-2.81c.8-.78.8-2.07 0-2.86zM5.41 20L4 18.59l7.72-7.72 1.47 1.35L5.41 20z\"/>\n",
              "  </svg>\n",
              "      </button>\n",
              "      \n",
              "  <style>\n",
              "    .colab-df-container {\n",
              "      display:flex;\n",
              "      flex-wrap:wrap;\n",
              "      gap: 12px;\n",
              "    }\n",
              "\n",
              "    .colab-df-convert {\n",
              "      background-color: #E8F0FE;\n",
              "      border: none;\n",
              "      border-radius: 50%;\n",
              "      cursor: pointer;\n",
              "      display: none;\n",
              "      fill: #1967D2;\n",
              "      height: 32px;\n",
              "      padding: 0 0 0 0;\n",
              "      width: 32px;\n",
              "    }\n",
              "\n",
              "    .colab-df-convert:hover {\n",
              "      background-color: #E2EBFA;\n",
              "      box-shadow: 0px 1px 2px rgba(60, 64, 67, 0.3), 0px 1px 3px 1px rgba(60, 64, 67, 0.15);\n",
              "      fill: #174EA6;\n",
              "    }\n",
              "\n",
              "    [theme=dark] .colab-df-convert {\n",
              "      background-color: #3B4455;\n",
              "      fill: #D2E3FC;\n",
              "    }\n",
              "\n",
              "    [theme=dark] .colab-df-convert:hover {\n",
              "      background-color: #434B5C;\n",
              "      box-shadow: 0px 1px 3px 1px rgba(0, 0, 0, 0.15);\n",
              "      filter: drop-shadow(0px 1px 2px rgba(0, 0, 0, 0.3));\n",
              "      fill: #FFFFFF;\n",
              "    }\n",
              "  </style>\n",
              "\n",
              "      <script>\n",
              "        const buttonEl =\n",
              "          document.querySelector('#df-43e60863-2367-483a-952b-e5d887ee6609 button.colab-df-convert');\n",
              "        buttonEl.style.display =\n",
              "          google.colab.kernel.accessAllowed ? 'block' : 'none';\n",
              "\n",
              "        async function convertToInteractive(key) {\n",
              "          const element = document.querySelector('#df-43e60863-2367-483a-952b-e5d887ee6609');\n",
              "          const dataTable =\n",
              "            await google.colab.kernel.invokeFunction('convertToInteractive',\n",
              "                                                     [key], {});\n",
              "          if (!dataTable) return;\n",
              "\n",
              "          const docLinkHtml = 'Like what you see? Visit the ' +\n",
              "            '<a target=\"_blank\" href=https://colab.research.google.com/notebooks/data_table.ipynb>data table notebook</a>'\n",
              "            + ' to learn more about interactive tables.';\n",
              "          element.innerHTML = '';\n",
              "          dataTable['output_type'] = 'display_data';\n",
              "          await google.colab.output.renderOutput(dataTable, element);\n",
              "          const docLink = document.createElement('div');\n",
              "          docLink.innerHTML = docLinkHtml;\n",
              "          element.appendChild(docLink);\n",
              "        }\n",
              "      </script>\n",
              "    </div>\n",
              "  </div>\n",
              "  "
            ]
          },
          "metadata": {},
          "execution_count": 43
        }
      ]
    },
    {
      "cell_type": "code",
      "source": [
        "sns.heatmap(df.isnull(), cmap='coolwarm', yticklabels= False)"
      ],
      "metadata": {
        "colab": {
          "base_uri": "https://localhost:8080/",
          "height": 286
        },
        "id": "ea2hfxx6CkUn",
        "outputId": "978ca1cf-7bc9-4fe3-b280-1e912a5c7ce8"
      },
      "execution_count": 44,
      "outputs": [
        {
          "output_type": "execute_result",
          "data": {
            "text/plain": [
              "<matplotlib.axes._subplots.AxesSubplot at 0x7fc0572beb50>"
            ]
          },
          "metadata": {},
          "execution_count": 44
        },
        {
          "output_type": "display_data",
          "data": {
            "text/plain": [
              "<Figure size 432x288 with 2 Axes>"
            ],
            "image/png": "[encoded data removed]"
          },
          "metadata": {
            "needs_background": "light"
          }
        }
      ]
    },
    {
      "cell_type": "code",
      "source": [
        "sns.countplot(x = df['X2'])"
      ],
      "metadata": {
        "colab": {
          "base_uri": "https://localhost:8080/",
          "height": 296
        },
        "id": "FSu9CDNtDHSx",
        "outputId": "ea330d34-d937-49bd-bab6-86ef66522965"
      },
      "execution_count": 48,
      "outputs": [
        {
          "output_type": "execute_result",
          "data": {
            "text/plain": [
              "<matplotlib.axes._subplots.AxesSubplot at 0x7fc05a2b9410>"
            ]
          },
          "metadata": {},
          "execution_count": 48
        },
        {
          "output_type": "display_data",
          "data": {
            "text/plain": [
              "<Figure size 432x288 with 1 Axes>"
            ],
            "image/png": "[encoded data removed]"
          },
          "metadata": {
            "needs_background": "light"
          }
        }
      ]
    },
    {
      "cell_type": "code",
      "source": [
        "sns.countplot(x = df['X6'])"
      ],
      "metadata": {
        "colab": {
          "base_uri": "https://localhost:8080/",
          "height": 296
        },
        "id": "Q_hzvhRNDS7r",
        "outputId": "b880f07e-1326-44e2-d2ff-e07e53192ad0"
      },
      "execution_count": 49,
      "outputs": [
        {
          "output_type": "execute_result",
          "data": {
            "text/plain": [
              "<matplotlib.axes._subplots.AxesSubplot at 0x7fc05731ed50>"
            ]
          },
          "metadata": {},
          "execution_count": 49
        },
        {
          "output_type": "display_data",
          "data": {
            "text/plain": [
              "<Figure size 432x288 with 1 Axes>"
            ],
            "image/png": "[encoded data removed]"
          },
          "metadata": {
            "needs_background": "light"
          }
        }
      ]
    },
    {
      "cell_type": "code",
      "source": [
        "sns.jointplot(x = 'X4', y= 'X6', data = df, kind='kde', color = 'blue')"
      ],
      "metadata": {
        "colab": {
          "base_uri": "https://localhost:8080/",
          "height": 458
        },
        "id": "ZkDQcj1FDqB6",
        "outputId": "19b3df45-084d-4810-d13a-98d716f7949d"
      },
      "execution_count": 51,
      "outputs": [
        {
          "output_type": "execute_result",
          "data": {
            "text/plain": [
              "<seaborn.axisgrid.JointGrid at 0x7fc05a2cb750>"
            ]
          },
          "metadata": {},
          "execution_count": 51
        },
        {
          "output_type": "display_data",
          "data": {
            "text/plain": [
              "<Figure size 432x432 with 3 Axes>"
            ],
            "image/png": "[encoded data removed]"
          },
          "metadata": {
            "needs_background": "light"
          }
        }
      ]
    },
    {
      "cell_type": "code",
      "source": [
        "from sklearn.model_selection import train_test_split"
      ],
      "metadata": {
        "id": "zCoh-GCyFoWp"
      },
      "execution_count": 58,
      "outputs": []
    },
    {
      "cell_type": "code",
      "source": [
        "X = df.drop('X3', axis = 1)\n",
        "y = df['X3']\n",
        "X_train, X_test, y_train, y_test = train_test_split(X, y, test_size=0.30, random_state=7)"
      ],
      "metadata": {
        "id": "Z0hpjiD4FyGY"
      },
      "execution_count": 60,
      "outputs": []
    },
    {
      "cell_type": "code",
      "source": [
        "from sklearn.ensemble import RandomForestClassifier"
      ],
      "metadata": {
        "id": "E4pbmxZYF7TK"
      },
      "execution_count": 61,
      "outputs": []
    },
    {
      "cell_type": "code",
      "source": [
        "X = df[['X3']].values \n",
        "Y = df[['X5']].values "
      ],
      "metadata": {
        "id": "vPvW5iz0Gsit"
      },
      "execution_count": 64,
      "outputs": []
    },
    {
      "cell_type": "code",
      "source": [
        "from math import ceil\n",
        "import numpy as np\n",
        "from scipy import linalg  \n",
        " \n",
        " \n",
        "def lowess(x, y, f= 2. / 3., iter=3):\n",
        "    \n",
        "    n = len(x) # Number of x  points \n",
        "    r = int(ceil(f * n))  # Computing the residual of smoothing functions \n",
        "    h = [np.sort(np.abs(x - x[i]))[r] for i in range(n)] # \n",
        "    w = np.clip(np.abs((x[:, None] - x[None, :]) / h), 0.0, 1.0)  # Weight Function \n",
        "    w = (1 - w ** 3) ** 3  # Tricube Weight Function\n",
        "    ypred = np.zeros(n) # Initialisation of predictor \n",
        "    delta = np.ones(n)  # Initialisation of delta\n",
        "   \n",
        "    for iteration in range(iter):\n",
        "        for i in range(n):\n",
        "            weights = delta * w[:, i] # Cumulative Weights \n",
        "            b = np.array([np.sum(weights * y), np.sum(weights * y * x)]) # Matrix B\n",
        "            A = np.array([[np.sum(weights), np.sum(weights * x)],\n",
        "                          [np.sum(weights * x), np.sum(weights * x * x)]]) # Matrix A\n",
        "                      \n",
        "            beta = linalg.solve(A, b) # Beta,Solution of AX= B equation \n",
        "            ypred[i] = beta[0] + beta[1] * x[i]\n",
        "             \n",
        "        residuals = y - ypred   # Finding Residuals\n",
        "        s = np.median(np.abs(residuals))  # Median of Residuals\n",
        "        delta = np.clip(residuals / (6.0 * s), -1, 1)  # Delta\n",
        "        delta = (1 - delta ** 2) ** 2   # Delta \n",
        " \n",
        "    return ypred\n",
        " \n",
        "if __name__ == '__main__':  # Main Function\n",
        "    \n",
        "    import math\n",
        "    \n",
        "    n = 100  # Number of data points\n",
        "   \n",
        "    #Case1: Sinusoidal Fitting \n",
        "    x = X[:100].ravel()   \n",
        "    y = Y[:100].ravel()   # Noisy data\n",
        "       \n",
        "    \n",
        "    \n",
        "    f = 0.66\n",
        "    ypred = lowess(x, y, f=f, iter=3)  # Predicted  Data\n",
        "    \n",
        "    import pylab as pl\n",
        "    pl.clf()\n",
        "    pl.plot(x, y, label='Y NOISY')\n",
        "    pl.plot(x, ypred, label='Y PREDICTED')\n",
        "    pl.legend()\n",
        "    pl.show()"
      ],
      "metadata": {
        "colab": {
          "base_uri": "https://localhost:8080/",
          "height": 265
        },
        "id": "wm814qRrHm6K",
        "outputId": "563cd916-d948-4635-9cf0-f52e6daf95d6"
      },
      "execution_count": 65,
      "outputs": [
        {
          "output_type": "display_data",
          "data": {
            "text/plain": [
              "<Figure size 432x288 with 1 Axes>"
            ],
            "image/png": "[encoded data removed]"
          },
          "metadata": {
            "needs_background": "light"
          }
        }
      ]
    },
    {
      "cell_type": "code",
      "source": [
        "import dowhy\n",
        "from dowhy import CausalModel\n",
        "import dowhy.datasets\n",
        "\n",
        "import econml\n",
        "import warnings\n",
        "warnings.filterwarnings('ignore')\n",
        "\n",
        "BETA = 10"
      ],
      "metadata": {
        "id": "_SsoVhUBaRKR"
      },
      "execution_count": 121,
      "outputs": []
    },
    {
      "cell_type": "code",
      "source": [
        "from econml.dml import DML\n",
        "from sklearn.linear_model import LassoCV\n",
        "from sklearn.ensemble import GradientBoostingRegressor\n",
        "est = DML(model_y=GradientBoostingRegressor(),\n",
        "          model_t=GradientBoostingRegressor(),\n",
        "          model_final=LassoCV(fit_intercept=False))"
      ],
      "metadata": {
        "id": "A6Jln0KOako8"
      },
      "execution_count": 123,
      "outputs": []
    },
    {
      "cell_type": "code",
      "source": [
        "import inspect\n",
        "import numpy as np\n",
        "import warnings\n",
        "from joblib import Parallel, delayed\n",
        "from sklearn.linear_model import LassoCV, Lasso, LinearRegression\n",
        "from sklearn.model_selection import KFold\n",
        "from sklearn.preprocessing import PolynomialFeatures\n",
        "from sklearn.ensemble import RandomForestRegressor\n",
        "\n",
        "\n",
        "def cross_product(X1, X2):\n",
        "    \n",
        "    assert np.shape(X1)[0] == np.shape(X2)[0]\n",
        "    return np.array([np.dot(X1[t].reshape(-1, 1), X2[t].reshape(1, -1)).flatten('F').T for t in range(np.shape(X1)[0])])\n",
        "\n",
        "\n",
        "class HeteroDML(object):\n",
        "    \n",
        "    def __init__(self, poly_degree=3,\n",
        "                            model_T=LassoCV(),\n",
        "                            model_Y=LassoCV()):\n",
        "        self.poly_degree = poly_degree\n",
        "        self.model_T = model_T\n",
        "        self.model_Y = model_Y\n",
        "        self.model_final = LinearRegression(fit_intercept=False)\n",
        "    \n",
        "    def fit(self, W, x, T, Y):\n",
        "        poly_x = PolynomialFeatures(degree=self.poly_degree, include_bias=True).fit_transform(x)\n",
        "        composite_W = cross_product(poly_x, W)\n",
        "\n",
        "        res_T = np.zeros(W.shape[0])\n",
        "        res_Y = np.zeros(W.shape[0])\n",
        "        \n",
        "        kf = KFold(n_splits=2)\n",
        "        for train_index, test_index in kf.split(W):\n",
        "            # Split the data in half, train and test\n",
        "            composite_W_train, W_train, T_train, Y_train = composite_W[train_index], W[train_index], T[train_index], Y[train_index]\n",
        "            composite_W_test, W_test, T_test, Y_test  = composite_W[test_index], W[test_index], T[test_index], Y[test_index]\n",
        "            \n",
        "            # Fit with LassoCV the treatment as a function of W and the outcome as\n",
        "            # a function of W, using only the train fold\n",
        "            self.model_T.fit(W_train, T_train)\n",
        "            self.model_Y.fit(composite_W_train, Y_train)\n",
        "            \n",
        "            # Then compute residuals T-g(W) and Y-f(W) on test fold\n",
        "            res_T[test_index] = (T_test - self.model_T.predict(W_test))\n",
        "            res_Y[test_index] = (Y_test - self.model_Y.predict(composite_W_test))\n",
        "        \n",
        "        self.model_final.fit(cross_product(poly_x, res_T.reshape(-1, 1)), res_Y.flatten())\n",
        "\n",
        "    \n",
        "    def predict(self, x):\n",
        "        poly_x = PolynomialFeatures(degree=self.poly_degree, include_bias=True).fit_transform(x)\n",
        "        return np.dot(poly_x, self.model_final.coef_.reshape(-1, 1)).flatten()\n",
        "\n",
        "\n",
        "class ForestHeteroDML(object):\n",
        "    \n",
        "    def __init__(self):\n",
        "        self.model_T = RandomForestRegressor(n_estimators=100, max_depth=10, min_samples_leaf=10)\n",
        "        self.model_Y = RandomForestRegressor(n_estimators=100, max_depth=10, min_samples_leaf=10)\n",
        "        self.model_final = RandomForestRegressor(n_estimators=100, max_depth=10, min_impurity_split=10)\n",
        "    \n",
        "    def fit(self, W, x, T, Y):\n",
        "\n",
        "        res_T = np.zeros(W.shape[0])\n",
        "        res_Y = np.zeros(W.shape[0])\n",
        "        \n",
        "        kf = KFold(n_splits=2)\n",
        "        for train_index, test_index in kf.split(W):\n",
        "            # Split the data in half, train and test\n",
        "            x_train, W_train, T_train, Y_train = x[train_index], W[train_index], T[train_index], Y[train_index]\n",
        "            x_test, W_test, T_test, Y_test  = x[test_index], W[test_index], T[test_index], Y[test_index]\n",
        "            \n",
        "            # Fit with LassoCV the treatment as a function of W and the outcome as\n",
        "            # a function of W, using only the train fold\n",
        "            self.model_T.fit(W_train, T_train)\n",
        "            self.model_Y.fit(np.concatenate((x_train, W_train), axis=1), Y_train)\n",
        "            \n",
        "            # Then compute residuals T-g(W) and Y-f(W) on test fold\n",
        "            res_T[test_index] = (T_test - self.model_T.predict(W_test))\n",
        "            res_Y[test_index] = (Y_test - self.model_Y.predict(np.concatenate((x_test, W_test), axis=1)))\n",
        "\n",
        "        self.model_final.fit(np.concatenate((x, res_T.reshape(-1, 1)), axis=1), res_Y.flatten())\n",
        "        self.res_T = res_T\n",
        "\n",
        "    \n",
        "    def predict(self, x):\n",
        "        # We create fake treatment points from the same distribution as the residuals created during the fit process\n",
        "        # For each target x, we evaluate the model_final.predict for each such treatment point, and then we average\n",
        "        # over the predictions to get the prediction at x, i.e. \\tau(x) = E_{res_T\\sim D_train}[predict(x, res_T)]\n",
        "        return np.mean([self.model_final.predict(np.concatenate((x, np.ones((x.shape[0],1))*t), axis=1)).flatten()/(t+0.00001) for  t in self.res_T.flatten()], axis=0).flatten()\n"
      ],
      "metadata": {
        "id": "8fKy5-7ZaTwD"
      },
      "execution_count": 124,
      "outputs": []
    },
    {
      "cell_type": "code",
      "source": [
        "from sklearn.model_selection import GridSearchCV\n",
        "# Define the hyperparameter configuration space\n",
        "rf_params = {\n",
        "    'n_estimators': [10, 20, 30],\n",
        "    #'max_features': ['sqrt',0.5],\n",
        "    'max_depth': [15,20,30,50],\n",
        "    #'min_samples_leaf': [1,2,4,8],\n",
        "    #\"bootstrap\":[True,False],\n",
        "    #\"criterion\":['mse','mae']\n",
        "}\n",
        "clf = RandomForestRegressor(random_state=0)\n",
        "grid = GridSearchCV(clf, rf_params, cv=3, scoring='neg_mean_squared_error')\n",
        "grid.fit(X, y)\n",
        "print(grid.best_params_)\n",
        "print(\"MSE:\"+ str(-grid.best_score_))"
      ],
      "metadata": {
        "colab": {
          "base_uri": "https://localhost:8080/"
        },
        "id": "65gOMUGS_xBN",
        "outputId": "a4963983-1f74-41ae-ef86-4f036d306d83"
      },
      "execution_count": 132,
      "outputs": [
        {
          "output_type": "stream",
          "name": "stdout",
          "text": [
            "{'max_depth': 20, 'n_estimators': 20}\n",
            "MSE:1.0562840272128313\n"
          ]
        }
      ]
    },
    {
      "cell_type": "code",
      "source": [
        "from sklearn.model_selection import GridSearchCV\n",
        "rf_params = {\n",
        "    'C': [1,10, 100],\n",
        "    \"kernel\":['poly','rbf','sigmoid'],\n",
        "    \"epsilon\":[0.01,0.1,1]\n",
        "}\n",
        "clf = SVR(gamma='scale')\n",
        "grid = GridSearchCV(clf, rf_params, cv=3, scoring='neg_mean_squared_error')\n",
        "grid.fit(X, y)\n",
        "print(grid.best_params_)\n",
        "print(\"MSE:\"+ str(-grid.best_score_))"
      ],
      "metadata": {
        "colab": {
          "base_uri": "https://localhost:8080/"
        },
        "id": "rqWywWB9_yjA",
        "outputId": "dd33d58a-feb1-4cf3-abfa-be9c8f20ee28"
      },
      "execution_count": 133,
      "outputs": [
        {
          "output_type": "stream",
          "name": "stdout",
          "text": [
            "{'C': 1, 'epsilon': 0.1, 'kernel': 'poly'}\n",
            "MSE:0.8004480314930628\n"
          ]
        }
      ]
    },
    {
      "cell_type": "code",
      "source": [
        "from sklearn.model_selection import GridSearchCV\n",
        "rf_params = {\n",
        "    'n_neighbors': [2, 3, 5, 7, 10]\n",
        "}\n",
        "clf = KNeighborsRegressor()\n",
        "grid = GridSearchCV(clf, rf_params, cv=3, scoring='neg_mean_squared_error')\n",
        "grid.fit(X, y)\n",
        "print(grid.best_params_)\n",
        "print(\"MSE:\"+ str(-grid.best_score_))"
      ],
      "metadata": {
        "colab": {
          "base_uri": "https://localhost:8080/"
        },
        "id": "fhLRJQvE_ywW",
        "outputId": "38263678-bc9d-41b5-a147-ef10e28e3a17"
      },
      "execution_count": 134,
      "outputs": [
        {
          "output_type": "stream",
          "name": "stdout",
          "text": [
            "{'n_neighbors': 10}\n",
            "MSE:0.9304325488848337\n"
          ]
        }
      ]
    },
    {
      "cell_type": "code",
      "source": [
        "from sklearn.model_selection import GridSearchCV\n",
        "rf_params = {\n",
        "    'optimizer': ['adam','rmsprop'],\n",
        "    'activation': ['relu','tanh'],\n",
        "    'loss': ['mse','mae'],\n",
        "    'batch_size': [16,32],\n",
        "    'neurons':[16,32],\n",
        "    'epochs':[20,50],\n",
        "    'patience':[2,5]\n",
        "}\n",
        "clf = KerasRegressor(build_fn=ANN, verbose=0)\n",
        "grid = GridSearchCV(clf, rf_params, cv=3,scoring='neg_mean_squared_error')\n",
        "grid.fit(X, y)\n",
        "print(grid.best_params_)\n",
        "print(\"MSE:\"+ str(-grid.best_score_))"
      ],
      "metadata": {
        "colab": {
          "base_uri": "https://localhost:8080/"
        },
        "id": "dDvUShwrAd0R",
        "outputId": "18316f9d-54e5-4c07-fa10-c39bd1670867"
      },
      "execution_count": 135,
      "outputs": [
        {
          "output_type": "stream",
          "name": "stdout",
          "text": [
            "{'activation': 'tanh', 'batch_size': 16, 'epochs': 50, 'loss': 'mse', 'neurons': 32, 'optimizer': 'rmsprop', 'patience': 5}\n",
            "MSE:0.8080005941457739\n"
          ]
        }
      ]
    },
    {
      "cell_type": "markdown",
      "source": [
        "**DATASET 2**"
      ],
      "metadata": {
        "id": "JSuDWHSNKC9x"
      }
    },
    {
      "cell_type": "code",
      "source": [
        "import pandas as pd"
      ],
      "metadata": {
        "id": "DqXHYmDeJ_Fi"
      },
      "execution_count": 72,
      "outputs": []
    },
    {
      "cell_type": "code",
      "source": [
        "df = pd.read_csv(\"/content/jobs.csv\")\n",
        "df.head()"
      ],
      "metadata": {
        "colab": {
          "base_uri": "https://localhost:8080/",
          "height": 270
        },
        "id": "WAhe_qpuKSlH",
        "outputId": "f8e303fd-3992-4eb5-8a9d-480370d24141"
      },
      "execution_count": 73,
      "outputs": [
        {
          "output_type": "execute_result",
          "data": {
            "text/plain": [
              "         x1        x2   x3   x4   x5   x6        x7        x8        x9  \\\n",
              "0 -0.614282  1.464727  0.0  0.0  1.0  0.0  2.393250  2.746196 -0.653311   \n",
              "1 -0.802463  0.101835  0.0  0.0  1.0  0.0  0.109885  0.498271 -0.785284   \n",
              "2 -0.896553 -0.238888  1.0  0.0  1.0  1.0 -0.085212 -0.148097 -0.847312   \n",
              "3 -0.896553 -0.238888  0.0  0.0  0.0  1.0  0.405581  0.325594 -0.847312   \n",
              "4  0.138440 -1.601779  1.0  0.0  1.0  1.0 -0.722531 -0.212734 -0.019840   \n",
              "\n",
              "        x10       x11       x12       x13  x14  x15       x16  x17    t    y  \\\n",
              "0 -0.656913  1.627531  2.462337  2.937244  0.0  0.0  2.843909  0.0  0.0  1.0   \n",
              "1 -0.743407 -0.022502 -0.177193  0.082537  0.0  0.0  0.038422  0.0  0.0  1.0   \n",
              "2 -0.781606 -0.361348 -0.286221 -0.303615  0.0  0.0 -0.191304  0.0  0.0  1.0   \n",
              "3 -0.781606 -0.361348  0.023020 -0.039630  0.0  0.0  0.173108  0.0  0.0  1.0   \n",
              "4 -0.156019 -1.422084 -0.514563 -0.331552  0.0  0.0 -0.779227  0.0  0.0  1.0   \n",
              "\n",
              "     e  \n",
              "0  0.0  \n",
              "1  0.0  \n",
              "2  0.0  \n",
              "3  1.0  \n",
              "4  0.0  "
            ],
            "text/html": [
              "\n",
              "  <div id=\"df-21f69773-2604-4c74-879c-2ffc520aabb7\">\n",
              "    <div class=\"colab-df-container\">\n",
              "      <div>\n",
              "<style scoped>\n",
              "    .dataframe tbody tr th:only-of-type {\n",
              "        vertical-align: middle;\n",
              "    }\n",
              "\n",
              "    .dataframe tbody tr th {\n",
              "        vertical-align: top;\n",
              "    }\n",
              "\n",
              "    .dataframe thead th {\n",
              "        text-align: right;\n",
              "    }\n",
              "</style>\n",
              "<table border=\"1\" class=\"dataframe\">\n",
              "  <thead>\n",
              "    <tr style=\"text-align: right;\">\n",
              "      <th></th>\n",
              "      <th>x1</th>\n",
              "      <th>x2</th>\n",
              "      <th>x3</th>\n",
              "      <th>x4</th>\n",
              "      <th>x5</th>\n",
              "      <th>x6</th>\n",
              "      <th>x7</th>\n",
              "      <th>x8</th>\n",
              "      <th>x9</th>\n",
              "      <th>x10</th>\n",
              "      <th>x11</th>\n",
              "      <th>x12</th>\n",
              "      <th>x13</th>\n",
              "      <th>x14</th>\n",
              "      <th>x15</th>\n",
              "      <th>x16</th>\n",
              "      <th>x17</th>\n",
              "      <th>t</th>\n",
              "      <th>y</th>\n",
              "      <th>e</th>\n",
              "    </tr>\n",
              "  </thead>\n",
              "  <tbody>\n",
              "    <tr>\n",
              "      <th>0</th>\n",
              "      <td>-0.614282</td>\n",
              "      <td>1.464727</td>\n",
              "      <td>0.0</td>\n",
              "      <td>0.0</td>\n",
              "      <td>1.0</td>\n",
              "      <td>0.0</td>\n",
              "      <td>2.393250</td>\n",
              "      <td>2.746196</td>\n",
              "      <td>-0.653311</td>\n",
              "      <td>-0.656913</td>\n",
              "      <td>1.627531</td>\n",
              "      <td>2.462337</td>\n",
              "      <td>2.937244</td>\n",
              "      <td>0.0</td>\n",
              "      <td>0.0</td>\n",
              "      <td>2.843909</td>\n",
              "      <td>0.0</td>\n",
              "      <td>0.0</td>\n",
              "      <td>1.0</td>\n",
              "      <td>0.0</td>\n",
              "    </tr>\n",
              "    <tr>\n",
              "      <th>1</th>\n",
              "      <td>-0.802463</td>\n",
              "      <td>0.101835</td>\n",
              "      <td>0.0</td>\n",
              "      <td>0.0</td>\n",
              "      <td>1.0</td>\n",
              "      <td>0.0</td>\n",
              "      <td>0.109885</td>\n",
              "      <td>0.498271</td>\n",
              "      <td>-0.785284</td>\n",
              "      <td>-0.743407</td>\n",
              "      <td>-0.022502</td>\n",
              "      <td>-0.177193</td>\n",
              "      <td>0.082537</td>\n",
              "      <td>0.0</td>\n",
              "      <td>0.0</td>\n",
              "      <td>0.038422</td>\n",
              "      <td>0.0</td>\n",
              "      <td>0.0</td>\n",
              "      <td>1.0</td>\n",
              "      <td>0.0</td>\n",
              "    </tr>\n",
              "    <tr>\n",
              "      <th>2</th>\n",
              "      <td>-0.896553</td>\n",
              "      <td>-0.238888</td>\n",
              "      <td>1.0</td>\n",
              "      <td>0.0</td>\n",
              "      <td>1.0</td>\n",
              "      <td>1.0</td>\n",
              "      <td>-0.085212</td>\n",
              "      <td>-0.148097</td>\n",
              "      <td>-0.847312</td>\n",
              "      <td>-0.781606</td>\n",
              "      <td>-0.361348</td>\n",
              "      <td>-0.286221</td>\n",
              "      <td>-0.303615</td>\n",
              "      <td>0.0</td>\n",
              "      <td>0.0</td>\n",
              "      <td>-0.191304</td>\n",
              "      <td>0.0</td>\n",
              "      <td>0.0</td>\n",
              "      <td>1.0</td>\n",
              "      <td>0.0</td>\n",
              "    </tr>\n",
              "    <tr>\n",
              "      <th>3</th>\n",
              "      <td>-0.896553</td>\n",
              "      <td>-0.238888</td>\n",
              "      <td>0.0</td>\n",
              "      <td>0.0</td>\n",
              "      <td>0.0</td>\n",
              "      <td>1.0</td>\n",
              "      <td>0.405581</td>\n",
              "      <td>0.325594</td>\n",
              "      <td>-0.847312</td>\n",
              "      <td>-0.781606</td>\n",
              "      <td>-0.361348</td>\n",
              "      <td>0.023020</td>\n",
              "      <td>-0.039630</td>\n",
              "      <td>0.0</td>\n",
              "      <td>0.0</td>\n",
              "      <td>0.173108</td>\n",
              "      <td>0.0</td>\n",
              "      <td>0.0</td>\n",
              "      <td>1.0</td>\n",
              "      <td>1.0</td>\n",
              "    </tr>\n",
              "    <tr>\n",
              "      <th>4</th>\n",
              "      <td>0.138440</td>\n",
              "      <td>-1.601779</td>\n",
              "      <td>1.0</td>\n",
              "      <td>0.0</td>\n",
              "      <td>1.0</td>\n",
              "      <td>1.0</td>\n",
              "      <td>-0.722531</td>\n",
              "      <td>-0.212734</td>\n",
              "      <td>-0.019840</td>\n",
              "      <td>-0.156019</td>\n",
              "      <td>-1.422084</td>\n",
              "      <td>-0.514563</td>\n",
              "      <td>-0.331552</td>\n",
              "      <td>0.0</td>\n",
              "      <td>0.0</td>\n",
              "      <td>-0.779227</td>\n",
              "      <td>0.0</td>\n",
              "      <td>0.0</td>\n",
              "      <td>1.0</td>\n",
              "      <td>0.0</td>\n",
              "    </tr>\n",
              "  </tbody>\n",
              "</table>\n",
              "</div>\n",
              "      <button class=\"colab-df-convert\" onclick=\"convertToInteractive('df-21f69773-2604-4c74-879c-2ffc520aabb7')\"\n",
              "              title=\"Convert this dataframe to an interactive table.\"\n",
              "              style=\"display:none;\">\n",
              "        \n",
              "  <svg xmlns=\"http://www.w3.org/2000/svg\" height=\"24px\"viewBox=\"0 0 24 24\"\n",
              "       width=\"24px\">\n",
              "    <path d=\"M0 0h24v24H0V0z\" fill=\"none\"/>\n",
              "    <path d=\"M18.56 5.44l.94 2.06.94-2.06 2.06-.94-2.06-.94-.94-2.06-.94 2.06-2.06.94zm-11 1L8.5 8.5l.94-2.06 2.06-.94-2.06-.94L8.5 2.5l-.94 2.06-2.06.94zm10 10l.94 2.06.94-2.06 2.06-.94-2.06-.94-.94-2.06-.94 2.06-2.06.94z\"/><path d=\"M17.41 7.96l-1.37-1.37c-.4-.4-.92-.59-1.43-.59-.52 0-1.04.2-1.43.59L10.3 9.45l-7.72 7.72c-.78.78-.78 2.05 0 2.83L4 21.41c.39.39.9.59 1.41.59.51 0 1.02-.2 1.41-.59l7.78-7.78 2.81-2.81c.8-.78.8-2.07 0-2.86zM5.41 20L4 18.59l7.72-7.72 1.47 1.35L5.41 20z\"/>\n",
              "  </svg>\n",
              "      </button>\n",
              "      \n",
              "  <style>\n",
              "    .colab-df-container {\n",
              "      display:flex;\n",
              "      flex-wrap:wrap;\n",
              "      gap: 12px;\n",
              "    }\n",
              "\n",
              "    .colab-df-convert {\n",
              "      background-color: #E8F0FE;\n",
              "      border: none;\n",
              "      border-radius: 50%;\n",
              "      cursor: pointer;\n",
              "      display: none;\n",
              "      fill: #1967D2;\n",
              "      height: 32px;\n",
              "      padding: 0 0 0 0;\n",
              "      width: 32px;\n",
              "    }\n",
              "\n",
              "    .colab-df-convert:hover {\n",
              "      background-color: #E2EBFA;\n",
              "      box-shadow: 0px 1px 2px rgba(60, 64, 67, 0.3), 0px 1px 3px 1px rgba(60, 64, 67, 0.15);\n",
              "      fill: #174EA6;\n",
              "    }\n",
              "\n",
              "    [theme=dark] .colab-df-convert {\n",
              "      background-color: #3B4455;\n",
              "      fill: #D2E3FC;\n",
              "    }\n",
              "\n",
              "    [theme=dark] .colab-df-convert:hover {\n",
              "      background-color: #434B5C;\n",
              "      box-shadow: 0px 1px 3px 1px rgba(0, 0, 0, 0.15);\n",
              "      filter: drop-shadow(0px 1px 2px rgba(0, 0, 0, 0.3));\n",
              "      fill: #FFFFFF;\n",
              "    }\n",
              "  </style>\n",
              "\n",
              "      <script>\n",
              "        const buttonEl =\n",
              "          document.querySelector('#df-21f69773-2604-4c74-879c-2ffc520aabb7 button.colab-df-convert');\n",
              "        buttonEl.style.display =\n",
              "          google.colab.kernel.accessAllowed ? 'block' : 'none';\n",
              "\n",
              "        async function convertToInteractive(key) {\n",
              "          const element = document.querySelector('#df-21f69773-2604-4c74-879c-2ffc520aabb7');\n",
              "          const dataTable =\n",
              "            await google.colab.kernel.invokeFunction('convertToInteractive',\n",
              "                                                     [key], {});\n",
              "          if (!dataTable) return;\n",
              "\n",
              "          const docLinkHtml = 'Like what you see? Visit the ' +\n",
              "            '<a target=\"_blank\" href=https://colab.research.google.com/notebooks/data_table.ipynb>data table notebook</a>'\n",
              "            + ' to learn more about interactive tables.';\n",
              "          element.innerHTML = '';\n",
              "          dataTable['output_type'] = 'display_data';\n",
              "          await google.colab.output.renderOutput(dataTable, element);\n",
              "          const docLink = document.createElement('div');\n",
              "          docLink.innerHTML = docLinkHtml;\n",
              "          element.appendChild(docLink);\n",
              "        }\n",
              "      </script>\n",
              "    </div>\n",
              "  </div>\n",
              "  "
            ]
          },
          "metadata": {},
          "execution_count": 73
        }
      ]
    },
    {
      "cell_type": "code",
      "source": [
        "import numpy as np\n",
        "\n",
        "def pehe(effect_true, effect_pred):\n",
        "    \"\"\"\n",
        "    Precision in Estimating the Heterogeneous Treatment Effect (PEHE)\n",
        "    :param effect_true: true treatment effect value\n",
        "    :param effect_pred: predicted treatment effect value\n",
        "    :return: PEHE\n",
        "    \"\"\"\n",
        "    # This function should be completed as part of Unit 4.\n",
        "\n",
        "def abs_ate(effect_true, effect_pred):\n",
        "    \"\"\"\n",
        "    Absolute error for the Average Treatment Effect (ATE)\n",
        "    :param effect_true: true treatment effect value\n",
        "    :param effect_pred: predicted treatment effect value\n",
        "    :return: absolute error on ATE\n",
        "    \"\"\"\n",
        "    # This function should be completed as part of Unit 4.\n",
        "\n",
        "def abs_att(effect_pred, yf, t, e):\n",
        "    \"\"\"\n",
        "    Absolute error for the Average Treatment Effect on the Treated\n",
        "    :param effect_pred: predicted treatment effect value\n",
        "    :param yf: factual (observed) outcome\n",
        "    :param t: treatment status (treated/control)\n",
        "    :param e: whether belongs to the experimental group\n",
        "    :return: absolute error on ATT\n",
        "    \"\"\"\n",
        "    att_true = np.mean(yf[t > 0]) - np.mean(yf[(1 - t + e) > 1])\n",
        "    att_pred = np.mean(effect_pred[(t + e) > 1])\n",
        "\n",
        "    return np.abs(att_pred - att_true)\n",
        "\n",
        "def policy_risk(effect_pred, yf, t, e):\n",
        "    \"\"\"\n",
        "    Computes the risk of the policy defined by predicted effect\n",
        "    :param effect_pred: predicted treatment effect value\n",
        "    :param yf: factual (observed) outcome\n",
        "    :param t: treatment status (treated/control)\n",
        "    :param e: whether belongs to the experimental group\n",
        "    :return: policy risk\n",
        "    \"\"\"\n",
        "    # Consider only the cases for which we have experimental data (i.e., e > 0)\n",
        "    t_e = t[e > 0]\n",
        "    yf_e = yf[e > 0]\n",
        "    effect_pred_e = effect_pred[e > 0]\n",
        "\n",
        "    if np.any(np.isnan(effect_pred_e)):\n",
        "        return np.nan\n",
        "\n",
        "    policy = effect_pred_e > 0.0\n",
        "    treat_overlap = (policy == t_e) * (t_e > 0)\n",
        "    control_overlap = (policy == t_e) * (t_e < 1)\n",
        "\n",
        "    if np.sum(treat_overlap) == 0:\n",
        "        treat_value = 0\n",
        "    else:\n",
        "        treat_value = np.mean(yf_e[treat_overlap])\n",
        "\n",
        "    if np.sum(control_overlap) == 0:\n",
        "        control_value = 0\n",
        "    else:\n",
        "        control_value = np.mean(yf_e[control_overlap])\n",
        "\n",
        "    pit = np.mean(policy)\n",
        "    policy_value = pit * treat_value + (1.0 - pit) * control_value\n",
        "\n",
        "    return 1.0 - policy_value"
      ],
      "metadata": {
        "id": "bG8pPNY5Kdea"
      },
      "execution_count": 74,
      "outputs": []
    },
    {
      "cell_type": "code",
      "source": [
        "df.drop(\"x5\", axis=1)"
      ],
      "metadata": {
        "colab": {
          "base_uri": "https://localhost:8080/",
          "height": 488
        },
        "id": "1rr2Q9HbKf0b",
        "outputId": "dd10d03e-5721-4704-e630-fdcc97584fb0"
      },
      "execution_count": 75,
      "outputs": [
        {
          "output_type": "execute_result",
          "data": {
            "text/plain": [
              "            x1        x2   x3   x4   x6        x7        x8        x9  \\\n",
              "0    -0.614282  1.464727  0.0  0.0  0.0  2.393250  2.746196 -0.653311   \n",
              "1    -0.802463  0.101835  0.0  0.0  0.0  0.109885  0.498271 -0.785284   \n",
              "2    -0.896553 -0.238888  1.0  0.0  1.0 -0.085212 -0.148097 -0.847312   \n",
              "3    -0.896553 -0.238888  0.0  0.0  1.0  0.405581  0.325594 -0.847312   \n",
              "4     0.138440 -1.601779  1.0  0.0  1.0 -0.722531 -0.212734 -0.019840   \n",
              "...        ...       ...  ...  ...  ...       ...       ...       ...   \n",
              "3207  1.737976  1.805449  0.0  0.0  0.0  4.235839 -1.110467  1.887171   \n",
              "3208 -0.520192  0.101835  0.0  0.0  0.0  0.239950  0.289997 -0.583365   \n",
              "3209 -0.802463  0.442558  1.0  0.0  0.0  0.124337  0.692182 -0.785284   \n",
              "3210  0.702982  0.101835  0.0  0.0  0.0  0.341112  0.670636  0.566120   \n",
              "3211  1.455705  0.101835  0.0  0.0  0.0 -1.147411 -1.110467  1.495211   \n",
              "\n",
              "           x10       x11       x12       x13  x14  x15       x16  x17    t  \\\n",
              "0    -0.656913  1.627531  2.462337  2.937244  0.0  0.0  2.843909  0.0  0.0   \n",
              "1    -0.743407 -0.022502 -0.177193  0.082537  0.0  0.0  0.038422  0.0  0.0   \n",
              "2    -0.781606 -0.361348 -0.286221 -0.303615  0.0  0.0 -0.191304  0.0  0.0   \n",
              "3    -0.781606 -0.361348  0.023020 -0.039630  0.0  0.0  0.173108  0.0  0.0   \n",
              "4    -0.156019 -1.422084 -0.514563 -0.331552  0.0  0.0 -0.779227  0.0  0.0   \n",
              "...        ...       ...       ...       ...  ...  ...       ...  ...  ...   \n",
              "3207  1.995900  2.113702  6.424008 -0.518815  0.0  1.0  5.197260  0.0  0.0   \n",
              "3208 -0.608340 -0.022502 -0.094318 -0.063091  0.0  0.0  0.143774  0.0  0.0   \n",
              "3209 -0.743407  0.345809 -0.168387  0.236242  0.0  0.0  0.135970  0.0  0.0   \n",
              "3210  0.413295 -0.022502 -0.024223  0.218301  0.0  0.0  0.225715  0.0  0.0   \n",
              "3211  1.487376 -0.022502 -0.558057 -0.518815  1.0  1.0 -0.979981  0.0  0.0   \n",
              "\n",
              "        y    e  \n",
              "0     1.0  0.0  \n",
              "1     1.0  0.0  \n",
              "2     1.0  0.0  \n",
              "3     1.0  1.0  \n",
              "4     1.0  0.0  \n",
              "...   ...  ...  \n",
              "3207  0.0  0.0  \n",
              "3208  1.0  0.0  \n",
              "3209  1.0  0.0  \n",
              "3210  1.0  0.0  \n",
              "3211  1.0  0.0  \n",
              "\n",
              "[3212 rows x 19 columns]"
            ],
            "text/html": [
              "\n",
              "  <div id=\"df-e809ca11-b5e3-48fa-87ed-d358d570b1ac\">\n",
              "    <div class=\"colab-df-container\">\n",
              "      <div>\n",
              "<style scoped>\n",
              "    .dataframe tbody tr th:only-of-type {\n",
              "        vertical-align: middle;\n",
              "    }\n",
              "\n",
              "    .dataframe tbody tr th {\n",
              "        vertical-align: top;\n",
              "    }\n",
              "\n",
              "    .dataframe thead th {\n",
              "        text-align: right;\n",
              "    }\n",
              "</style>\n",
              "<table border=\"1\" class=\"dataframe\">\n",
              "  <thead>\n",
              "    <tr style=\"text-align: right;\">\n",
              "      <th></th>\n",
              "      <th>x1</th>\n",
              "      <th>x2</th>\n",
              "      <th>x3</th>\n",
              "      <th>x4</th>\n",
              "      <th>x6</th>\n",
              "      <th>x7</th>\n",
              "      <th>x8</th>\n",
              "      <th>x9</th>\n",
              "      <th>x10</th>\n",
              "      <th>x11</th>\n",
              "      <th>x12</th>\n",
              "      <th>x13</th>\n",
              "      <th>x14</th>\n",
              "      <th>x15</th>\n",
              "      <th>x16</th>\n",
              "      <th>x17</th>\n",
              "      <th>t</th>\n",
              "      <th>y</th>\n",
              "      <th>e</th>\n",
              "    </tr>\n",
              "  </thead>\n",
              "  <tbody>\n",
              "    <tr>\n",
              "      <th>0</th>\n",
              "      <td>-0.614282</td>\n",
              "      <td>1.464727</td>\n",
              "      <td>0.0</td>\n",
              "      <td>0.0</td>\n",
              "      <td>0.0</td>\n",
              "      <td>2.393250</td>\n",
              "      <td>2.746196</td>\n",
              "      <td>-0.653311</td>\n",
              "      <td>-0.656913</td>\n",
              "      <td>1.627531</td>\n",
              "      <td>2.462337</td>\n",
              "      <td>2.937244</td>\n",
              "      <td>0.0</td>\n",
              "      <td>0.0</td>\n",
              "      <td>2.843909</td>\n",
              "      <td>0.0</td>\n",
              "      <td>0.0</td>\n",
              "      <td>1.0</td>\n",
              "      <td>0.0</td>\n",
              "    </tr>\n",
              "    <tr>\n",
              "      <th>1</th>\n",
              "      <td>-0.802463</td>\n",
              "      <td>0.101835</td>\n",
              "      <td>0.0</td>\n",
              "      <td>0.0</td>\n",
              "      <td>0.0</td>\n",
              "      <td>0.109885</td>\n",
              "      <td>0.498271</td>\n",
              "      <td>-0.785284</td>\n",
              "      <td>-0.743407</td>\n",
              "      <td>-0.022502</td>\n",
              "      <td>-0.177193</td>\n",
              "      <td>0.082537</td>\n",
              "      <td>0.0</td>\n",
              "      <td>0.0</td>\n",
              "      <td>0.038422</td>\n",
              "      <td>0.0</td>\n",
              "      <td>0.0</td>\n",
              "      <td>1.0</td>\n",
              "      <td>0.0</td>\n",
              "    </tr>\n",
              "    <tr>\n",
              "      <th>2</th>\n",
              "      <td>-0.896553</td>\n",
              "      <td>-0.238888</td>\n",
              "      <td>1.0</td>\n",
              "      <td>0.0</td>\n",
              "      <td>1.0</td>\n",
              "      <td>-0.085212</td>\n",
              "      <td>-0.148097</td>\n",
              "      <td>-0.847312</td>\n",
              "      <td>-0.781606</td>\n",
              "      <td>-0.361348</td>\n",
              "      <td>-0.286221</td>\n",
              "      <td>-0.303615</td>\n",
              "      <td>0.0</td>\n",
              "      <td>0.0</td>\n",
              "      <td>-0.191304</td>\n",
              "      <td>0.0</td>\n",
              "      <td>0.0</td>\n",
              "      <td>1.0</td>\n",
              "      <td>0.0</td>\n",
              "    </tr>\n",
              "    <tr>\n",
              "      <th>3</th>\n",
              "      <td>-0.896553</td>\n",
              "      <td>-0.238888</td>\n",
              "      <td>0.0</td>\n",
              "      <td>0.0</td>\n",
              "      <td>1.0</td>\n",
              "      <td>0.405581</td>\n",
              "      <td>0.325594</td>\n",
              "      <td>-0.847312</td>\n",
              "      <td>-0.781606</td>\n",
              "      <td>-0.361348</td>\n",
              "      <td>0.023020</td>\n",
              "      <td>-0.039630</td>\n",
              "      <td>0.0</td>\n",
              "      <td>0.0</td>\n",
              "      <td>0.173108</td>\n",
              "      <td>0.0</td>\n",
              "      <td>0.0</td>\n",
              "      <td>1.0</td>\n",
              "      <td>1.0</td>\n",
              "    </tr>\n",
              "    <tr>\n",
              "      <th>4</th>\n",
              "      <td>0.138440</td>\n",
              "      <td>-1.601779</td>\n",
              "      <td>1.0</td>\n",
              "      <td>0.0</td>\n",
              "      <td>1.0</td>\n",
              "      <td>-0.722531</td>\n",
              "      <td>-0.212734</td>\n",
              "      <td>-0.019840</td>\n",
              "      <td>-0.156019</td>\n",
              "      <td>-1.422084</td>\n",
              "      <td>-0.514563</td>\n",
              "      <td>-0.331552</td>\n",
              "      <td>0.0</td>\n",
              "      <td>0.0</td>\n",
              "      <td>-0.779227</td>\n",
              "      <td>0.0</td>\n",
              "      <td>0.0</td>\n",
              "      <td>1.0</td>\n",
              "      <td>0.0</td>\n",
              "    </tr>\n",
              "    <tr>\n",
              "      <th>...</th>\n",
              "      <td>...</td>\n",
              "      <td>...</td>\n",
              "      <td>...</td>\n",
              "      <td>...</td>\n",
              "      <td>...</td>\n",
              "      <td>...</td>\n",
              "      <td>...</td>\n",
              "      <td>...</td>\n",
              "      <td>...</td>\n",
              "      <td>...</td>\n",
              "      <td>...</td>\n",
              "      <td>...</td>\n",
              "      <td>...</td>\n",
              "      <td>...</td>\n",
              "      <td>...</td>\n",
              "      <td>...</td>\n",
              "      <td>...</td>\n",
              "      <td>...</td>\n",
              "      <td>...</td>\n",
              "    </tr>\n",
              "    <tr>\n",
              "      <th>3207</th>\n",
              "      <td>1.737976</td>\n",
              "      <td>1.805449</td>\n",
              "      <td>0.0</td>\n",
              "      <td>0.0</td>\n",
              "      <td>0.0</td>\n",
              "      <td>4.235839</td>\n",
              "      <td>-1.110467</td>\n",
              "      <td>1.887171</td>\n",
              "      <td>1.995900</td>\n",
              "      <td>2.113702</td>\n",
              "      <td>6.424008</td>\n",
              "      <td>-0.518815</td>\n",
              "      <td>0.0</td>\n",
              "      <td>1.0</td>\n",
              "      <td>5.197260</td>\n",
              "      <td>0.0</td>\n",
              "      <td>0.0</td>\n",
              "      <td>0.0</td>\n",
              "      <td>0.0</td>\n",
              "    </tr>\n",
              "    <tr>\n",
              "      <th>3208</th>\n",
              "      <td>-0.520192</td>\n",
              "      <td>0.101835</td>\n",
              "      <td>0.0</td>\n",
              "      <td>0.0</td>\n",
              "      <td>0.0</td>\n",
              "      <td>0.239950</td>\n",
              "      <td>0.289997</td>\n",
              "      <td>-0.583365</td>\n",
              "      <td>-0.608340</td>\n",
              "      <td>-0.022502</td>\n",
              "      <td>-0.094318</td>\n",
              "      <td>-0.063091</td>\n",
              "      <td>0.0</td>\n",
              "      <td>0.0</td>\n",
              "      <td>0.143774</td>\n",
              "      <td>0.0</td>\n",
              "      <td>0.0</td>\n",
              "      <td>1.0</td>\n",
              "      <td>0.0</td>\n",
              "    </tr>\n",
              "    <tr>\n",
              "      <th>3209</th>\n",
              "      <td>-0.802463</td>\n",
              "      <td>0.442558</td>\n",
              "      <td>1.0</td>\n",
              "      <td>0.0</td>\n",
              "      <td>0.0</td>\n",
              "      <td>0.124337</td>\n",
              "      <td>0.692182</td>\n",
              "      <td>-0.785284</td>\n",
              "      <td>-0.743407</td>\n",
              "      <td>0.345809</td>\n",
              "      <td>-0.168387</td>\n",
              "      <td>0.236242</td>\n",
              "      <td>0.0</td>\n",
              "      <td>0.0</td>\n",
              "      <td>0.135970</td>\n",
              "      <td>0.0</td>\n",
              "      <td>0.0</td>\n",
              "      <td>1.0</td>\n",
              "      <td>0.0</td>\n",
              "    </tr>\n",
              "    <tr>\n",
              "      <th>3210</th>\n",
              "      <td>0.702982</td>\n",
              "      <td>0.101835</td>\n",
              "      <td>0.0</td>\n",
              "      <td>0.0</td>\n",
              "      <td>0.0</td>\n",
              "      <td>0.341112</td>\n",
              "      <td>0.670636</td>\n",
              "      <td>0.566120</td>\n",
              "      <td>0.413295</td>\n",
              "      <td>-0.022502</td>\n",
              "      <td>-0.024223</td>\n",
              "      <td>0.218301</td>\n",
              "      <td>0.0</td>\n",
              "      <td>0.0</td>\n",
              "      <td>0.225715</td>\n",
              "      <td>0.0</td>\n",
              "      <td>0.0</td>\n",
              "      <td>1.0</td>\n",
              "      <td>0.0</td>\n",
              "    </tr>\n",
              "    <tr>\n",
              "      <th>3211</th>\n",
              "      <td>1.455705</td>\n",
              "      <td>0.101835</td>\n",
              "      <td>0.0</td>\n",
              "      <td>0.0</td>\n",
              "      <td>0.0</td>\n",
              "      <td>-1.147411</td>\n",
              "      <td>-1.110467</td>\n",
              "      <td>1.495211</td>\n",
              "      <td>1.487376</td>\n",
              "      <td>-0.022502</td>\n",
              "      <td>-0.558057</td>\n",
              "      <td>-0.518815</td>\n",
              "      <td>1.0</td>\n",
              "      <td>1.0</td>\n",
              "      <td>-0.979981</td>\n",
              "      <td>0.0</td>\n",
              "      <td>0.0</td>\n",
              "      <td>1.0</td>\n",
              "      <td>0.0</td>\n",
              "    </tr>\n",
              "  </tbody>\n",
              "</table>\n",
              "<p>3212 rows × 19 columns</p>\n",
              "</div>\n",
              "      <button class=\"colab-df-convert\" onclick=\"convertToInteractive('df-e809ca11-b5e3-48fa-87ed-d358d570b1ac')\"\n",
              "              title=\"Convert this dataframe to an interactive table.\"\n",
              "              style=\"display:none;\">\n",
              "        \n",
              "  <svg xmlns=\"http://www.w3.org/2000/svg\" height=\"24px\"viewBox=\"0 0 24 24\"\n",
              "       width=\"24px\">\n",
              "    <path d=\"M0 0h24v24H0V0z\" fill=\"none\"/>\n",
              "    <path d=\"M18.56 5.44l.94 2.06.94-2.06 2.06-.94-2.06-.94-.94-2.06-.94 2.06-2.06.94zm-11 1L8.5 8.5l.94-2.06 2.06-.94-2.06-.94L8.5 2.5l-.94 2.06-2.06.94zm10 10l.94 2.06.94-2.06 2.06-.94-2.06-.94-.94-2.06-.94 2.06-2.06.94z\"/><path d=\"M17.41 7.96l-1.37-1.37c-.4-.4-.92-.59-1.43-.59-.52 0-1.04.2-1.43.59L10.3 9.45l-7.72 7.72c-.78.78-.78 2.05 0 2.83L4 21.41c.39.39.9.59 1.41.59.51 0 1.02-.2 1.41-.59l7.78-7.78 2.81-2.81c.8-.78.8-2.07 0-2.86zM5.41 20L4 18.59l7.72-7.72 1.47 1.35L5.41 20z\"/>\n",
              "  </svg>\n",
              "      </button>\n",
              "      \n",
              "  <style>\n",
              "    .colab-df-container {\n",
              "      display:flex;\n",
              "      flex-wrap:wrap;\n",
              "      gap: 12px;\n",
              "    }\n",
              "\n",
              "    .colab-df-convert {\n",
              "      background-color: #E8F0FE;\n",
              "      border: none;\n",
              "      border-radius: 50%;\n",
              "      cursor: pointer;\n",
              "      display: none;\n",
              "      fill: #1967D2;\n",
              "      height: 32px;\n",
              "      padding: 0 0 0 0;\n",
              "      width: 32px;\n",
              "    }\n",
              "\n",
              "    .colab-df-convert:hover {\n",
              "      background-color: #E2EBFA;\n",
              "      box-shadow: 0px 1px 2px rgba(60, 64, 67, 0.3), 0px 1px 3px 1px rgba(60, 64, 67, 0.15);\n",
              "      fill: #174EA6;\n",
              "    }\n",
              "\n",
              "    [theme=dark] .colab-df-convert {\n",
              "      background-color: #3B4455;\n",
              "      fill: #D2E3FC;\n",
              "    }\n",
              "\n",
              "    [theme=dark] .colab-df-convert:hover {\n",
              "      background-color: #434B5C;\n",
              "      box-shadow: 0px 1px 3px 1px rgba(0, 0, 0, 0.15);\n",
              "      filter: drop-shadow(0px 1px 2px rgba(0, 0, 0, 0.3));\n",
              "      fill: #FFFFFF;\n",
              "    }\n",
              "  </style>\n",
              "\n",
              "      <script>\n",
              "        const buttonEl =\n",
              "          document.querySelector('#df-e809ca11-b5e3-48fa-87ed-d358d570b1ac button.colab-df-convert');\n",
              "        buttonEl.style.display =\n",
              "          google.colab.kernel.accessAllowed ? 'block' : 'none';\n",
              "\n",
              "        async function convertToInteractive(key) {\n",
              "          const element = document.querySelector('#df-e809ca11-b5e3-48fa-87ed-d358d570b1ac');\n",
              "          const dataTable =\n",
              "            await google.colab.kernel.invokeFunction('convertToInteractive',\n",
              "                                                     [key], {});\n",
              "          if (!dataTable) return;\n",
              "\n",
              "          const docLinkHtml = 'Like what you see? Visit the ' +\n",
              "            '<a target=\"_blank\" href=https://colab.research.google.com/notebooks/data_table.ipynb>data table notebook</a>'\n",
              "            + ' to learn more about interactive tables.';\n",
              "          element.innerHTML = '';\n",
              "          dataTable['output_type'] = 'display_data';\n",
              "          await google.colab.output.renderOutput(dataTable, element);\n",
              "          const docLink = document.createElement('div');\n",
              "          docLink.innerHTML = docLinkHtml;\n",
              "          element.appendChild(docLink);\n",
              "        }\n",
              "      </script>\n",
              "    </div>\n",
              "  </div>\n",
              "  "
            ]
          },
          "metadata": {},
          "execution_count": 75
        }
      ]
    },
    {
      "cell_type": "code",
      "source": [
        "from sklearn.datasets import make_regression"
      ],
      "metadata": {
        "id": "8bNyM1PgKmXI"
      },
      "execution_count": 76,
      "outputs": []
    },
    {
      "cell_type": "code",
      "source": [
        "n_samples = 100 \n",
        "n_features = 6 \n",
        "n_informative = 3"
      ],
      "metadata": {
        "id": "s11S9AHrKtgU"
      },
      "execution_count": 77,
      "outputs": []
    },
    {
      "cell_type": "code",
      "source": [
        "X, y,coef = make_regression(n_samples=n_samples, n_features=n_features, n_informative=n_informative,\n",
        "                       random_state=None, shuffle=False,noise=20,coef=True)"
      ],
      "metadata": {
        "id": "DZ2jpPUFK3FR"
      },
      "execution_count": 78,
      "outputs": []
    },
    {
      "cell_type": "code",
      "source": [
        "df1 = pd.DataFrame(data=X,columns=['X'+str(i) for i in range(1,n_features+1)])\n",
        "df2=pd.DataFrame(data=y,columns=['y'])\n",
        "df=pd.concat([df1,df2],axis=1)\n",
        "df.head(10)"
      ],
      "metadata": {
        "colab": {
          "base_uri": "https://localhost:8080/",
          "height": 363
        },
        "id": "ReOUyCjrK82f",
        "outputId": "2316c9ff-da6b-4c3a-b004-b65c1b36b7eb"
      },
      "execution_count": 79,
      "outputs": [
        {
          "output_type": "execute_result",
          "data": {
            "text/plain": [
              "         X1        X2        X3        X4        X5        X6           y\n",
              "0  0.360342  0.578390  2.267073  1.503282  1.318333 -1.596077   81.570437\n",
              "1 -1.106856  1.535684  0.156779  0.344149 -0.569548  0.173591   -9.043809\n",
              "2  0.581874 -1.986295  1.223103  2.369410  0.163934 -0.626783  -16.889041\n",
              "3 -0.562554  0.053930  0.102990 -0.611357  0.582739 -0.374452  -58.305669\n",
              "4 -0.279020 -1.006510 -0.838732 -1.697563  1.359339  0.273624 -114.516712\n",
              "5 -0.825180 -1.690526 -0.057204 -0.251600  1.653840  0.446294 -165.471629\n",
              "6 -0.578473 -0.269812 -0.043305 -1.255094 -1.367667  0.776654 -114.905641\n",
              "7  1.209435 -0.913866 -1.303638  0.844269 -0.161713  0.831717  -14.360938\n",
              "8 -0.430862 -0.315620  0.808774  0.054788  1.528477 -0.483452  -44.683616\n",
              "9  0.177619  2.096831 -0.701072  0.702325  1.289886  1.157469  109.558156"
            ],
            "text/html": [
              "\n",
              "  <div id=\"df-d73ff662-ab90-432b-b81e-edacef04af9c\">\n",
              "    <div class=\"colab-df-container\">\n",
              "      <div>\n",
              "<style scoped>\n",
              "    .dataframe tbody tr th:only-of-type {\n",
              "        vertical-align: middle;\n",
              "    }\n",
              "\n",
              "    .dataframe tbody tr th {\n",
              "        vertical-align: top;\n",
              "    }\n",
              "\n",
              "    .dataframe thead th {\n",
              "        text-align: right;\n",
              "    }\n",
              "</style>\n",
              "<table border=\"1\" class=\"dataframe\">\n",
              "  <thead>\n",
              "    <tr style=\"text-align: right;\">\n",
              "      <th></th>\n",
              "      <th>X1</th>\n",
              "      <th>X2</th>\n",
              "      <th>X3</th>\n",
              "      <th>X4</th>\n",
              "      <th>X5</th>\n",
              "      <th>X6</th>\n",
              "      <th>y</th>\n",
              "    </tr>\n",
              "  </thead>\n",
              "  <tbody>\n",
              "    <tr>\n",
              "      <th>0</th>\n",
              "      <td>0.360342</td>\n",
              "      <td>0.578390</td>\n",
              "      <td>2.267073</td>\n",
              "      <td>1.503282</td>\n",
              "      <td>1.318333</td>\n",
              "      <td>-1.596077</td>\n",
              "      <td>81.570437</td>\n",
              "    </tr>\n",
              "    <tr>\n",
              "      <th>1</th>\n",
              "      <td>-1.106856</td>\n",
              "      <td>1.535684</td>\n",
              "      <td>0.156779</td>\n",
              "      <td>0.344149</td>\n",
              "      <td>-0.569548</td>\n",
              "      <td>0.173591</td>\n",
              "      <td>-9.043809</td>\n",
              "    </tr>\n",
              "    <tr>\n",
              "      <th>2</th>\n",
              "      <td>0.581874</td>\n",
              "      <td>-1.986295</td>\n",
              "      <td>1.223103</td>\n",
              "      <td>2.369410</td>\n",
              "      <td>0.163934</td>\n",
              "      <td>-0.626783</td>\n",
              "      <td>-16.889041</td>\n",
              "    </tr>\n",
              "    <tr>\n",
              "      <th>3</th>\n",
              "      <td>-0.562554</td>\n",
              "      <td>0.053930</td>\n",
              "      <td>0.102990</td>\n",
              "      <td>-0.611357</td>\n",
              "      <td>0.582739</td>\n",
              "      <td>-0.374452</td>\n",
              "      <td>-58.305669</td>\n",
              "    </tr>\n",
              "    <tr>\n",
              "      <th>4</th>\n",
              "      <td>-0.279020</td>\n",
              "      <td>-1.006510</td>\n",
              "      <td>-0.838732</td>\n",
              "      <td>-1.697563</td>\n",
              "      <td>1.359339</td>\n",
              "      <td>0.273624</td>\n",
              "      <td>-114.516712</td>\n",
              "    </tr>\n",
              "    <tr>\n",
              "      <th>5</th>\n",
              "      <td>-0.825180</td>\n",
              "      <td>-1.690526</td>\n",
              "      <td>-0.057204</td>\n",
              "      <td>-0.251600</td>\n",
              "      <td>1.653840</td>\n",
              "      <td>0.446294</td>\n",
              "      <td>-165.471629</td>\n",
              "    </tr>\n",
              "    <tr>\n",
              "      <th>6</th>\n",
              "      <td>-0.578473</td>\n",
              "      <td>-0.269812</td>\n",
              "      <td>-0.043305</td>\n",
              "      <td>-1.255094</td>\n",
              "      <td>-1.367667</td>\n",
              "      <td>0.776654</td>\n",
              "      <td>-114.905641</td>\n",
              "    </tr>\n",
              "    <tr>\n",
              "      <th>7</th>\n",
              "      <td>1.209435</td>\n",
              "      <td>-0.913866</td>\n",
              "      <td>-1.303638</td>\n",
              "      <td>0.844269</td>\n",
              "      <td>-0.161713</td>\n",
              "      <td>0.831717</td>\n",
              "      <td>-14.360938</td>\n",
              "    </tr>\n",
              "    <tr>\n",
              "      <th>8</th>\n",
              "      <td>-0.430862</td>\n",
              "      <td>-0.315620</td>\n",
              "      <td>0.808774</td>\n",
              "      <td>0.054788</td>\n",
              "      <td>1.528477</td>\n",
              "      <td>-0.483452</td>\n",
              "      <td>-44.683616</td>\n",
              "    </tr>\n",
              "    <tr>\n",
              "      <th>9</th>\n",
              "      <td>0.177619</td>\n",
              "      <td>2.096831</td>\n",
              "      <td>-0.701072</td>\n",
              "      <td>0.702325</td>\n",
              "      <td>1.289886</td>\n",
              "      <td>1.157469</td>\n",
              "      <td>109.558156</td>\n",
              "    </tr>\n",
              "  </tbody>\n",
              "</table>\n",
              "</div>\n",
              "      <button class=\"colab-df-convert\" onclick=\"convertToInteractive('df-d73ff662-ab90-432b-b81e-edacef04af9c')\"\n",
              "              title=\"Convert this dataframe to an interactive table.\"\n",
              "              style=\"display:none;\">\n",
              "        \n",
              "  <svg xmlns=\"http://www.w3.org/2000/svg\" height=\"24px\"viewBox=\"0 0 24 24\"\n",
              "       width=\"24px\">\n",
              "    <path d=\"M0 0h24v24H0V0z\" fill=\"none\"/>\n",
              "    <path d=\"M18.56 5.44l.94 2.06.94-2.06 2.06-.94-2.06-.94-.94-2.06-.94 2.06-2.06.94zm-11 1L8.5 8.5l.94-2.06 2.06-.94-2.06-.94L8.5 2.5l-.94 2.06-2.06.94zm10 10l.94 2.06.94-2.06 2.06-.94-2.06-.94-.94-2.06-.94 2.06-2.06.94z\"/><path d=\"M17.41 7.96l-1.37-1.37c-.4-.4-.92-.59-1.43-.59-.52 0-1.04.2-1.43.59L10.3 9.45l-7.72 7.72c-.78.78-.78 2.05 0 2.83L4 21.41c.39.39.9.59 1.41.59.51 0 1.02-.2 1.41-.59l7.78-7.78 2.81-2.81c.8-.78.8-2.07 0-2.86zM5.41 20L4 18.59l7.72-7.72 1.47 1.35L5.41 20z\"/>\n",
              "  </svg>\n",
              "      </button>\n",
              "      \n",
              "  <style>\n",
              "    .colab-df-container {\n",
              "      display:flex;\n",
              "      flex-wrap:wrap;\n",
              "      gap: 12px;\n",
              "    }\n",
              "\n",
              "    .colab-df-convert {\n",
              "      background-color: #E8F0FE;\n",
              "      border: none;\n",
              "      border-radius: 50%;\n",
              "      cursor: pointer;\n",
              "      display: none;\n",
              "      fill: #1967D2;\n",
              "      height: 32px;\n",
              "      padding: 0 0 0 0;\n",
              "      width: 32px;\n",
              "    }\n",
              "\n",
              "    .colab-df-convert:hover {\n",
              "      background-color: #E2EBFA;\n",
              "      box-shadow: 0px 1px 2px rgba(60, 64, 67, 0.3), 0px 1px 3px 1px rgba(60, 64, 67, 0.15);\n",
              "      fill: #174EA6;\n",
              "    }\n",
              "\n",
              "    [theme=dark] .colab-df-convert {\n",
              "      background-color: #3B4455;\n",
              "      fill: #D2E3FC;\n",
              "    }\n",
              "\n",
              "    [theme=dark] .colab-df-convert:hover {\n",
              "      background-color: #434B5C;\n",
              "      box-shadow: 0px 1px 3px 1px rgba(0, 0, 0, 0.15);\n",
              "      filter: drop-shadow(0px 1px 2px rgba(0, 0, 0, 0.3));\n",
              "      fill: #FFFFFF;\n",
              "    }\n",
              "  </style>\n",
              "\n",
              "      <script>\n",
              "        const buttonEl =\n",
              "          document.querySelector('#df-d73ff662-ab90-432b-b81e-edacef04af9c button.colab-df-convert');\n",
              "        buttonEl.style.display =\n",
              "          google.colab.kernel.accessAllowed ? 'block' : 'none';\n",
              "\n",
              "        async function convertToInteractive(key) {\n",
              "          const element = document.querySelector('#df-d73ff662-ab90-432b-b81e-edacef04af9c');\n",
              "          const dataTable =\n",
              "            await google.colab.kernel.invokeFunction('convertToInteractive',\n",
              "                                                     [key], {});\n",
              "          if (!dataTable) return;\n",
              "\n",
              "          const docLinkHtml = 'Like what you see? Visit the ' +\n",
              "            '<a target=\"_blank\" href=https://colab.research.google.com/notebooks/data_table.ipynb>data table notebook</a>'\n",
              "            + ' to learn more about interactive tables.';\n",
              "          element.innerHTML = '';\n",
              "          dataTable['output_type'] = 'display_data';\n",
              "          await google.colab.output.renderOutput(dataTable, element);\n",
              "          const docLink = document.createElement('div');\n",
              "          docLink.innerHTML = docLinkHtml;\n",
              "          element.appendChild(docLink);\n",
              "        }\n",
              "      </script>\n",
              "    </div>\n",
              "  </div>\n",
              "  "
            ]
          },
          "metadata": {},
          "execution_count": 79
        }
      ]
    },
    {
      "cell_type": "code",
      "source": [
        "import matplotlib.pyplot as plt\n",
        "%matplotlib inline\n",
        "import pandas as pd\n",
        "import numpy as np"
      ],
      "metadata": {
        "id": "hQpCRr0gK_Mz"
      },
      "execution_count": 80,
      "outputs": []
    },
    {
      "cell_type": "code",
      "source": [
        "with plt.style.context(('seaborn-dark')):\n",
        "    for i,col in enumerate(df.columns[:-1]):\n",
        "        plt.figure(figsize=(6,4))\n",
        "        plt.grid(True)\n",
        "        plt.xlabel('Feature:'+col,fontsize=12)\n",
        "        plt.ylabel('Output: y',fontsize=12)\n",
        "        plt.scatter(df[col],df['y'],c='pink',s=50,alpha=0.6)"
      ],
      "metadata": {
        "colab": {
          "base_uri": "https://localhost:8080/",
          "height": 1000
        },
        "id": "xlOUdhw3LFw_",
        "outputId": "ceca761c-8ebf-4ac9-be2a-c6d681db6cb2"
      },
      "execution_count": 82,
      "outputs": [
        {
          "output_type": "display_data",
          "data": {
            "text/plain": [
              "<Figure size 432x288 with 1 Axes>"
            ],
            "image/png": "[encoded data removed]"
          },
          "metadata": {}
        },
        {
          "output_type": "display_data",
          "data": {
            "text/plain": [
              "<Figure size 432x288 with 1 Axes>"
            ],
            "image/png": "[encoded data removed]"
          },
          "metadata": {}
        },
        {
          "output_type": "display_data",
          "data": {
            "text/plain": [
              "<Figure size 432x288 with 1 Axes>"
            ],
            "image/png": "[encoded data removed]"
          },
          "metadata": {}
        },
        {
          "output_type": "display_data",
          "data": {
            "text/plain": [
              "<Figure size 432x288 with 1 Axes>"
            ],
            "image/png": "[encoded data removed]"
          },
          "metadata": {}
        },
        {
          "output_type": "display_data",
          "data": {
            "text/plain": [
              "<Figure size 432x288 with 1 Axes>"
            ],
            "image/png": "[encoded data removed]"
          },
          "metadata": {}
        },
        {
          "output_type": "display_data",
          "data": {
            "text/plain": [
              "<Figure size 432x288 with 1 Axes>"
            ],
            "image/png": "[encoded data removed]"
          },
          "metadata": {}
        }
      ]
    },
    {
      "cell_type": "code",
      "source": [
        "with plt.style.context(('fivethirtyeight')):\n",
        "    for i,col in enumerate(df.columns[:-1]):\n",
        "        plt.figure(figsize=(6,4))\n",
        "        plt.grid(True)\n",
        "        plt.xlabel('Feature:'+col,fontsize=12)\n",
        "        plt.ylabel('Output: y',fontsize=12)\n",
        "        plt.hist(df[col],alpha=0.6,facecolor='r')"
      ],
      "metadata": {
        "colab": {
          "base_uri": "https://localhost:8080/",
          "height": 1000
        },
        "id": "Jx2HpgDDLR_6",
        "outputId": "b0a501a4-f98d-4ad5-b2ee-a4ffc2f01ee2"
      },
      "execution_count": 84,
      "outputs": [
        {
          "output_type": "display_data",
          "data": {
            "text/plain": [
              "<Figure size 432x288 with 1 Axes>"
            ],
            "image/png": "[encoded data removed]"
          },
          "metadata": {}
        },
        {
          "output_type": "display_data",
          "data": {
            "text/plain": [
              "<Figure size 432x288 with 1 Axes>"
            ],
            "image/png": "[encoded data removed]"
          },
          "metadata": {}
        },
        {
          "output_type": "display_data",
          "data": {
            "text/plain": [
              "<Figure size 432x288 with 1 Axes>"
            ],
            "image/png": "[encoded data removed]"
          },
          "metadata": {}
        },
        {
          "output_type": "display_data",
          "data": {
            "text/plain": [
              "<Figure size 432x288 with 1 Axes>"
            ],
            "image/png": "[encoded data removed]"
          },
          "metadata": {}
        },
        {
          "output_type": "display_data",
          "data": {
            "text/plain": [
              "<Figure size 432x288 with 1 Axes>"
            ],
            "image/png": "[encoded data removed]"
          },
          "metadata": {}
        },
        {
          "output_type": "display_data",
          "data": {
            "text/plain": [
              "<Figure size 432x288 with 1 Axes>"
            ],
            "image/png": "[encoded data removed]"
          },
          "metadata": {}
        }
      ]
    },
    {
      "cell_type": "code",
      "source": [
        "import numpy as np\n",
        "import pandas as pd\n",
        "import seaborn as sns\n",
        "import matplotlib.pyplot as plt\n",
        "from sklearn.model_selection import train_test_split,cross_val_score\n",
        "from sklearn.ensemble import RandomForestClassifier,RandomForestRegressor\n",
        "from sklearn.metrics import classification_report,confusion_matrix,accuracy_score\n",
        "from sklearn.neighbors import KNeighborsClassifier,KNeighborsRegressor\n",
        "from sklearn.svm import SVC,SVR\n",
        "from sklearn import datasets\n",
        "import scipy.stats as stats"
      ],
      "metadata": {
        "id": "fs_6x9kPLgV0"
      },
      "execution_count": 85,
      "outputs": []
    },
    {
      "cell_type": "code",
      "source": [
        "clf = RandomForestRegressor()\n",
        "scores = cross_val_score(clf, X, y, cv=10,scoring='neg_mean_squared_error') # 10-fold cross-validation\n",
        "print(\"MSE:\"+ str(-scores.mean()))"
      ],
      "metadata": {
        "colab": {
          "base_uri": "https://localhost:8080/"
        },
        "id": "ffkcTH5VLlxL",
        "outputId": "cc2a0495-5705-42ad-e61e-e0791dcab67c"
      },
      "execution_count": 86,
      "outputs": [
        {
          "output_type": "stream",
          "name": "stdout",
          "text": [
            "MSE:1931.9167496801358\n"
          ]
        }
      ]
    },
    {
      "cell_type": "code",
      "source": [
        "clf = SVR()\n",
        "scores = cross_val_score(clf, X, y, cv=10,scoring='neg_mean_squared_error')\n",
        "print(\"MSE:\"+ str(-scores.mean()))"
      ],
      "metadata": {
        "colab": {
          "base_uri": "https://localhost:8080/"
        },
        "id": "52aRvoNYLsnT",
        "outputId": "0bd4adf2-2310-4ee1-ce26-01f1c2cbfa66"
      },
      "execution_count": 87,
      "outputs": [
        {
          "output_type": "stream",
          "name": "stdout",
          "text": [
            "MSE:10644.58299893585\n"
          ]
        }
      ]
    },
    {
      "cell_type": "code",
      "source": [
        "clf = KNeighborsRegressor()\n",
        "scores = cross_val_score(clf, X, y, cv=10,scoring='neg_mean_squared_error')\n",
        "print(\"MSE:\"+ str(-scores.mean()))"
      ],
      "metadata": {
        "colab": {
          "base_uri": "https://localhost:8080/"
        },
        "id": "C4w7MFVPL9O3",
        "outputId": "4768f241-ad3f-4d0b-825a-5093ada6b000"
      },
      "execution_count": 88,
      "outputs": [
        {
          "output_type": "stream",
          "name": "stdout",
          "text": [
            "MSE:3203.3321741954333\n"
          ]
        }
      ]
    },
    {
      "cell_type": "code",
      "source": [
        "from keras.models import Sequential, Model\n",
        "from keras.layers import Dense, Input\n",
        "from sklearn.model_selection import GridSearchCV\n",
        "from keras.wrappers.scikit_learn import KerasRegressor\n",
        "from keras.callbacks import EarlyStopping\n",
        "def ANN(optimizer = 'adam',neurons=32,batch_size=32,epochs=50,activation='relu',patience=5,loss='mse'):\n",
        "    model = Sequential()\n",
        "    model.add(Dense(neurons, input_shape=(X.shape[1],), activation=activation))\n",
        "    model.add(Dense(neurons, activation=activation))\n",
        "    model.add(Dense(1))\n",
        "    model.compile(optimizer = optimizer, loss=loss)\n",
        "    early_stopping = EarlyStopping(monitor=\"loss\", patience = patience)# early stop patience\n",
        "    history = model.fit(X, y,\n",
        "              batch_size=batch_size,\n",
        "              epochs=epochs,\n",
        "              callbacks = [early_stopping],\n",
        "              verbose=0) #verbose set to 1 will show the training process\n",
        "    return model"
      ],
      "metadata": {
        "id": "JD2Oo1fTMMsA"
      },
      "execution_count": 89,
      "outputs": []
    },
    {
      "cell_type": "code",
      "source": [
        "clf = KerasRegressor(build_fn=ANN, verbose=0)\n",
        "scores = cross_val_score(clf, X, y, cv=3,scoring='neg_mean_squared_error')\n",
        "print(\"MSE:\"+ str(-scores.mean()))"
      ],
      "metadata": {
        "colab": {
          "base_uri": "https://localhost:8080/"
        },
        "id": "EA2xla2fMb_q",
        "outputId": "355166a5-87ae-4a7f-91a3-126c23839cf8"
      },
      "execution_count": 90,
      "outputs": [
        {
          "output_type": "stream",
          "name": "stderr",
          "text": [
            "/usr/local/lib/python3.7/dist-packages/ipykernel_launcher.py:1: DeprecationWarning: KerasRegressor is deprecated, use Sci-Keras (https://github.com/adriangb/scikeras) instead. See https://www.adriangb.com/scikeras/stable/migration.html for help migrating.\n",
            "  \"\"\"Entry point for launching an IPython kernel.\n"
          ]
        },
        {
          "output_type": "stream",
          "name": "stdout",
          "text": [
            "MSE:8028.143529904279\n"
          ]
        }
      ]
    },
    {
      "cell_type": "code",
      "source": [
        "df.info()"
      ],
      "metadata": {
        "colab": {
          "base_uri": "https://localhost:8080/"
        },
        "id": "0pm-c8FXMeAa",
        "outputId": "66d9a87f-2cb1-4ea8-c1af-633ec18784ab"
      },
      "execution_count": 91,
      "outputs": [
        {
          "output_type": "stream",
          "name": "stdout",
          "text": [
            "<class 'pandas.core.frame.DataFrame'>\n",
            "RangeIndex: 100 entries, 0 to 99\n",
            "Data columns (total 7 columns):\n",
            " #   Column  Non-Null Count  Dtype  \n",
            "---  ------  --------------  -----  \n",
            " 0   X1      100 non-null    float64\n",
            " 1   X2      100 non-null    float64\n",
            " 2   X3      100 non-null    float64\n",
            " 3   X4      100 non-null    float64\n",
            " 4   X5      100 non-null    float64\n",
            " 5   X6      100 non-null    float64\n",
            " 6   y       100 non-null    float64\n",
            "dtypes: float64(7)\n",
            "memory usage: 5.6 KB\n"
          ]
        }
      ]
    },
    {
      "cell_type": "code",
      "source": [
        "df.describe()"
      ],
      "metadata": {
        "colab": {
          "base_uri": "https://localhost:8080/",
          "height": 300
        },
        "id": "YfeO_D9sM5DJ",
        "outputId": "f792b7f6-a79f-4e0d-d40f-02fc76dd2775"
      },
      "execution_count": 92,
      "outputs": [
        {
          "output_type": "execute_result",
          "data": {
            "text/plain": [
              "               X1          X2          X3          X4          X5          X6  \\\n",
              "count  100.000000  100.000000  100.000000  100.000000  100.000000  100.000000   \n",
              "mean     0.022141    0.063718    0.003986    0.059381    0.043270    0.054429   \n",
              "std      0.892548    1.108966    0.997391    0.927950    0.937078    0.967867   \n",
              "min     -2.356743   -3.148979   -3.107380   -2.092194   -2.050533   -2.457482   \n",
              "25%     -0.566534   -0.695107   -0.613881   -0.620902   -0.573703   -0.580677   \n",
              "50%     -0.056113    0.059479   -0.050254    0.153700    0.052022    0.128818   \n",
              "75%      0.623654    0.765789    0.693017    0.790888    0.583743    0.781131   \n",
              "max      2.785677    2.476447    2.267073    2.369410    3.176421    2.198076   \n",
              "\n",
              "                y  \n",
              "count  100.000000  \n",
              "mean     3.224378  \n",
              "std    105.104415  \n",
              "min   -295.895335  \n",
              "25%    -61.899527  \n",
              "50%     -8.312260  \n",
              "75%     71.347401  \n",
              "max    336.862201  "
            ],
            "text/html": [
              "\n",
              "  <div id=\"df-7a629d15-503c-42d8-a079-02c63464f0f9\">\n",
              "    <div class=\"colab-df-container\">\n",
              "      <div>\n",
              "<style scoped>\n",
              "    .dataframe tbody tr th:only-of-type {\n",
              "        vertical-align: middle;\n",
              "    }\n",
              "\n",
              "    .dataframe tbody tr th {\n",
              "        vertical-align: top;\n",
              "    }\n",
              "\n",
              "    .dataframe thead th {\n",
              "        text-align: right;\n",
              "    }\n",
              "</style>\n",
              "<table border=\"1\" class=\"dataframe\">\n",
              "  <thead>\n",
              "    <tr style=\"text-align: right;\">\n",
              "      <th></th>\n",
              "      <th>X1</th>\n",
              "      <th>X2</th>\n",
              "      <th>X3</th>\n",
              "      <th>X4</th>\n",
              "      <th>X5</th>\n",
              "      <th>X6</th>\n",
              "      <th>y</th>\n",
              "    </tr>\n",
              "  </thead>\n",
              "  <tbody>\n",
              "    <tr>\n",
              "      <th>count</th>\n",
              "      <td>100.000000</td>\n",
              "      <td>100.000000</td>\n",
              "      <td>100.000000</td>\n",
              "      <td>100.000000</td>\n",
              "      <td>100.000000</td>\n",
              "      <td>100.000000</td>\n",
              "      <td>100.000000</td>\n",
              "    </tr>\n",
              "    <tr>\n",
              "      <th>mean</th>\n",
              "      <td>0.022141</td>\n",
              "      <td>0.063718</td>\n",
              "      <td>0.003986</td>\n",
              "      <td>0.059381</td>\n",
              "      <td>0.043270</td>\n",
              "      <td>0.054429</td>\n",
              "      <td>3.224378</td>\n",
              "    </tr>\n",
              "    <tr>\n",
              "      <th>std</th>\n",
              "      <td>0.892548</td>\n",
              "      <td>1.108966</td>\n",
              "      <td>0.997391</td>\n",
              "      <td>0.927950</td>\n",
              "      <td>0.937078</td>\n",
              "      <td>0.967867</td>\n",
              "      <td>105.104415</td>\n",
              "    </tr>\n",
              "    <tr>\n",
              "      <th>min</th>\n",
              "      <td>-2.356743</td>\n",
              "      <td>-3.148979</td>\n",
              "      <td>-3.107380</td>\n",
              "      <td>-2.092194</td>\n",
              "      <td>-2.050533</td>\n",
              "      <td>-2.457482</td>\n",
              "      <td>-295.895335</td>\n",
              "    </tr>\n",
              "    <tr>\n",
              "      <th>25%</th>\n",
              "      <td>-0.566534</td>\n",
              "      <td>-0.695107</td>\n",
              "      <td>-0.613881</td>\n",
              "      <td>-0.620902</td>\n",
              "      <td>-0.573703</td>\n",
              "      <td>-0.580677</td>\n",
              "      <td>-61.899527</td>\n",
              "    </tr>\n",
              "    <tr>\n",
              "      <th>50%</th>\n",
              "      <td>-0.056113</td>\n",
              "      <td>0.059479</td>\n",
              "      <td>-0.050254</td>\n",
              "      <td>0.153700</td>\n",
              "      <td>0.052022</td>\n",
              "      <td>0.128818</td>\n",
              "      <td>-8.312260</td>\n",
              "    </tr>\n",
              "    <tr>\n",
              "      <th>75%</th>\n",
              "      <td>0.623654</td>\n",
              "      <td>0.765789</td>\n",
              "      <td>0.693017</td>\n",
              "      <td>0.790888</td>\n",
              "      <td>0.583743</td>\n",
              "      <td>0.781131</td>\n",
              "      <td>71.347401</td>\n",
              "    </tr>\n",
              "    <tr>\n",
              "      <th>max</th>\n",
              "      <td>2.785677</td>\n",
              "      <td>2.476447</td>\n",
              "      <td>2.267073</td>\n",
              "      <td>2.369410</td>\n",
              "      <td>3.176421</td>\n",
              "      <td>2.198076</td>\n",
              "      <td>336.862201</td>\n",
              "    </tr>\n",
              "  </tbody>\n",
              "</table>\n",
              "</div>\n",
              "      <button class=\"colab-df-convert\" onclick=\"convertToInteractive('df-7a629d15-503c-42d8-a079-02c63464f0f9')\"\n",
              "              title=\"Convert this dataframe to an interactive table.\"\n",
              "              style=\"display:none;\">\n",
              "        \n",
              "  <svg xmlns=\"http://www.w3.org/2000/svg\" height=\"24px\"viewBox=\"0 0 24 24\"\n",
              "       width=\"24px\">\n",
              "    <path d=\"M0 0h24v24H0V0z\" fill=\"none\"/>\n",
              "    <path d=\"M18.56 5.44l.94 2.06.94-2.06 2.06-.94-2.06-.94-.94-2.06-.94 2.06-2.06.94zm-11 1L8.5 8.5l.94-2.06 2.06-.94-2.06-.94L8.5 2.5l-.94 2.06-2.06.94zm10 10l.94 2.06.94-2.06 2.06-.94-2.06-.94-.94-2.06-.94 2.06-2.06.94z\"/><path d=\"M17.41 7.96l-1.37-1.37c-.4-.4-.92-.59-1.43-.59-.52 0-1.04.2-1.43.59L10.3 9.45l-7.72 7.72c-.78.78-.78 2.05 0 2.83L4 21.41c.39.39.9.59 1.41.59.51 0 1.02-.2 1.41-.59l7.78-7.78 2.81-2.81c.8-.78.8-2.07 0-2.86zM5.41 20L4 18.59l7.72-7.72 1.47 1.35L5.41 20z\"/>\n",
              "  </svg>\n",
              "      </button>\n",
              "      \n",
              "  <style>\n",
              "    .colab-df-container {\n",
              "      display:flex;\n",
              "      flex-wrap:wrap;\n",
              "      gap: 12px;\n",
              "    }\n",
              "\n",
              "    .colab-df-convert {\n",
              "      background-color: #E8F0FE;\n",
              "      border: none;\n",
              "      border-radius: 50%;\n",
              "      cursor: pointer;\n",
              "      display: none;\n",
              "      fill: #1967D2;\n",
              "      height: 32px;\n",
              "      padding: 0 0 0 0;\n",
              "      width: 32px;\n",
              "    }\n",
              "\n",
              "    .colab-df-convert:hover {\n",
              "      background-color: #E2EBFA;\n",
              "      box-shadow: 0px 1px 2px rgba(60, 64, 67, 0.3), 0px 1px 3px 1px rgba(60, 64, 67, 0.15);\n",
              "      fill: #174EA6;\n",
              "    }\n",
              "\n",
              "    [theme=dark] .colab-df-convert {\n",
              "      background-color: #3B4455;\n",
              "      fill: #D2E3FC;\n",
              "    }\n",
              "\n",
              "    [theme=dark] .colab-df-convert:hover {\n",
              "      background-color: #434B5C;\n",
              "      box-shadow: 0px 1px 3px 1px rgba(0, 0, 0, 0.15);\n",
              "      filter: drop-shadow(0px 1px 2px rgba(0, 0, 0, 0.3));\n",
              "      fill: #FFFFFF;\n",
              "    }\n",
              "  </style>\n",
              "\n",
              "      <script>\n",
              "        const buttonEl =\n",
              "          document.querySelector('#df-7a629d15-503c-42d8-a079-02c63464f0f9 button.colab-df-convert');\n",
              "        buttonEl.style.display =\n",
              "          google.colab.kernel.accessAllowed ? 'block' : 'none';\n",
              "\n",
              "        async function convertToInteractive(key) {\n",
              "          const element = document.querySelector('#df-7a629d15-503c-42d8-a079-02c63464f0f9');\n",
              "          const dataTable =\n",
              "            await google.colab.kernel.invokeFunction('convertToInteractive',\n",
              "                                                     [key], {});\n",
              "          if (!dataTable) return;\n",
              "\n",
              "          const docLinkHtml = 'Like what you see? Visit the ' +\n",
              "            '<a target=\"_blank\" href=https://colab.research.google.com/notebooks/data_table.ipynb>data table notebook</a>'\n",
              "            + ' to learn more about interactive tables.';\n",
              "          element.innerHTML = '';\n",
              "          dataTable['output_type'] = 'display_data';\n",
              "          await google.colab.output.renderOutput(dataTable, element);\n",
              "          const docLink = document.createElement('div');\n",
              "          docLink.innerHTML = docLinkHtml;\n",
              "          element.appendChild(docLink);\n",
              "        }\n",
              "      </script>\n",
              "    </div>\n",
              "  </div>\n",
              "  "
            ]
          },
          "metadata": {},
          "execution_count": 92
        }
      ]
    },
    {
      "cell_type": "code",
      "source": [
        "sns.heatmap(df.isnull(), cmap='coolwarm', yticklabels= False)"
      ],
      "metadata": {
        "colab": {
          "base_uri": "https://localhost:8080/",
          "height": 286
        },
        "id": "sRmYWGKGM9js",
        "outputId": "e28f6e69-82d6-4926-d67c-2691f75fae14"
      },
      "execution_count": 98,
      "outputs": [
        {
          "output_type": "execute_result",
          "data": {
            "text/plain": [
              "<matplotlib.axes._subplots.AxesSubplot at 0x7fc057805590>"
            ]
          },
          "metadata": {},
          "execution_count": 98
        },
        {
          "output_type": "display_data",
          "data": {
            "text/plain": [
              "<Figure size 432x288 with 2 Axes>"
            ],
            "image/png": "[encoded data removed]"
          },
          "metadata": {
            "needs_background": "light"
          }
        }
      ]
    },
    {
      "cell_type": "code",
      "source": [
        "sns.countplot(x = df['X3'])"
      ],
      "metadata": {
        "colab": {
          "base_uri": "https://localhost:8080/",
          "height": 296
        },
        "id": "zq67kyPjNqZL",
        "outputId": "224f59ab-3319-4f0b-88e4-b0bdbf0d7ba3"
      },
      "execution_count": 99,
      "outputs": [
        {
          "output_type": "execute_result",
          "data": {
            "text/plain": [
              "<matplotlib.axes._subplots.AxesSubplot at 0x7fc05a2c7790>"
            ]
          },
          "metadata": {},
          "execution_count": 99
        },
        {
          "output_type": "display_data",
          "data": {
            "text/plain": [
              "<Figure size 432x288 with 1 Axes>"
            ],
            "image/png": "[encoded data removed]"
          },
          "metadata": {
            "needs_background": "light"
          }
        }
      ]
    },
    {
      "cell_type": "code",
      "source": [
        "sns.countplot(x = df['X4'])"
      ],
      "metadata": {
        "colab": {
          "base_uri": "https://localhost:8080/",
          "height": 296
        },
        "id": "zvdUACBbNQv6",
        "outputId": "af9447ee-f11f-4df8-c13c-9cfef3a1e3bd"
      },
      "execution_count": 100,
      "outputs": [
        {
          "output_type": "execute_result",
          "data": {
            "text/plain": [
              "<matplotlib.axes._subplots.AxesSubplot at 0x7fc05a3042d0>"
            ]
          },
          "metadata": {},
          "execution_count": 100
        },
        {
          "output_type": "display_data",
          "data": {
            "text/plain": [
              "<Figure size 432x288 with 1 Axes>"
            ],
            "image/png": "[encoded data removed]"
          },
          "metadata": {
            "needs_background": "light"
          }
        }
      ]
    },
    {
      "cell_type": "code",
      "source": [
        "sns.jointplot(x = 'X4', y= 'X6', data = df, kind='kde', color = 'red')"
      ],
      "metadata": {
        "colab": {
          "base_uri": "https://localhost:8080/",
          "height": 458
        },
        "id": "EDSuhwCeN57o",
        "outputId": "be3e0e6d-db20-4628-dd37-37e4c8b86cd3"
      },
      "execution_count": 102,
      "outputs": [
        {
          "output_type": "execute_result",
          "data": {
            "text/plain": [
              "<seaborn.axisgrid.JointGrid at 0x7fc05a402bd0>"
            ]
          },
          "metadata": {},
          "execution_count": 102
        },
        {
          "output_type": "display_data",
          "data": {
            "text/plain": [
              "<Figure size 432x432 with 3 Axes>"
            ],
            "image/png": "[encoded data removed]"
          },
          "metadata": {
            "needs_background": "light"
          }
        }
      ]
    },
    {
      "cell_type": "code",
      "source": [
        "from sklearn.model_selection import train_test_split"
      ],
      "metadata": {
        "id": "nW_mwH1TOHu9"
      },
      "execution_count": 103,
      "outputs": []
    },
    {
      "cell_type": "code",
      "source": [
        "X = df.drop('X3', axis = 1)\n",
        "y = df['X3']\n",
        "X_train, X_test, y_train, y_test = train_test_split(X, y, test_size=0.30, random_state=7)"
      ],
      "metadata": {
        "id": "6uzTBS-mOQAx"
      },
      "execution_count": 104,
      "outputs": []
    },
    {
      "cell_type": "code",
      "source": [
        "from sklearn.ensemble import RandomForestClassifier"
      ],
      "metadata": {
        "id": "zrf1T0iaOYPc"
      },
      "execution_count": 105,
      "outputs": []
    },
    {
      "cell_type": "code",
      "source": [
        "X = df[['X3']].values \n",
        "Y = df[['X5']].values "
      ],
      "metadata": {
        "id": "J8o4tipuOgTe"
      },
      "execution_count": 106,
      "outputs": []
    },
    {
      "cell_type": "code",
      "source": [
        "from math import ceil\n",
        "import numpy as np\n",
        "from scipy import linalg  \n",
        " \n",
        " \n",
        "def lowess(x, y, f= 2. / 3., iter=3):\n",
        "    \n",
        "    n = len(x) # Number of x  points \n",
        "    r = int(ceil(f * n))  # Computing the residual of smoothing functions \n",
        "    h = [np.sort(np.abs(x - x[i]))[r] for i in range(n)] # \n",
        "    w = np.clip(np.abs((x[:, None] - x[None, :]) / h), 0.0, 1.0)  # Weight Function \n",
        "    w = (1 - w ** 3) ** 3  # Tricube Weight Function\n",
        "    ypred = np.zeros(n) # Initialisation of predictor \n",
        "    delta = np.ones(n)  # Initialisation of delta\n",
        "   \n",
        "    for iteration in range(iter):\n",
        "        for i in range(n):\n",
        "            weights = delta * w[:, i] # Cumulative Weights \n",
        "            b = np.array([np.sum(weights * y), np.sum(weights * y * x)]) # Matrix B\n",
        "            A = np.array([[np.sum(weights), np.sum(weights * x)],\n",
        "                          [np.sum(weights * x), np.sum(weights * x * x)]]) # Matrix A\n",
        "                      \n",
        "            beta = linalg.solve(A, b) # Beta,Solution of AX= B equation \n",
        "            ypred[i] = beta[0] + beta[1] * x[i]\n",
        "             \n",
        "        residuals = y - ypred   # Finding Residuals\n",
        "        s = np.median(np.abs(residuals))  # Median of Residuals\n",
        "        delta = np.clip(residuals / (6.0 * s), -1, 1)  # Delta\n",
        "        delta = (1 - delta ** 2) ** 2   # Delta \n",
        " \n",
        "    return ypred\n",
        " \n",
        "if __name__ == '__main__':  # Main Function\n",
        "    \n",
        "    import math\n",
        "    \n",
        "    n = 100  # Number of data points\n",
        "   \n",
        "    #Case1: Sinusoidal Fitting \n",
        "    x = X[:100].ravel()    \n",
        "    y = Y[:100].ravel()   # Noisy data\n",
        "       \n",
        "    \n",
        "    \n",
        "    f = 0.66\n",
        "    ypred = lowess(x, y, f=f, iter=3)  # Predicted Data\n",
        "    \n",
        "    import pylab as pl\n",
        "    pl.clf()\n",
        "    pl.plot(x, y, label='Y NOISY')\n",
        "    pl.plot(x, ypred, label='Y PREDICTED')\n",
        "    pl.legend()\n",
        "    pl.show()"
      ],
      "metadata": {
        "colab": {
          "base_uri": "https://localhost:8080/",
          "height": 265
        },
        "id": "56xWRQtAO0Xz",
        "outputId": "b80e1e86-5713-4b22-f82a-8761b2de2b33"
      },
      "execution_count": 107,
      "outputs": [
        {
          "output_type": "display_data",
          "data": {
            "text/plain": [
              "<Figure size 432x288 with 1 Axes>"
            ],
            "image/png": "[encoded data removed]"
          },
          "metadata": {
            "needs_background": "light"
          }
        }
      ]
    },
    {
      "cell_type": "code",
      "source": [
        "import dowhy\n",
        "from dowhy import CausalModel\n",
        "import dowhy.datasets\n",
        "\n",
        "import econml\n",
        "import warnings\n",
        "warnings.filterwarnings('ignore')\n",
        "\n",
        "BETA = 10"
      ],
      "metadata": {
        "id": "lDpir78-Q9rg"
      },
      "execution_count": 109,
      "outputs": []
    },
    {
      "cell_type": "code",
      "source": [
        "from econml.dml import DML\n",
        "from sklearn.linear_model import LassoCV\n",
        "from sklearn.ensemble import GradientBoostingRegressor\n",
        "est = DML(model_y=GradientBoostingRegressor(),\n",
        "          model_t=GradientBoostingRegressor(),\n",
        "          model_final=LassoCV(fit_intercept=False))"
      ],
      "metadata": {
        "id": "vNMhdvm2WWTn"
      },
      "execution_count": 115,
      "outputs": []
    },
    {
      "cell_type": "code",
      "source": [
        "import inspect\n",
        "import numpy as np\n",
        "import warnings\n",
        "from joblib import Parallel, delayed\n",
        "from sklearn.linear_model import LassoCV, Lasso, LinearRegression\n",
        "from sklearn.model_selection import KFold\n",
        "from sklearn.preprocessing import PolynomialFeatures\n",
        "from sklearn.ensemble import RandomForestRegressor\n",
        "\n",
        "\n",
        "def cross_product(X1, X2):\n",
        "    \n",
        "    assert np.shape(X1)[0] == np.shape(X2)[0]\n",
        "    return np.array([np.dot(X1[t].reshape(-1, 1), X2[t].reshape(1, -1)).flatten('F').T for t in range(np.shape(X1)[0])])\n",
        "\n",
        "\n",
        "class HeteroDML(object):\n",
        "    \n",
        "    def __init__(self, poly_degree=3,\n",
        "                            model_T=LassoCV(),\n",
        "                            model_Y=LassoCV()):\n",
        "        self.poly_degree = poly_degree\n",
        "        self.model_T = model_T\n",
        "        self.model_Y = model_Y\n",
        "        self.model_final = LinearRegression(fit_intercept=False)\n",
        "    \n",
        "    def fit(self, W, x, T, Y):\n",
        "        poly_x = PolynomialFeatures(degree=self.poly_degree, include_bias=True).fit_transform(x)\n",
        "        composite_W = cross_product(poly_x, W)\n",
        "\n",
        "        res_T = np.zeros(W.shape[0])\n",
        "        res_Y = np.zeros(W.shape[0])\n",
        "        \n",
        "        kf = KFold(n_splits=2)\n",
        "        for train_index, test_index in kf.split(W):\n",
        "            # Split the data in half, train and test\n",
        "            composite_W_train, W_train, T_train, Y_train = composite_W[train_index], W[train_index], T[train_index], Y[train_index]\n",
        "            composite_W_test, W_test, T_test, Y_test  = composite_W[test_index], W[test_index], T[test_index], Y[test_index]\n",
        "            \n",
        "            # Fit with LassoCV the treatment as a function of W and the outcome as\n",
        "            # a function of W, using only the train fold\n",
        "            self.model_T.fit(W_train, T_train)\n",
        "            self.model_Y.fit(composite_W_train, Y_train)\n",
        "            \n",
        "         \n",
        "            res_T[test_index] = (T_test - self.model_T.predict(W_test))\n",
        "            res_Y[test_index] = (Y_test - self.model_Y.predict(composite_W_test))\n",
        "        \n",
        "        self.model_final.fit(cross_product(poly_x, res_T.reshape(-1, 1)), res_Y.flatten())\n",
        "\n",
        "    \n",
        "    def predict(self, x):\n",
        "        poly_x = PolynomialFeatures(degree=self.poly_degree, include_bias=True).fit_transform(x)\n",
        "        return np.dot(poly_x, self.model_final.coef_.reshape(-1, 1)).flatten()\n",
        "\n",
        "\n",
        "class ForestHeteroDML(object):\n",
        "    \n",
        "    def __init__(self):\n",
        "        self.model_T = RandomForestRegressor(n_estimators=100, max_depth=10, min_samples_leaf=10)\n",
        "        self.model_Y = RandomForestRegressor(n_estimators=100, max_depth=10, min_samples_leaf=10)\n",
        "        self.model_final = RandomForestRegressor(n_estimators=100, max_depth=10, min_impurity_split=10)\n",
        "    \n",
        "    def fit(self, W, x, T, Y):\n",
        "\n",
        "        res_T = np.zeros(W.shape[0])\n",
        "        res_Y = np.zeros(W.shape[0])\n",
        "        \n",
        "        kf = KFold(n_splits=2)\n",
        "        for train_index, test_index in kf.split(W):\n",
        "            # Split the data in half, train and test\n",
        "            x_train, W_train, T_train, Y_train = x[train_index], W[train_index], T[train_index], Y[train_index]\n",
        "            x_test, W_test, T_test, Y_test  = x[test_index], W[test_index], T[test_index], Y[test_index]\n",
        "            \n",
        "            \n",
        "            self.model_T.fit(W_train, T_train)\n",
        "            self.model_Y.fit(np.concatenate((x_train, W_train), axis=1), Y_train)\n",
        "            \n",
        "           \n",
        "            res_T[test_index] = (T_test - self.model_T.predict(W_test))\n",
        "            res_Y[test_index] = (Y_test - self.model_Y.predict(np.concatenate((x_test, W_test), axis=1)))\n",
        "\n",
        "        self.model_final.fit(np.concatenate((x, res_T.reshape(-1, 1)), axis=1), res_Y.flatten())\n",
        "        self.res_T = res_T\n",
        "\n",
        "    \n",
        "    def predict(self, x):\n",
        "       \n",
        "        return np.mean([self.model_final.predict(np.concatenate((x, np.ones((x.shape[0],1))*t), axis=1)).flatten()/(t+0.00001) for  t in self.res_T.flatten()], axis=0).flatten()\n"
      ],
      "metadata": {
        "id": "517cZ4AhZfdD"
      },
      "execution_count": 122,
      "outputs": []
    },
    {
      "cell_type": "code",
      "source": [
        "from sklearn.model_selection import GridSearchCV\n",
        "# Define the hyperparameter configuration space\n",
        "rf_params = {\n",
        "    'n_estimators': [10, 20, 30],\n",
        "    #'max_features': ['sqrt',0.5],\n",
        "    'max_depth': [15,20,30,50],\n",
        "    #'min_samples_leaf': [1,2,4,8],\n",
        "    #\"bootstrap\":[True,False],\n",
        "    #\"criterion\":['mse','mae']\n",
        "}\n",
        "clf = RandomForestRegressor(random_state=0)\n",
        "grid = GridSearchCV(clf, rf_params, cv=3, scoring='neg_mean_squared_error')\n",
        "grid.fit(X, y)\n",
        "print(grid.best_params_)\n",
        "print(\"MSE:\"+ str(-grid.best_score_))"
      ],
      "metadata": {
        "colab": {
          "base_uri": "https://localhost:8080/"
        },
        "id": "Tbo20fK2-Pn0",
        "outputId": "7aedbc04-90af-4e04-fecf-c696052b2224"
      },
      "execution_count": 126,
      "outputs": [
        {
          "output_type": "stream",
          "name": "stdout",
          "text": [
            "{'max_depth': 20, 'n_estimators': 20}\n",
            "MSE:1.0562840272128313\n"
          ]
        }
      ]
    },
    {
      "cell_type": "code",
      "source": [
        "from sklearn.model_selection import GridSearchCV\n",
        "rf_params = {\n",
        "    'C': [1,10, 100],\n",
        "    \"kernel\":['poly','rbf','sigmoid'],\n",
        "    \"epsilon\":[0.01,0.1,1]\n",
        "}\n",
        "clf = SVR(gamma='scale')\n",
        "grid = GridSearchCV(clf, rf_params, cv=3, scoring='neg_mean_squared_error')\n",
        "grid.fit(X, y)\n",
        "print(grid.best_params_)\n",
        "print(\"MSE:\"+ str(-grid.best_score_))"
      ],
      "metadata": {
        "colab": {
          "base_uri": "https://localhost:8080/"
        },
        "id": "Kf57K-OZ-RMb",
        "outputId": "13a652a4-1308-4c02-b2a1-69a9b8d6f2b6"
      },
      "execution_count": 127,
      "outputs": [
        {
          "output_type": "stream",
          "name": "stdout",
          "text": [
            "{'C': 1, 'epsilon': 0.1, 'kernel': 'poly'}\n",
            "MSE:0.8004480314930628\n"
          ]
        }
      ]
    },
    {
      "cell_type": "code",
      "source": [
        "from sklearn.model_selection import GridSearchCV\n",
        "rf_params = {\n",
        "    'n_neighbors': [2, 3, 5, 7, 10]\n",
        "}\n",
        "clf = KNeighborsRegressor()\n",
        "grid = GridSearchCV(clf, rf_params, cv=3, scoring='neg_mean_squared_error')\n",
        "grid.fit(X, y)\n",
        "print(grid.best_params_)\n",
        "print(\"MSE:\"+ str(-grid.best_score_))"
      ],
      "metadata": {
        "colab": {
          "base_uri": "https://localhost:8080/"
        },
        "id": "P1ZSsV0u-Rl1",
        "outputId": "437420dd-06d4-4ada-bb0a-6ce759cf8282"
      },
      "execution_count": 128,
      "outputs": [
        {
          "output_type": "stream",
          "name": "stdout",
          "text": [
            "{'n_neighbors': 10}\n",
            "MSE:0.9304325488848337\n"
          ]
        }
      ]
    },
    {
      "cell_type": "code",
      "source": [
        "from sklearn.model_selection import GridSearchCV\n",
        "rf_params = {\n",
        "    'optimizer': ['adam','rmsprop'],\n",
        "    'activation': ['relu','tanh'],\n",
        "    'loss': ['mse','mae'],\n",
        "    'batch_size': [16,32],\n",
        "    'neurons':[16,32],\n",
        "    'epochs':[20,50],\n",
        "    'patience':[2,5]\n",
        "}\n",
        "clf = KerasRegressor(build_fn=ANN, verbose=0)\n",
        "grid = GridSearchCV(clf, rf_params, cv=3,scoring='neg_mean_squared_error')\n",
        "grid.fit(X, y)\n",
        "print(grid.best_params_)\n",
        "print(\"MSE:\"+ str(-grid.best_score_))"
      ],
      "metadata": {
        "colab": {
          "base_uri": "https://localhost:8080/"
        },
        "id": "g7fMko5gAQIT",
        "outputId": "8522de16-7586-47c6-8992-3448c52645b2"
      },
      "execution_count": 131,
      "outputs": [
        {
          "output_type": "stream",
          "name": "stdout",
          "text": [
            "{'activation': 'tanh', 'batch_size': 32, 'epochs': 50, 'loss': 'mae', 'neurons': 32, 'optimizer': 'adam', 'patience': 5}\n",
            "MSE:0.8025774287475474\n"
          ]
        }
      ]
    }
  ]
}